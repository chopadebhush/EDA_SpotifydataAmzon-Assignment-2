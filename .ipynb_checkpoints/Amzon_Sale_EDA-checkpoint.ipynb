{
 "cells": [
  {
   "cell_type": "markdown",
   "id": "33c477f5-0bb1-4366-b18b-d288457edec0",
   "metadata": {},
   "source": [
    "### `Amazon Sales Data`"
   ]
  },
  {
   "cell_type": "markdown",
   "id": "3f5184df-fd0e-4fb1-8fee-4c51737fcdf5",
   "metadata": {},
   "source": [
    "`Description:`\n",
    "\n",
    "This dataset contains information on #K+ Amazon products, including their ratings, reviews, and other details."
   ]
  },
  {
   "cell_type": "markdown",
   "id": "fea2f7fd-4ec1-41ec-be88-f023e473e1cb",
   "metadata": {},
   "source": [
    "#### `Features:`\n",
    "\n",
    "\n",
    "`product_id`: Unique identifier for each product\n",
    "\n",
    "`product_name`: Name of the product\n",
    "\n",
    "`category`: Category of the product\n",
    "\n",
    "`discounted_price`: Discounted price of the product\n",
    "\n",
    "`actual_price`: Actual price of the product\n",
    "\n",
    "`discount_percentage`: Percentage of discount for the product\n",
    "\n",
    "`rating`: Rating of the product (#-5)\n",
    "\n",
    "`rating_count`: Number of people who voted for the Amazon rating\n",
    "\n",
    "`about_product`: Description about the product\n",
    "\n",
    "`user_id`: ID of the user who wrote the review\n",
    "\n",
    "`user_name`: Name of the user who wrote the review\n",
    "\n",
    "`review_id`: ID of the user review\n",
    "\n",
    "`review_title`: Short review\n",
    "\n",
    "`review_content`: Long review\n",
    "\n",
    "`img_link`: Image link of the product\n",
    "\n",
    "`product_link`: Qfficial website link of the product"
   ]
  },
  {
   "cell_type": "markdown",
   "id": "ac3b1a73-5c01-4374-884d-e4c5bd0bd9d8",
   "metadata": {
    "tags": []
   },
   "source": [
    "### Import Necessary Library"
   ]
  },
  {
   "cell_type": "code",
   "execution_count": 1,
   "id": "1e25d51c-3794-4658-9b10-de3e0a5c99ec",
   "metadata": {},
   "outputs": [],
   "source": [
    "import numpy as np\n",
    "import pandas as pd\n",
    "import matplotlib.pyplot as plt\n",
    "import seaborn as sns\n",
    "import plotly.graph_objects as go\n",
    "import warnings\n",
    "warnings.filterwarnings(\"ignore\")"
   ]
  },
  {
   "cell_type": "markdown",
   "id": "f82a2ee5-14ee-4663-9024-c46877503b36",
   "metadata": {},
   "source": [
    "#### `Read the data`"
   ]
  },
  {
   "cell_type": "code",
   "execution_count": 2,
   "id": "d1bf48f5-5778-460f-80b7-e22c58fe3038",
   "metadata": {},
   "outputs": [
    {
     "data": {
      "text/html": [
       "<div>\n",
       "<style scoped>\n",
       "    .dataframe tbody tr th:only-of-type {\n",
       "        vertical-align: middle;\n",
       "    }\n",
       "\n",
       "    .dataframe tbody tr th {\n",
       "        vertical-align: top;\n",
       "    }\n",
       "\n",
       "    .dataframe thead th {\n",
       "        text-align: right;\n",
       "    }\n",
       "</style>\n",
       "<table border=\"1\" class=\"dataframe\">\n",
       "  <thead>\n",
       "    <tr style=\"text-align: right;\">\n",
       "      <th></th>\n",
       "      <th>product_id</th>\n",
       "      <th>product_name</th>\n",
       "      <th>category</th>\n",
       "      <th>discounted_price</th>\n",
       "      <th>actual_price</th>\n",
       "      <th>discount_percentage</th>\n",
       "      <th>rating</th>\n",
       "      <th>rating_count</th>\n",
       "      <th>about_product</th>\n",
       "      <th>user_id</th>\n",
       "      <th>user_name</th>\n",
       "      <th>review_id</th>\n",
       "      <th>review_title</th>\n",
       "      <th>review_content</th>\n",
       "      <th>img_link</th>\n",
       "      <th>product_link</th>\n",
       "    </tr>\n",
       "  </thead>\n",
       "  <tbody>\n",
       "    <tr>\n",
       "      <th>0</th>\n",
       "      <td>B07JW9H4J1</td>\n",
       "      <td>Wayona Nylon Braided USB to Lightning Fast Cha...</td>\n",
       "      <td>Computers&amp;Accessories|Accessories&amp;Peripherals|...</td>\n",
       "      <td>₹399</td>\n",
       "      <td>₹1,099</td>\n",
       "      <td>64%</td>\n",
       "      <td>4.2</td>\n",
       "      <td>24,269</td>\n",
       "      <td>High Compatibility : Compatible With iPhone 12...</td>\n",
       "      <td>AG3D6O4STAQKAY2UVGEUV46KN35Q,AHMY5CWJMMK5BJRBB...</td>\n",
       "      <td>Manav,Adarsh gupta,Sundeep,S.Sayeed Ahmed,jasp...</td>\n",
       "      <td>R3HXWT0LRP0NMF,R2AJM3LFTLZHFO,R6AQJGUP6P86,R1K...</td>\n",
       "      <td>Satisfied,Charging is really fast,Value for mo...</td>\n",
       "      <td>Looks durable Charging is fine tooNo complains...</td>\n",
       "      <td>https://m.media-amazon.com/images/W/WEBP_40237...</td>\n",
       "      <td>https://www.amazon.in/Wayona-Braided-WN3LG1-Sy...</td>\n",
       "    </tr>\n",
       "    <tr>\n",
       "      <th>1</th>\n",
       "      <td>B098NS6PVG</td>\n",
       "      <td>Ambrane Unbreakable 60W / 3A Fast Charging 1.5...</td>\n",
       "      <td>Computers&amp;Accessories|Accessories&amp;Peripherals|...</td>\n",
       "      <td>₹199</td>\n",
       "      <td>₹349</td>\n",
       "      <td>43%</td>\n",
       "      <td>4.0</td>\n",
       "      <td>43,994</td>\n",
       "      <td>Compatible with all Type C enabled devices, be...</td>\n",
       "      <td>AECPFYFQVRUWC3KGNLJIOREFP5LQ,AGYYVPDD7YG7FYNBX...</td>\n",
       "      <td>ArdKn,Nirbhay kumar,Sagar Viswanathan,Asp,Plac...</td>\n",
       "      <td>RGIQEG07R9HS2,R1SMWZQ86XIN8U,R2J3Y1WL29GWDE,RY...</td>\n",
       "      <td>A Good Braided Cable for Your Type C Device,Go...</td>\n",
       "      <td>I ordered this cable to connect my phone to An...</td>\n",
       "      <td>https://m.media-amazon.com/images/W/WEBP_40237...</td>\n",
       "      <td>https://www.amazon.in/Ambrane-Unbreakable-Char...</td>\n",
       "    </tr>\n",
       "    <tr>\n",
       "      <th>2</th>\n",
       "      <td>B096MSW6CT</td>\n",
       "      <td>Sounce Fast Phone Charging Cable &amp; Data Sync U...</td>\n",
       "      <td>Computers&amp;Accessories|Accessories&amp;Peripherals|...</td>\n",
       "      <td>₹199</td>\n",
       "      <td>₹1,899</td>\n",
       "      <td>90%</td>\n",
       "      <td>3.9</td>\n",
       "      <td>7,928</td>\n",
       "      <td>【 Fast Charger&amp; Data Sync】-With built-in safet...</td>\n",
       "      <td>AGU3BBQ2V2DDAMOAKGFAWDDQ6QHA,AESFLDV2PT363T2AQ...</td>\n",
       "      <td>Kunal,Himanshu,viswanath,sai niharka,saqib mal...</td>\n",
       "      <td>R3J3EQQ9TZI5ZJ,R3E7WBGK7ID0KV,RWU79XKQ6I1QF,R2...</td>\n",
       "      <td>Good speed for earlier versions,Good Product,W...</td>\n",
       "      <td>Not quite durable and sturdy,https://m.media-a...</td>\n",
       "      <td>https://m.media-amazon.com/images/W/WEBP_40237...</td>\n",
       "      <td>https://www.amazon.in/Sounce-iPhone-Charging-C...</td>\n",
       "    </tr>\n",
       "    <tr>\n",
       "      <th>3</th>\n",
       "      <td>B08HDJ86NZ</td>\n",
       "      <td>boAt Deuce USB 300 2 in 1 Type-C &amp; Micro USB S...</td>\n",
       "      <td>Computers&amp;Accessories|Accessories&amp;Peripherals|...</td>\n",
       "      <td>₹329</td>\n",
       "      <td>₹699</td>\n",
       "      <td>53%</td>\n",
       "      <td>4.2</td>\n",
       "      <td>94,363</td>\n",
       "      <td>The boAt Deuce USB 300 2 in 1 cable is compati...</td>\n",
       "      <td>AEWAZDZZJLQUYVOVGBEUKSLXHQ5A,AG5HTSFRRE6NL3M5S...</td>\n",
       "      <td>Omkar dhale,JD,HEMALATHA,Ajwadh a.,amar singh ...</td>\n",
       "      <td>R3EEUZKKK9J36I,R3HJVYCLYOY554,REDECAZ7AMPQC,R1...</td>\n",
       "      <td>Good product,Good one,Nice,Really nice product...</td>\n",
       "      <td>Good product,long wire,Charges good,Nice,I bou...</td>\n",
       "      <td>https://m.media-amazon.com/images/I/41V5FtEWPk...</td>\n",
       "      <td>https://www.amazon.in/Deuce-300-Resistant-Tang...</td>\n",
       "    </tr>\n",
       "    <tr>\n",
       "      <th>4</th>\n",
       "      <td>B08CF3B7N1</td>\n",
       "      <td>Portronics Konnect L 1.2M Fast Charging 3A 8 P...</td>\n",
       "      <td>Computers&amp;Accessories|Accessories&amp;Peripherals|...</td>\n",
       "      <td>₹154</td>\n",
       "      <td>₹399</td>\n",
       "      <td>61%</td>\n",
       "      <td>4.2</td>\n",
       "      <td>16,905</td>\n",
       "      <td>[CHARGE &amp; SYNC FUNCTION]- This cable comes wit...</td>\n",
       "      <td>AE3Q6KSUK5P75D5HFYHCRAOLODSA,AFUGIFH5ZAFXRDSZH...</td>\n",
       "      <td>rahuls6099,Swasat Borah,Ajay Wadke,Pranali,RVK...</td>\n",
       "      <td>R1BP4L2HH9TFUP,R16PVJEXKV6QZS,R2UPDB81N66T4P,R...</td>\n",
       "      <td>As good as original,Decent,Good one for second...</td>\n",
       "      <td>Bought this instead of original apple, does th...</td>\n",
       "      <td>https://m.media-amazon.com/images/W/WEBP_40237...</td>\n",
       "      <td>https://www.amazon.in/Portronics-Konnect-POR-1...</td>\n",
       "    </tr>\n",
       "  </tbody>\n",
       "</table>\n",
       "</div>"
      ],
      "text/plain": [
       "   product_id                                       product_name  \\\n",
       "0  B07JW9H4J1  Wayona Nylon Braided USB to Lightning Fast Cha...   \n",
       "1  B098NS6PVG  Ambrane Unbreakable 60W / 3A Fast Charging 1.5...   \n",
       "2  B096MSW6CT  Sounce Fast Phone Charging Cable & Data Sync U...   \n",
       "3  B08HDJ86NZ  boAt Deuce USB 300 2 in 1 Type-C & Micro USB S...   \n",
       "4  B08CF3B7N1  Portronics Konnect L 1.2M Fast Charging 3A 8 P...   \n",
       "\n",
       "                                            category discounted_price  \\\n",
       "0  Computers&Accessories|Accessories&Peripherals|...             ₹399   \n",
       "1  Computers&Accessories|Accessories&Peripherals|...             ₹199   \n",
       "2  Computers&Accessories|Accessories&Peripherals|...             ₹199   \n",
       "3  Computers&Accessories|Accessories&Peripherals|...             ₹329   \n",
       "4  Computers&Accessories|Accessories&Peripherals|...             ₹154   \n",
       "\n",
       "  actual_price discount_percentage rating rating_count  \\\n",
       "0       ₹1,099                 64%    4.2       24,269   \n",
       "1         ₹349                 43%    4.0       43,994   \n",
       "2       ₹1,899                 90%    3.9        7,928   \n",
       "3         ₹699                 53%    4.2       94,363   \n",
       "4         ₹399                 61%    4.2       16,905   \n",
       "\n",
       "                                       about_product  \\\n",
       "0  High Compatibility : Compatible With iPhone 12...   \n",
       "1  Compatible with all Type C enabled devices, be...   \n",
       "2  【 Fast Charger& Data Sync】-With built-in safet...   \n",
       "3  The boAt Deuce USB 300 2 in 1 cable is compati...   \n",
       "4  [CHARGE & SYNC FUNCTION]- This cable comes wit...   \n",
       "\n",
       "                                             user_id  \\\n",
       "0  AG3D6O4STAQKAY2UVGEUV46KN35Q,AHMY5CWJMMK5BJRBB...   \n",
       "1  AECPFYFQVRUWC3KGNLJIOREFP5LQ,AGYYVPDD7YG7FYNBX...   \n",
       "2  AGU3BBQ2V2DDAMOAKGFAWDDQ6QHA,AESFLDV2PT363T2AQ...   \n",
       "3  AEWAZDZZJLQUYVOVGBEUKSLXHQ5A,AG5HTSFRRE6NL3M5S...   \n",
       "4  AE3Q6KSUK5P75D5HFYHCRAOLODSA,AFUGIFH5ZAFXRDSZH...   \n",
       "\n",
       "                                           user_name  \\\n",
       "0  Manav,Adarsh gupta,Sundeep,S.Sayeed Ahmed,jasp...   \n",
       "1  ArdKn,Nirbhay kumar,Sagar Viswanathan,Asp,Plac...   \n",
       "2  Kunal,Himanshu,viswanath,sai niharka,saqib mal...   \n",
       "3  Omkar dhale,JD,HEMALATHA,Ajwadh a.,amar singh ...   \n",
       "4  rahuls6099,Swasat Borah,Ajay Wadke,Pranali,RVK...   \n",
       "\n",
       "                                           review_id  \\\n",
       "0  R3HXWT0LRP0NMF,R2AJM3LFTLZHFO,R6AQJGUP6P86,R1K...   \n",
       "1  RGIQEG07R9HS2,R1SMWZQ86XIN8U,R2J3Y1WL29GWDE,RY...   \n",
       "2  R3J3EQQ9TZI5ZJ,R3E7WBGK7ID0KV,RWU79XKQ6I1QF,R2...   \n",
       "3  R3EEUZKKK9J36I,R3HJVYCLYOY554,REDECAZ7AMPQC,R1...   \n",
       "4  R1BP4L2HH9TFUP,R16PVJEXKV6QZS,R2UPDB81N66T4P,R...   \n",
       "\n",
       "                                        review_title  \\\n",
       "0  Satisfied,Charging is really fast,Value for mo...   \n",
       "1  A Good Braided Cable for Your Type C Device,Go...   \n",
       "2  Good speed for earlier versions,Good Product,W...   \n",
       "3  Good product,Good one,Nice,Really nice product...   \n",
       "4  As good as original,Decent,Good one for second...   \n",
       "\n",
       "                                      review_content  \\\n",
       "0  Looks durable Charging is fine tooNo complains...   \n",
       "1  I ordered this cable to connect my phone to An...   \n",
       "2  Not quite durable and sturdy,https://m.media-a...   \n",
       "3  Good product,long wire,Charges good,Nice,I bou...   \n",
       "4  Bought this instead of original apple, does th...   \n",
       "\n",
       "                                            img_link  \\\n",
       "0  https://m.media-amazon.com/images/W/WEBP_40237...   \n",
       "1  https://m.media-amazon.com/images/W/WEBP_40237...   \n",
       "2  https://m.media-amazon.com/images/W/WEBP_40237...   \n",
       "3  https://m.media-amazon.com/images/I/41V5FtEWPk...   \n",
       "4  https://m.media-amazon.com/images/W/WEBP_40237...   \n",
       "\n",
       "                                        product_link  \n",
       "0  https://www.amazon.in/Wayona-Braided-WN3LG1-Sy...  \n",
       "1  https://www.amazon.in/Ambrane-Unbreakable-Char...  \n",
       "2  https://www.amazon.in/Sounce-iPhone-Charging-C...  \n",
       "3  https://www.amazon.in/Deuce-300-Resistant-Tang...  \n",
       "4  https://www.amazon.in/Portronics-Konnect-POR-1...  "
      ]
     },
     "execution_count": 2,
     "metadata": {},
     "output_type": "execute_result"
    }
   ],
   "source": [
    "df =pd.read_csv(\"amazon.csv\")\n",
    "df.head()"
   ]
  },
  {
   "cell_type": "code",
   "execution_count": 3,
   "id": "a396295c-5d0e-4c18-9add-26fea9b67951",
   "metadata": {},
   "outputs": [
    {
     "data": {
      "text/html": [
       "<div>\n",
       "<style scoped>\n",
       "    .dataframe tbody tr th:only-of-type {\n",
       "        vertical-align: middle;\n",
       "    }\n",
       "\n",
       "    .dataframe tbody tr th {\n",
       "        vertical-align: top;\n",
       "    }\n",
       "\n",
       "    .dataframe thead th {\n",
       "        text-align: right;\n",
       "    }\n",
       "</style>\n",
       "<table border=\"1\" class=\"dataframe\">\n",
       "  <thead>\n",
       "    <tr style=\"text-align: right;\">\n",
       "      <th></th>\n",
       "      <th>product_id</th>\n",
       "      <th>product_name</th>\n",
       "      <th>category</th>\n",
       "      <th>discounted_price</th>\n",
       "      <th>actual_price</th>\n",
       "      <th>discount_percentage</th>\n",
       "      <th>rating</th>\n",
       "      <th>rating_count</th>\n",
       "      <th>about_product</th>\n",
       "      <th>user_id</th>\n",
       "      <th>user_name</th>\n",
       "      <th>review_id</th>\n",
       "      <th>review_title</th>\n",
       "      <th>review_content</th>\n",
       "      <th>img_link</th>\n",
       "      <th>product_link</th>\n",
       "    </tr>\n",
       "  </thead>\n",
       "  <tbody>\n",
       "    <tr>\n",
       "      <th>1460</th>\n",
       "      <td>B08L7J3T31</td>\n",
       "      <td>Noir Aqua - 5pcs PP Spun Filter + 1 Spanner | ...</td>\n",
       "      <td>Home&amp;Kitchen|Kitchen&amp;HomeAppliances|WaterPurif...</td>\n",
       "      <td>₹379</td>\n",
       "      <td>₹919</td>\n",
       "      <td>59%</td>\n",
       "      <td>4</td>\n",
       "      <td>1,090</td>\n",
       "      <td>SUPREME QUALITY 90 GRAM 3 LAYER THIK PP SPUN F...</td>\n",
       "      <td>AHITFY6AHALOFOHOZEOC6XBP4FEA,AFRABBODZJZQB6Z4U...</td>\n",
       "      <td>Prabha ds,Raghuram bk,Real Deal,Amazon Custome...</td>\n",
       "      <td>R3G3XFHPBFF0E8,R3C0BZCD32EIGW,R2EBVBCN9QPD9R,R...</td>\n",
       "      <td>Received the product without spanner,Excellent...</td>\n",
       "      <td>I received product without spanner,Excellent p...</td>\n",
       "      <td>https://m.media-amazon.com/images/I/41fDdRtjfx...</td>\n",
       "      <td>https://www.amazon.in/Noir-Aqua-Spanner-Purifi...</td>\n",
       "    </tr>\n",
       "    <tr>\n",
       "      <th>1461</th>\n",
       "      <td>B01M6453MB</td>\n",
       "      <td>Prestige Delight PRWO Electric Rice Cooker (1 ...</td>\n",
       "      <td>Home&amp;Kitchen|Kitchen&amp;HomeAppliances|SmallKitch...</td>\n",
       "      <td>₹2,280</td>\n",
       "      <td>₹3,045</td>\n",
       "      <td>25%</td>\n",
       "      <td>4.1</td>\n",
       "      <td>4,118</td>\n",
       "      <td>230 Volts, 400 watts, 1 Year</td>\n",
       "      <td>AFG5FM3NEMOL6BNFRV2NK5FNJCHQ,AGEINTRN6Z563RMLH...</td>\n",
       "      <td>Manu Bhai,Naveenpittu,Evatira Sangma,JAGANNADH...</td>\n",
       "      <td>R3DDL2UPKQ2CK9,R2SYYU1OATVIU5,R1VM993161IYRW,R...</td>\n",
       "      <td>ok,everything was good couldn't return bcoz I ...</td>\n",
       "      <td>ok,got everything as mentioned but the measuri...</td>\n",
       "      <td>https://m.media-amazon.com/images/I/41gzDxk4+k...</td>\n",
       "      <td>https://www.amazon.in/Prestige-Delight-PRWO-1-...</td>\n",
       "    </tr>\n",
       "    <tr>\n",
       "      <th>1462</th>\n",
       "      <td>B009P2LIL4</td>\n",
       "      <td>Bajaj Majesty RX10 2000 Watts Heat Convector R...</td>\n",
       "      <td>Home&amp;Kitchen|Heating,Cooling&amp;AirQuality|RoomHe...</td>\n",
       "      <td>₹2,219</td>\n",
       "      <td>₹3,080</td>\n",
       "      <td>28%</td>\n",
       "      <td>3.6</td>\n",
       "      <td>468</td>\n",
       "      <td>International design and styling|Two heat sett...</td>\n",
       "      <td>AGVPWCMAHYQWJOQKMUJN4DW3KM5Q,AF4Q3E66MY4SR7YQZ...</td>\n",
       "      <td>Nehal Desai,Danish Parwez,Amazon Customer,Amaz...</td>\n",
       "      <td>R1TLRJVW4STY5I,R2O455KRN493R1,R3Q5MVGBRIAS2G,R...</td>\n",
       "      <td>very good,Work but front melt after 2 month,Go...</td>\n",
       "      <td>plastic but cool body ,u have to find sturdy s...</td>\n",
       "      <td>https://m.media-amazon.com/images/W/WEBP_40237...</td>\n",
       "      <td>https://www.amazon.in/Bajaj-RX-10-2000-Watt-Co...</td>\n",
       "    </tr>\n",
       "    <tr>\n",
       "      <th>1463</th>\n",
       "      <td>B00J5DYCCA</td>\n",
       "      <td>Havells Ventil Air DSP 230mm Exhaust Fan (Pist...</td>\n",
       "      <td>Home&amp;Kitchen|Heating,Cooling&amp;AirQuality|Fans|E...</td>\n",
       "      <td>₹1,399</td>\n",
       "      <td>₹1,890</td>\n",
       "      <td>26%</td>\n",
       "      <td>4</td>\n",
       "      <td>8,031</td>\n",
       "      <td>Fan sweep area: 230 MM ; Noise level: (40 - 45...</td>\n",
       "      <td>AF2JQCLSCY3QJATWUNNHUSVUPNQQ,AFDMLUXC5LS5RXDJS...</td>\n",
       "      <td>Shubham Dubey,E.GURUBARAN,Mayank S.,eusuf khan...</td>\n",
       "      <td>R39Q2Y79MM9SWK,R3079BG1NIH6MB,R29A31ZELTZNJM,R...</td>\n",
       "      <td>Fan Speed is slow,Good quality,Good product,go...</td>\n",
       "      <td>I have installed this in my kitchen working fi...</td>\n",
       "      <td>https://m.media-amazon.com/images/W/WEBP_40237...</td>\n",
       "      <td>https://www.amazon.in/Havells-Ventilair-230mm-...</td>\n",
       "    </tr>\n",
       "    <tr>\n",
       "      <th>1464</th>\n",
       "      <td>B01486F4G6</td>\n",
       "      <td>Borosil Jumbo 1000-Watt Grill Sandwich Maker (...</td>\n",
       "      <td>Home&amp;Kitchen|Kitchen&amp;HomeAppliances|SmallKitch...</td>\n",
       "      <td>₹2,863</td>\n",
       "      <td>₹3,690</td>\n",
       "      <td>22%</td>\n",
       "      <td>4.3</td>\n",
       "      <td>6,987</td>\n",
       "      <td>Brand-Borosil, Specification â€“ 23V ~ 5Hz;1 W...</td>\n",
       "      <td>AFGW5PT3R6ZAVQR4Y5MWVAKBZAYA,AG7QNJ2SCS5VS5VYY...</td>\n",
       "      <td>Rajib,Ajay B,Vikas Kahol,PARDEEP,Anindya Prama...</td>\n",
       "      <td>R20RBRZ0WEUJT9,ROKIFK9R2ISSE,R30EEG2FNJSN5I,R2...</td>\n",
       "      <td>Works perfect,Ok good product,Nice Product. Re...</td>\n",
       "      <td>It does it job perfectly..only issue is temp c...</td>\n",
       "      <td>https://m.media-amazon.com/images/W/WEBP_40237...</td>\n",
       "      <td>https://www.amazon.in/Borosil-Jumbo-1000-Watt-...</td>\n",
       "    </tr>\n",
       "  </tbody>\n",
       "</table>\n",
       "</div>"
      ],
      "text/plain": [
       "      product_id                                       product_name  \\\n",
       "1460  B08L7J3T31  Noir Aqua - 5pcs PP Spun Filter + 1 Spanner | ...   \n",
       "1461  B01M6453MB  Prestige Delight PRWO Electric Rice Cooker (1 ...   \n",
       "1462  B009P2LIL4  Bajaj Majesty RX10 2000 Watts Heat Convector R...   \n",
       "1463  B00J5DYCCA  Havells Ventil Air DSP 230mm Exhaust Fan (Pist...   \n",
       "1464  B01486F4G6  Borosil Jumbo 1000-Watt Grill Sandwich Maker (...   \n",
       "\n",
       "                                               category discounted_price  \\\n",
       "1460  Home&Kitchen|Kitchen&HomeAppliances|WaterPurif...             ₹379   \n",
       "1461  Home&Kitchen|Kitchen&HomeAppliances|SmallKitch...           ₹2,280   \n",
       "1462  Home&Kitchen|Heating,Cooling&AirQuality|RoomHe...           ₹2,219   \n",
       "1463  Home&Kitchen|Heating,Cooling&AirQuality|Fans|E...           ₹1,399   \n",
       "1464  Home&Kitchen|Kitchen&HomeAppliances|SmallKitch...           ₹2,863   \n",
       "\n",
       "     actual_price discount_percentage rating rating_count  \\\n",
       "1460         ₹919                 59%      4        1,090   \n",
       "1461       ₹3,045                 25%    4.1        4,118   \n",
       "1462       ₹3,080                 28%    3.6          468   \n",
       "1463       ₹1,890                 26%      4        8,031   \n",
       "1464       ₹3,690                 22%    4.3        6,987   \n",
       "\n",
       "                                          about_product  \\\n",
       "1460  SUPREME QUALITY 90 GRAM 3 LAYER THIK PP SPUN F...   \n",
       "1461                       230 Volts, 400 watts, 1 Year   \n",
       "1462  International design and styling|Two heat sett...   \n",
       "1463  Fan sweep area: 230 MM ; Noise level: (40 - 45...   \n",
       "1464  Brand-Borosil, Specification â€“ 23V ~ 5Hz;1 W...   \n",
       "\n",
       "                                                user_id  \\\n",
       "1460  AHITFY6AHALOFOHOZEOC6XBP4FEA,AFRABBODZJZQB6Z4U...   \n",
       "1461  AFG5FM3NEMOL6BNFRV2NK5FNJCHQ,AGEINTRN6Z563RMLH...   \n",
       "1462  AGVPWCMAHYQWJOQKMUJN4DW3KM5Q,AF4Q3E66MY4SR7YQZ...   \n",
       "1463  AF2JQCLSCY3QJATWUNNHUSVUPNQQ,AFDMLUXC5LS5RXDJS...   \n",
       "1464  AFGW5PT3R6ZAVQR4Y5MWVAKBZAYA,AG7QNJ2SCS5VS5VYY...   \n",
       "\n",
       "                                              user_name  \\\n",
       "1460  Prabha ds,Raghuram bk,Real Deal,Amazon Custome...   \n",
       "1461  Manu Bhai,Naveenpittu,Evatira Sangma,JAGANNADH...   \n",
       "1462  Nehal Desai,Danish Parwez,Amazon Customer,Amaz...   \n",
       "1463  Shubham Dubey,E.GURUBARAN,Mayank S.,eusuf khan...   \n",
       "1464  Rajib,Ajay B,Vikas Kahol,PARDEEP,Anindya Prama...   \n",
       "\n",
       "                                              review_id  \\\n",
       "1460  R3G3XFHPBFF0E8,R3C0BZCD32EIGW,R2EBVBCN9QPD9R,R...   \n",
       "1461  R3DDL2UPKQ2CK9,R2SYYU1OATVIU5,R1VM993161IYRW,R...   \n",
       "1462  R1TLRJVW4STY5I,R2O455KRN493R1,R3Q5MVGBRIAS2G,R...   \n",
       "1463  R39Q2Y79MM9SWK,R3079BG1NIH6MB,R29A31ZELTZNJM,R...   \n",
       "1464  R20RBRZ0WEUJT9,ROKIFK9R2ISSE,R30EEG2FNJSN5I,R2...   \n",
       "\n",
       "                                           review_title  \\\n",
       "1460  Received the product without spanner,Excellent...   \n",
       "1461  ok,everything was good couldn't return bcoz I ...   \n",
       "1462  very good,Work but front melt after 2 month,Go...   \n",
       "1463  Fan Speed is slow,Good quality,Good product,go...   \n",
       "1464  Works perfect,Ok good product,Nice Product. Re...   \n",
       "\n",
       "                                         review_content  \\\n",
       "1460  I received product without spanner,Excellent p...   \n",
       "1461  ok,got everything as mentioned but the measuri...   \n",
       "1462  plastic but cool body ,u have to find sturdy s...   \n",
       "1463  I have installed this in my kitchen working fi...   \n",
       "1464  It does it job perfectly..only issue is temp c...   \n",
       "\n",
       "                                               img_link  \\\n",
       "1460  https://m.media-amazon.com/images/I/41fDdRtjfx...   \n",
       "1461  https://m.media-amazon.com/images/I/41gzDxk4+k...   \n",
       "1462  https://m.media-amazon.com/images/W/WEBP_40237...   \n",
       "1463  https://m.media-amazon.com/images/W/WEBP_40237...   \n",
       "1464  https://m.media-amazon.com/images/W/WEBP_40237...   \n",
       "\n",
       "                                           product_link  \n",
       "1460  https://www.amazon.in/Noir-Aqua-Spanner-Purifi...  \n",
       "1461  https://www.amazon.in/Prestige-Delight-PRWO-1-...  \n",
       "1462  https://www.amazon.in/Bajaj-RX-10-2000-Watt-Co...  \n",
       "1463  https://www.amazon.in/Havells-Ventilair-230mm-...  \n",
       "1464  https://www.amazon.in/Borosil-Jumbo-1000-Watt-...  "
      ]
     },
     "execution_count": 3,
     "metadata": {},
     "output_type": "execute_result"
    }
   ],
   "source": [
    "df.tail()"
   ]
  },
  {
   "cell_type": "code",
   "execution_count": 4,
   "id": "a14c9aee-ff82-4282-a8d7-55de72243f85",
   "metadata": {},
   "outputs": [
    {
     "data": {
      "text/plain": [
       "(1465, 16)"
      ]
     },
     "execution_count": 4,
     "metadata": {},
     "output_type": "execute_result"
    }
   ],
   "source": [
    "df.shape"
   ]
  },
  {
   "cell_type": "code",
   "execution_count": 5,
   "id": "c08c0e55-b29c-4259-8b41-3eb6b6025f83",
   "metadata": {},
   "outputs": [
    {
     "data": {
      "text/plain": [
       "23440"
      ]
     },
     "execution_count": 5,
     "metadata": {},
     "output_type": "execute_result"
    }
   ],
   "source": [
    "df.size"
   ]
  },
  {
   "cell_type": "markdown",
   "id": "40cb13b6-2ff0-43d0-8754-05ed3e7b7db5",
   "metadata": {},
   "source": [
    "### `Check Duplicate values`"
   ]
  },
  {
   "cell_type": "code",
   "execution_count": 6,
   "id": "5cc5fb3e-b350-433a-b669-575115c664cd",
   "metadata": {},
   "outputs": [
    {
     "data": {
      "text/plain": [
       "0"
      ]
     },
     "execution_count": 6,
     "metadata": {},
     "output_type": "execute_result"
    }
   ],
   "source": [
    "df.duplicated().sum()"
   ]
  },
  {
   "cell_type": "markdown",
   "id": "95a7b197-d82b-4809-96aa-29856247bc1b",
   "metadata": {},
   "source": [
    "### `Check Nan Values `"
   ]
  },
  {
   "cell_type": "code",
   "execution_count": 7,
   "id": "ab52faf1-143c-44e6-8cec-e8506ad8785b",
   "metadata": {},
   "outputs": [
    {
     "data": {
      "text/plain": [
       "product_id             0\n",
       "product_name           0\n",
       "category               0\n",
       "discounted_price       0\n",
       "actual_price           0\n",
       "discount_percentage    0\n",
       "rating                 0\n",
       "rating_count           2\n",
       "about_product          0\n",
       "user_id                0\n",
       "user_name              0\n",
       "review_id              0\n",
       "review_title           0\n",
       "review_content         0\n",
       "img_link               0\n",
       "product_link           0\n",
       "dtype: int64"
      ]
     },
     "execution_count": 7,
     "metadata": {},
     "output_type": "execute_result"
    }
   ],
   "source": [
    "df.isnull().sum()"
   ]
  },
  {
   "cell_type": "code",
   "execution_count": 8,
   "id": "665af757-d3f7-4ccf-9b58-a0570cd841ac",
   "metadata": {},
   "outputs": [
    {
     "name": "stdout",
     "output_type": "stream",
     "text": [
      "<class 'pandas.core.frame.DataFrame'>\n",
      "RangeIndex: 1465 entries, 0 to 1464\n",
      "Data columns (total 16 columns):\n",
      " #   Column               Non-Null Count  Dtype \n",
      "---  ------               --------------  ----- \n",
      " 0   product_id           1465 non-null   object\n",
      " 1   product_name         1465 non-null   object\n",
      " 2   category             1465 non-null   object\n",
      " 3   discounted_price     1465 non-null   object\n",
      " 4   actual_price         1465 non-null   object\n",
      " 5   discount_percentage  1465 non-null   object\n",
      " 6   rating               1465 non-null   object\n",
      " 7   rating_count         1463 non-null   object\n",
      " 8   about_product        1465 non-null   object\n",
      " 9   user_id              1465 non-null   object\n",
      " 10  user_name            1465 non-null   object\n",
      " 11  review_id            1465 non-null   object\n",
      " 12  review_title         1465 non-null   object\n",
      " 13  review_content       1465 non-null   object\n",
      " 14  img_link             1465 non-null   object\n",
      " 15  product_link         1465 non-null   object\n",
      "dtypes: object(16)\n",
      "memory usage: 183.2+ KB\n"
     ]
    }
   ],
   "source": [
    "df.info()"
   ]
  },
  {
   "cell_type": "code",
   "execution_count": 9,
   "id": "004a3036-2bf9-4be9-baa2-4e9aa9262795",
   "metadata": {},
   "outputs": [],
   "source": [
    "def UniqueVal(col):\n",
    "    for i in col :\n",
    "        print(f\"{i} ==> Unique values are ==>{df[i].unique()}\")\n",
    "        print(\"=============================================================================================\")"
   ]
  },
  {
   "cell_type": "code",
   "execution_count": 10,
   "id": "8584d604-85c2-49ef-a7cb-e312c2afb82b",
   "metadata": {},
   "outputs": [
    {
     "name": "stdout",
     "output_type": "stream",
     "text": [
      "product_id ==> Unique values are ==>['B07JW9H4J1' 'B098NS6PVG' 'B096MSW6CT' ... 'B009P2LIL4' 'B00J5DYCCA'\n",
      " 'B01486F4G6']\n",
      "=============================================================================================\n",
      "product_name ==> Unique values are ==>['Wayona Nylon Braided USB to Lightning Fast Charging and Data Sync Cable Compatible for iPhone 13, 12,11, X, 8, 7, 6, 5, iPad Air, Pro, Mini (3 FT Pack of 1, Grey)'\n",
      " 'Ambrane Unbreakable 60W / 3A Fast Charging 1.5m Braided Type C Cable for Smartphones, Tablets, Laptops & other Type C devices, PD Technology, 480Mbps Data Sync, Quick Charge 3.0 (RCT15A, Black)'\n",
      " 'Sounce Fast Phone Charging Cable & Data Sync USB Cable Compatible for iPhone 13, 12,11, X, 8, 7, 6, 5, iPad Air, Pro, Mini & iOS Devices'\n",
      " ...\n",
      " 'Bajaj Majesty RX10 2000 Watts Heat Convector Room Heater (White, ISI Approved)'\n",
      " 'Havells Ventil Air DSP 230mm Exhaust Fan (Pista Green)'\n",
      " 'Borosil Jumbo 1000-Watt Grill Sandwich Maker (Black)']\n",
      "=============================================================================================\n",
      "category ==> Unique values are ==>['Computers&Accessories|Accessories&Peripherals|Cables&Accessories|Cables|USBCables'\n",
      " 'Computers&Accessories|NetworkingDevices|NetworkAdapters|WirelessUSBAdapters'\n",
      " 'Electronics|HomeTheater,TV&Video|Accessories|Cables|HDMICables'\n",
      " 'Electronics|HomeTheater,TV&Video|Televisions|SmartTelevisions'\n",
      " 'Electronics|HomeTheater,TV&Video|Accessories|RemoteControls'\n",
      " 'Electronics|HomeTheater,TV&Video|Televisions|StandardTelevisions'\n",
      " 'Electronics|HomeTheater,TV&Video|Accessories|TVMounts,Stands&Turntables|TVWall&CeilingMounts'\n",
      " 'Electronics|HomeTheater,TV&Video|Accessories|Cables|RCACables'\n",
      " 'Electronics|HomeAudio|Accessories|SpeakerAccessories|Mounts'\n",
      " 'Electronics|HomeTheater,TV&Video|Accessories|Cables|OpticalCables'\n",
      " 'Electronics|HomeTheater,TV&Video|Projectors'\n",
      " 'Electronics|HomeAudio|Accessories|Adapters'\n",
      " 'Electronics|HomeTheater,TV&Video|SatelliteEquipment|SatelliteReceivers'\n",
      " 'Computers&Accessories|Accessories&Peripherals|Cables&Accessories|Cables|DVICables'\n",
      " 'Electronics|HomeTheater,TV&Video|Accessories|Cables|SpeakerCables'\n",
      " 'Electronics|HomeAudio|MediaStreamingDevices|StreamingClients'\n",
      " 'Electronics|HomeTheater,TV&Video|AVReceivers&Amplifiers'\n",
      " 'Electronics|HomeAudio|Speakers|TowerSpeakers'\n",
      " 'Electronics|HomeTheater,TV&Video|Accessories|3DGlasses'\n",
      " 'Electronics|WearableTechnology|SmartWatches'\n",
      " 'Electronics|Mobiles&Accessories|MobileAccessories|Chargers|PowerBanks'\n",
      " 'Electronics|Mobiles&Accessories|Smartphones&BasicMobiles|Smartphones'\n",
      " 'Electronics|Accessories|MemoryCards|MicroSD'\n",
      " 'Electronics|Mobiles&Accessories|Smartphones&BasicMobiles|BasicMobiles'\n",
      " 'Electronics|Headphones,Earbuds&Accessories|Headphones|In-Ear'\n",
      " 'Electronics|Mobiles&Accessories|MobileAccessories|Chargers|AutomobileChargers'\n",
      " 'Electronics|Mobiles&Accessories|MobileAccessories|AutomobileAccessories|Cradles'\n",
      " 'Electronics|Mobiles&Accessories|MobileAccessories|Chargers|WallChargers'\n",
      " 'Electronics|Mobiles&Accessories|MobileAccessories|Cables&Adapters|OTGAdapters'\n",
      " 'Electronics|Mobiles&Accessories|MobileAccessories|Photo&VideoAccessories|Tripods'\n",
      " 'Electronics|Mobiles&Accessories|MobileAccessories|Photo&VideoAccessories|SelfieSticks'\n",
      " 'Electronics|Mobiles&Accessories|MobileAccessories|Stands'\n",
      " 'Computers&Accessories|Accessories&Peripherals|Cables&Accessories|CableConnectionProtectors'\n",
      " 'Electronics|Mobiles&Accessories|MobileAccessories|Décor'\n",
      " 'Electronics|Mobiles&Accessories|MobileAccessories|Maintenance,Upkeep&Repairs|ScreenProtectors'\n",
      " 'Electronics|Mobiles&Accessories|MobileAccessories|StylusPens'\n",
      " 'Electronics|Mobiles&Accessories|MobileAccessories|Mounts|Bedstand&DeskMounts'\n",
      " 'Electronics|Mobiles&Accessories|MobileAccessories|Cases&Covers|BasicCases'\n",
      " 'Electronics|Mobiles&Accessories|MobileAccessories|Mounts|HandlebarMounts'\n",
      " 'Electronics|Headphones,Earbuds&Accessories|Headphones|On-Ear'\n",
      " 'Computers&Accessories|Accessories&Peripherals|LaptopAccessories|CameraPrivacyCovers'\n",
      " 'Electronics|Headphones,Earbuds&Accessories|Adapters'\n",
      " 'Electronics|Mobiles&Accessories|MobileAccessories|Décor|PhoneCharms'\n",
      " 'Electronics|Mobiles&Accessories|MobileAccessories|Mounts|Shower&WallMounts'\n",
      " 'Computers&Accessories|ExternalDevices&DataStorage|PenDrives'\n",
      " 'Computers&Accessories|Accessories&Peripherals|Keyboards,Mice&InputDevices|Mice'\n",
      " 'Computers&Accessories|Accessories&Peripherals|Keyboards,Mice&InputDevices|GraphicTablets'\n",
      " 'Computers&Accessories|Accessories&Peripherals|LaptopAccessories|Lapdesks'\n",
      " 'Computers&Accessories|Accessories&Peripherals|LaptopAccessories|NotebookComputerStands'\n",
      " 'Computers&Accessories|Accessories&Peripherals|Keyboards,Mice&InputDevices|Keyboards'\n",
      " 'MusicalInstruments|Microphones|Condenser'\n",
      " 'Electronics|GeneralPurposeBatteries&BatteryChargers|DisposableBatteries'\n",
      " 'OfficeProducts|OfficePaperProducts|Paper|Stationery|Pens,Pencils&WritingSupplies|Pens&Refills|GelInkRollerballPens'\n",
      " 'Home&Kitchen|CraftMaterials|Scrapbooking|Tape'\n",
      " 'Computers&Accessories|Accessories&Peripherals|Keyboards,Mice&InputDevices|Keyboard&MouseSets'\n",
      " 'Computers&Accessories|ExternalDevices&DataStorage|ExternalHardDisks'\n",
      " 'Electronics|Cameras&Photography|VideoCameras'\n",
      " 'Electronics|Cameras&Photography|Accessories|Tripods&Monopods|Tabletop&TravelTripods'\n",
      " 'OfficeProducts|OfficeElectronics|Calculators|Scientific'\n",
      " 'Computers&Accessories|NetworkingDevices|Repeaters&Extenders'\n",
      " 'Electronics|Cameras&Photography|Accessories|Tripods&Monopods|TripodLegs'\n",
      " 'Computers&Accessories|Printers,Inks&Accessories|Inks,Toners&Cartridges|InkjetInkCartridges'\n",
      " 'Computers&Accessories|Accessories&Peripherals|Keyboards,Mice&InputDevices|Keyboard&MiceAccessories|DustCovers'\n",
      " 'Computers&Accessories|Accessories&Peripherals|PCGamingPeripherals|GamingMice'\n",
      " 'Home&Kitchen|CraftMaterials|PaintingMaterials|Paints'\n",
      " 'Computers&Accessories|Accessories&Peripherals|Keyboards,Mice&InputDevices|Keyboard&MiceAccessories|MousePads'\n",
      " 'Computers&Accessories|Accessories&Peripherals|HardDiskBags'\n",
      " 'Electronics|Cameras&Photography|Flashes|Macro&RinglightFlashes'\n",
      " 'Computers&Accessories|NetworkingDevices'\n",
      " 'Computers&Accessories|NetworkingDevices|Routers'\n",
      " 'Electronics|Headphones,Earbuds&Accessories|Headphones|Over-Ear'\n",
      " 'Electronics|HomeAudio|Speakers|BluetoothSpeakers'\n",
      " 'Electronics|GeneralPurposeBatteries&BatteryChargers'\n",
      " 'OfficeProducts|OfficePaperProducts|Paper|Stationery|Notebooks,WritingPads&Diaries|WireboundNotebooks'\n",
      " 'Electronics|GeneralPurposeBatteries&BatteryChargers|RechargeableBatteries'\n",
      " 'Computers&Accessories|NetworkingDevices|NetworkAdapters|BluetoothAdapters'\n",
      " 'Computers&Accessories|Accessories&Peripherals|Adapters|USBtoUSBAdapters'\n",
      " 'Electronics|Cameras&Photography|Accessories|Tripods&Monopods|CompleteTripodUnits'\n",
      " 'OfficeProducts|OfficePaperProducts|Paper|Stationery|Notebooks,WritingPads&Diaries|Notepads&MemoBooks'\n",
      " 'Electronics|Cameras&Photography|Accessories|Film'\n",
      " 'Computers&Accessories|Monitors'\n",
      " 'Computers&Accessories|Accessories&Peripherals|USBGadgets|Lamps'\n",
      " 'Electronics|Cameras&Photography|Accessories|Cleaners|CleaningKits'\n",
      " 'Electronics|Cameras&Photography|SecurityCameras|DomeCameras'\n",
      " 'Computers&Accessories|Accessories&Peripherals|TabletAccessories|ScreenProtectors'\n",
      " 'Computers&Accessories|Accessories&Peripherals|PCGamingPeripherals|Gamepads'\n",
      " 'OfficeProducts|OfficeElectronics|Calculators|Basic'\n",
      " 'Computers&Accessories|Accessories&Peripherals|USBHubs'\n",
      " 'Computers&Accessories|Accessories&Peripherals|Audio&VideoAccessories|PCMicrophones'\n",
      " 'Electronics|HomeAudio|Speakers|OutdoorSpeakers'\n",
      " 'Computers&Accessories|Accessories&Peripherals|LaptopAccessories|Bags&Sleeves|LaptopSleeves&Slipcases'\n",
      " 'Computers&Accessories|ExternalDevices&DataStorage|ExternalMemoryCardReaders'\n",
      " 'OfficeProducts|OfficePaperProducts|Paper|Stationery|Pens,Pencils&WritingSupplies|Pens&Refills|BottledInk'\n",
      " 'OfficeProducts|OfficePaperProducts|Paper|Stationery|Notebooks,WritingPads&Diaries|CompositionNotebooks'\n",
      " 'OfficeProducts|OfficePaperProducts|Paper|Stationery|Pens,Pencils&WritingSupplies|Pens&Refills|RetractableBallpointPens'\n",
      " 'Computers&Accessories|Accessories&Peripherals|Cables&Accessories|Cables|EthernetCables'\n",
      " 'Computers&Accessories|Components|Memory'\n",
      " 'Computers&Accessories|Accessories&Peripherals|UninterruptedPowerSupplies'\n",
      " 'Electronics|Headphones,Earbuds&Accessories|Cases'\n",
      " 'Electronics|Accessories|MemoryCards|SecureDigitalCards'\n",
      " 'Electronics|Mobiles&Accessories|MobileAccessories|Photo&VideoAccessories|Flashes&SelfieLights|SelfieLights'\n",
      " 'Computers&Accessories|Accessories&Peripherals|Audio&VideoAccessories|Webcams&VoIPEquipment|Webcams'\n",
      " 'Computers&Accessories|Accessories&Peripherals|LaptopAccessories|CoolingPads'\n",
      " 'Computers&Accessories|Accessories&Peripherals|LaptopAccessories'\n",
      " 'Computers&Accessories|Accessories&Peripherals|TabletAccessories|Stands'\n",
      " 'HomeImprovement|Electrical|Adapters&Multi-Outlets'\n",
      " 'OfficeProducts|OfficePaperProducts|Paper|Copy&PrintingPaper|ColouredPaper'\n",
      " 'Computers&Accessories|Components|InternalSolidStateDrives'\n",
      " 'Electronics|HomeAudio|Speakers|MultimediaSpeakerSystems'\n",
      " 'Computers&Accessories|NetworkingDevices|DataCards&Dongles'\n",
      " 'Computers&Accessories|Accessories&Peripherals|LaptopAccessories|LaptopChargers&PowerSupplies'\n",
      " 'Computers&Accessories|Accessories&Peripherals|Audio&VideoAccessories|PCSpeakers'\n",
      " 'Electronics|Cameras&Photography|Accessories|Batteries&Chargers|BatteryChargers'\n",
      " 'Computers&Accessories|Accessories&Peripherals|TabletAccessories|Bags,Cases&Sleeves|Cases'\n",
      " 'OfficeProducts|OfficePaperProducts|Paper|Stationery|Pens,Pencils&WritingSupplies|Pens&Refills|StickBallpointPens'\n",
      " 'Home&Kitchen|CraftMaterials|DrawingMaterials|DrawingMedia|Pencils|WoodenPencils'\n",
      " 'Computers&Accessories|Components|InternalHardDrives'\n",
      " 'Computers&Accessories|Printers,Inks&Accessories|Printers'\n",
      " 'Home&Kitchen|CraftMaterials|DrawingMaterials|DrawingMedia|Pens'\n",
      " 'Computers&Accessories|Accessories&Peripherals|Cables&Accessories|Cables|SATACables'\n",
      " 'Computers&Accessories|Accessories&Peripherals|Audio&VideoAccessories|PCHeadsets'\n",
      " 'Computers&Accessories|Accessories&Peripherals|PCGamingPeripherals|GamingKeyboards'\n",
      " 'Electronics|HomeAudio|Speakers|SoundbarSpeakers'\n",
      " 'Electronics|Headphones,Earbuds&Accessories|Earpads'\n",
      " 'Computers&Accessories|Printers,Inks&Accessories|Printers|InkjetPrinters'\n",
      " 'Toys&Games|Arts&Crafts|Drawing&PaintingSupplies|ColouringPens&Markers'\n",
      " 'Computers&Accessories|Accessories&Peripherals|PCGamingPeripherals|Headsets'\n",
      " 'Computers&Accessories|ExternalDevices&DataStorage|ExternalSolidStateDrives'\n",
      " 'Computers&Accessories|NetworkingDevices|NetworkAdapters|PowerLANAdapters'\n",
      " 'Computers&Accessories|Printers,Inks&Accessories|Inks,Toners&Cartridges|InkjetInkRefills&Kits'\n",
      " 'OfficeProducts|OfficePaperProducts|Paper|Stationery|Notebooks,WritingPads&Diaries'\n",
      " 'Electronics|Cameras&Photography|Accessories|PhotoStudio&Lighting|PhotoBackgroundAccessories|BackgroundSupports'\n",
      " 'OfficeProducts|OfficeElectronics|Calculators|Financial&Business'\n",
      " 'Electronics|PowerAccessories|SurgeProtectors'\n",
      " 'Computers&Accessories|Tablets'\n",
      " 'HomeImprovement|Electrical|CordManagement'\n",
      " 'Home&Kitchen|CraftMaterials|PaintingMaterials'\n",
      " 'Computers&Accessories|Printers,Inks&Accessories|Inks,Toners&Cartridges|TonerCartridges'\n",
      " 'OfficeProducts|OfficePaperProducts|Paper|Stationery|Pens,Pencils&WritingSupplies|Pens&Refills|LiquidInkRollerballPens'\n",
      " 'OfficeProducts|OfficePaperProducts|Paper|Stationery|Pens,Pencils&WritingSupplies|Pens&Refills|FountainPens'\n",
      " 'Computers&Accessories|Accessories&Peripherals|HardDriveAccessories|Caddies'\n",
      " 'Computers&Accessories|Laptops|TraditionalLaptops'\n",
      " 'Home&Kitchen|Kitchen&HomeAppliances|SmallKitchenAppliances|Kettles&HotWaterDispensers|ElectricKettles'\n",
      " 'Home&Kitchen|Heating,Cooling&AirQuality|RoomHeaters|ElectricHeaters'\n",
      " 'Home&Kitchen|Heating,Cooling&AirQuality|RoomHeaters|FanHeaters'\n",
      " 'Home&Kitchen|Kitchen&HomeAppliances|Vacuum,Cleaning&Ironing|Irons,Steamers&Accessories|LintShavers'\n",
      " 'Home&Kitchen|Kitchen&HomeAppliances|SmallKitchenAppliances|DigitalKitchenScales'\n",
      " 'Home&Kitchen|Kitchen&Dining|KitchenTools|ManualChoppers&Chippers|Choppers'\n",
      " 'Home&Kitchen|Kitchen&HomeAppliances|SmallKitchenAppliances|InductionCooktop'\n",
      " 'Home&Kitchen|Kitchen&HomeAppliances|SmallKitchenAppliances|HandBlenders'\n",
      " 'Home&Kitchen|Kitchen&HomeAppliances|Vacuum,Cleaning&Ironing|Irons,Steamers&Accessories|Irons|DryIrons'\n",
      " 'Home&Kitchen|Kitchen&HomeAppliances|SmallKitchenAppliances|MixerGrinders'\n",
      " 'Home&Kitchen|Heating,Cooling&AirQuality|WaterHeaters&Geysers|InstantWaterHeaters'\n",
      " 'Home&Kitchen|Heating,Cooling&AirQuality|RoomHeaters'\n",
      " 'Home&Kitchen|Kitchen&HomeAppliances|SmallKitchenAppliances|Kettles&HotWaterDispensers|Kettle&ToasterSets'\n",
      " 'Home&Kitchen|Heating,Cooling&AirQuality|WaterHeaters&Geysers|StorageWaterHeaters'\n",
      " 'Home&Kitchen|Heating,Cooling&AirQuality|WaterHeaters&Geysers|ImmersionRods'\n",
      " 'Home&Kitchen|Kitchen&HomeAppliances|SmallKitchenAppliances|DeepFatFryers|AirFryers'\n",
      " 'Home&Kitchen|HomeStorage&Organization|LaundryOrganization|LaundryBaskets'\n",
      " 'Home&Kitchen|Kitchen&HomeAppliances|Vacuum,Cleaning&Ironing|Irons,Steamers&Accessories|Irons|SteamIrons'\n",
      " 'Home&Kitchen|Kitchen&HomeAppliances|SmallKitchenAppliances|JuicerMixerGrinders'\n",
      " 'Home&Kitchen|Kitchen&HomeAppliances|Vacuum,Cleaning&Ironing|Vacuums&FloorCare|Vacuums|HandheldVacuums'\n",
      " 'Home&Kitchen|Kitchen&HomeAppliances|SmallKitchenAppliances|EggBoilers'\n",
      " 'Home&Kitchen|Kitchen&HomeAppliances|SmallKitchenAppliances|SandwichMakers'\n",
      " 'Home&Kitchen|Kitchen&HomeAppliances|SmallKitchenAppliances|MiniFoodProcessors&Choppers'\n",
      " 'Home&Kitchen|Kitchen&HomeAppliances|SmallKitchenAppliances|DigitalKitchenScales|DigitalScales'\n",
      " 'Home&Kitchen|Kitchen&HomeAppliances|SmallKitchenAppliances|VacuumSealers'\n",
      " 'Home&Kitchen|Heating,Cooling&AirQuality|Fans|CeilingFans'\n",
      " 'Home&Kitchen|Kitchen&HomeAppliances|Vacuum,Cleaning&Ironing|Vacuums&FloorCare|Vacuums|CanisterVacuums'\n",
      " 'Home&Kitchen|Kitchen&HomeAppliances|Vacuum,Cleaning&Ironing|PressureWashers,Steam&WindowCleaners'\n",
      " 'Home&Kitchen|Heating,Cooling&AirQuality|RoomHeaters|HalogenHeaters'\n",
      " 'Home&Kitchen|Kitchen&HomeAppliances|SmallKitchenAppliances|Pop-upToasters'\n",
      " 'Home&Kitchen|Heating,Cooling&AirQuality|RoomHeaters|HeatConvectors'\n",
      " 'Home&Kitchen|Kitchen&HomeAppliances|Coffee,Tea&Espresso|CoffeeGrinders|ElectricGrinders'\n",
      " 'Home&Kitchen|Heating,Cooling&AirQuality|Fans|ExhaustFans'\n",
      " 'Home&Kitchen|Kitchen&HomeAppliances|Coffee,Tea&Espresso|DripCoffeeMachines'\n",
      " 'Home&Kitchen|Kitchen&HomeAppliances|WaterPurifiers&Accessories|WaterPurifierAccessories'\n",
      " 'Home&Kitchen|Kitchen&HomeAppliances|WaterPurifiers&Accessories|WaterCartridges'\n",
      " 'Home&Kitchen|Kitchen&HomeAppliances|SmallKitchenAppliances|Rice&PastaCookers'\n",
      " 'Car&Motorbike|CarAccessories|InteriorAccessories|AirPurifiers&Ionizers'\n",
      " 'Home&Kitchen|Kitchen&HomeAppliances|Vacuum,Cleaning&Ironing|Vacuums&FloorCare|Vacuums|Wet-DryVacuums'\n",
      " 'Home&Kitchen|Heating,Cooling&AirQuality|AirPurifiers|HEPAAirPurifiers'\n",
      " 'Home&Kitchen|Kitchen&HomeAppliances|WaterPurifiers&Accessories|WaterFilters&Purifiers'\n",
      " 'Home&Kitchen|HomeStorage&Organization|LaundryOrganization|LaundryBags'\n",
      " 'Home&Kitchen|Kitchen&HomeAppliances|SewingMachines&Accessories|Sewing&EmbroideryMachines'\n",
      " 'Home&Kitchen|HomeStorage&Organization|LaundryOrganization|IroningAccessories|SprayBottles'\n",
      " 'Home&Kitchen|Kitchen&HomeAppliances|SmallKitchenAppliances|HandMixers'\n",
      " 'Home&Kitchen|Kitchen&HomeAppliances|SmallKitchenAppliances|Mills&Grinders|WetGrinders'\n",
      " 'Home&Kitchen|Kitchen&HomeAppliances|SmallKitchenAppliances|OvenToasterGrills'\n",
      " 'Home&Kitchen|Kitchen&HomeAppliances|SmallKitchenAppliances|Juicers'\n",
      " 'Home&Kitchen|Kitchen&HomeAppliances|SmallKitchenAppliances'\n",
      " 'Health&PersonalCare|HomeMedicalSupplies&Equipment|HealthMonitors|WeighingScales|DigitalBathroomScales'\n",
      " 'Home&Kitchen|Kitchen&HomeAppliances|Coffee,Tea&Espresso|EspressoMachines'\n",
      " 'Home&Kitchen|Heating,Cooling&AirQuality|Fans|TableFans'\n",
      " 'Home&Kitchen|Kitchen&HomeAppliances|Coffee,Tea&Espresso|MilkFrothers'\n",
      " 'Home&Kitchen|Heating,Cooling&AirQuality|Humidifiers'\n",
      " 'Home&Kitchen|Kitchen&HomeAppliances|SmallKitchenAppliances|SmallApplianceParts&Accessories|StandMixerAccessories'\n",
      " 'Home&Kitchen|Kitchen&HomeAppliances|Vacuum,Cleaning&Ironing|Vacuums&FloorCare|Vacuums|RoboticVacuums'\n",
      " 'Home&Kitchen|Kitchen&HomeAppliances|SmallKitchenAppliances|YogurtMakers'\n",
      " 'Home&Kitchen|Kitchen&HomeAppliances|SmallKitchenAppliances|Juicers|ColdPressJuicers'\n",
      " 'Home&Kitchen|Heating,Cooling&AirQuality|AirConditioners|Split-SystemAirConditioners'\n",
      " 'Home&Kitchen|Kitchen&HomeAppliances|SmallKitchenAppliances|SmallApplianceParts&Accessories'\n",
      " 'Home&Kitchen|Kitchen&HomeAppliances|SmallKitchenAppliances|WaffleMakers&Irons'\n",
      " 'Home&Kitchen|Kitchen&HomeAppliances|Coffee,Tea&Espresso|StovetopEspressoPots'\n",
      " 'Home&Kitchen|Kitchen&HomeAppliances|Coffee,Tea&Espresso|CoffeeMakerAccessories|MeasuringSpoons'\n",
      " 'Home&Kitchen|Kitchen&HomeAppliances|Coffee,Tea&Espresso|CoffeePresses'\n",
      " 'Home&Kitchen|Kitchen&HomeAppliances|SmallKitchenAppliances|RotiMakers'\n",
      " 'Home&Kitchen|Heating,Cooling&AirQuality|Parts&Accessories|FanParts&Accessories'\n",
      " 'Home&Kitchen|Kitchen&HomeAppliances|SmallKitchenAppliances|StandMixers'\n",
      " 'Home&Kitchen|Heating,Cooling&AirQuality|Fans|PedestalFans'\n",
      " 'Home&Kitchen|Kitchen&HomeAppliances|Vacuum,Cleaning&Ironing|Vacuums&FloorCare|VacuumAccessories|VacuumBags|HandheldBags']\n",
      "=============================================================================================\n",
      "discounted_price ==> Unique values are ==>['₹399' '₹199' '₹329' '₹154' '₹149' '₹176.63' '₹229' '₹499' '₹299' '₹219'\n",
      " '₹350' '₹159' '₹349' '₹13,999' '₹249' '₹13,490' '₹970' '₹279' '₹59'\n",
      " '₹11,499' '₹14,999' '₹179' '₹389' '₹599' '₹99' '₹899' '₹32,999' '₹209'\n",
      " '₹19,999' '₹999' '₹333' '₹507' '₹309' '₹1,199' '₹799' '₹6,999' '₹230'\n",
      " '₹649' '₹15,999' '₹348' '₹32,990' '₹139' '₹263' '₹7,999' '₹1,599'\n",
      " '₹26,999' '₹115' '₹10,901' '₹1,434' '₹7,299' '₹325' '₹29,999' '₹27,999'\n",
      " '₹30,990' '₹269' '₹24,999' '₹18,990' '₹290' '₹345' '₹1,099' '₹719' '₹849'\n",
      " '₹21,999' '₹449' '₹37,999' '₹7,390' '₹273.10' '₹15,990' '₹210' '₹1,299'\n",
      " '₹347' '₹228' '₹1,499' '₹8,499' '₹20,990' '₹9,999' '₹489' '₹23,999'\n",
      " '₹689' '₹1,699' '₹655' '₹749' '₹195' '₹416' '₹368' '₹29,990' '₹339'\n",
      " '₹15,490' '₹9,490' '₹637' '₹1,089' '₹12,499' '₹1,399' '₹88' '₹57.89'\n",
      " '₹205' '₹949' '₹379' '₹8,990' '₹486' '₹5,699' '₹709' '₹47,990' '₹320'\n",
      " '₹129' '₹225' '₹547' '₹259' '₹239' '₹467' '₹11,990' '₹252' '₹204'\n",
      " '₹6,490' '₹235' '₹42,999' '₹173' '₹848.99' '₹1,249' '₹213' '₹598'\n",
      " '₹31,999' '₹128.31' '₹254' '₹89' '₹549' '₹77,990' '₹182' '₹96' '₹54,990'\n",
      " '₹439' '₹789' '₹790' '₹4,699' '₹18,999' '₹1,990' '₹2,299' '₹35,999'\n",
      " '₹8,999' '₹917' '₹45,999' '₹119' '₹21,990' '₹417.44' '₹215' '₹1,289'\n",
      " '₹609' '₹1,850' '₹13,990' '₹185' '₹218' '₹893' '₹10,990' '₹16,999' '₹699'\n",
      " '₹2,699' '₹246' '₹247' '₹1,369' '₹24,990' '₹61,999' '₹24,499' '₹10,499'\n",
      " '₹197' '₹1,519' '₹46,999' '₹1,799' '₹1,998' '₹1,999' '₹2,049' '₹6,499'\n",
      " '₹28,999' '₹569' '₹1,898' '₹9,499' '₹959' '₹1,149' '₹1,219' '₹18,499'\n",
      " '₹369' '₹12,999' '₹2,199' '₹16,499' '₹3,999' '₹2,998' '₹15,499' '₹873'\n",
      " '₹539' '₹1,075' '₹529' '₹4,790' '₹33,999' '₹10,999' '₹34,999' '₹2,999'\n",
      " '₹20,999' '₹22,999' '₹134' '₹7,499' '₹1,324' '₹12,490' '₹17,999' '₹2,099'\n",
      " '₹337' '₹251' '₹95' '₹4,499' '₹1,989' '₹4,999' '₹2,499' '₹79' '₹2,179'\n",
      " '₹44,999' '₹2,599' '₹2,799' '₹3,799' '₹281' '₹7,998' '₹120' '₹7,915'\n",
      " '₹1,055' '₹150' '₹474' '₹265' '₹37,990' '₹314' '₹365' '₹289' '₹217'\n",
      " '₹1,220' '₹475' '₹798' '₹266' '₹50' '₹130' '₹4,098' '₹519' '₹1,295'\n",
      " '₹1,889' '₹455' '₹1,059' '₹717' '₹39' '₹889' '₹191' '₹522' '₹681' '₹429'\n",
      " '₹100' '₹1,049' '₹656' '₹1,109' '₹169' '₹157' '₹479' '₹1,598' '₹294'\n",
      " '₹828' '₹745' '₹1,549' '₹1,469' '₹198' '₹12,000' '₹6,299' '₹571' '₹448'\n",
      " '₹579' '₹137' '₹1,495' '₹440' '₹1,329' '₹570' '₹1,529' '₹190' '₹729'\n",
      " '₹480' '₹238' '₹1,349' '₹1,792' '₹3,299' '₹125' '₹561' '₹5,599' '₹69'\n",
      " '₹478' '₹425' '₹378' '₹1,815' '₹67' '₹5,799' '₹4,449' '₹629' '₹2,595'\n",
      " '₹90' '₹1,345' '₹287' '₹879' '₹250' '₹469' '₹1,187' '₹328' '₹114'\n",
      " '₹1,490' '₹575' '₹178' '₹939' '₹1,439' '₹175' '₹3,303' '₹1,890' '₹310'\n",
      " '₹1,709' '₹2,025' '₹900' '₹2,490' '₹116' '₹200' '₹2,649' '₹596' '₹330'\n",
      " '₹1,234' '₹272' '₹3,498' '₹10,099' '₹397' '₹1,679' '₹354' '₹10,389'\n",
      " '₹1,409' '₹5,998' '₹300' '₹535' '₹341' '₹5,899' '₹1,565' '₹326' '₹657'\n",
      " '₹1,995' '₹1,500' '₹2,640' '₹5,299' '₹165' '₹398' '₹770' '₹420' '₹8,349'\n",
      " '₹3,307' '₹380' '₹37,247' '₹298' '₹293' '₹1,043' '₹1,464' '₹625' '₹1,290'\n",
      " '₹3,600' '₹6,549' '₹1,625' '₹5,499' '₹2,148' '₹3,599' '₹351' '₹1,614'\n",
      " '₹678' '₹809' '₹1,969' '₹1,665' '₹3,229' '₹1,260' '₹3,499' '₹1,321'\n",
      " '₹775' '₹3,190' '₹6,199' '₹1,819' '₹3,249' '₹1,400' '₹355' '₹2,169'\n",
      " '₹653' '₹4,789' '₹753' '₹353' '₹8,799' '₹2,095' '₹1,498' '₹3,699' '₹177'\n",
      " '₹244' '₹1,959' '₹319' '₹9,590' '₹292' '₹160' '₹600' '₹1,130' '₹3,199'\n",
      " '₹616' '₹610' '₹453' '₹2,464' '₹2,719' '₹2,088' '₹2,399' '₹308' '₹245'\n",
      " '₹3,569' '₹2,089' '₹2,339' '₹784' '₹1,695' '₹1,448' '₹6,990' '₹2,698'\n",
      " '₹1,414' '₹5,999' '₹9,970' '₹698' '₹14,400' '₹664' '₹260' '₹1,484'\n",
      " '₹4,280' '₹189' '₹1,449' '₹3,657.66' '₹1,849' '₹8,199' '₹1,595' '₹1,182'\n",
      " '₹1,052' '₹1,547' '₹510' '₹1,899' '₹14,499' '₹950' '₹7,199' '₹2,439'\n",
      " '₹7,799' '₹2,899' '₹9,799' '₹669' '₹5,890' '₹9,199' '₹6,236' '₹2,742'\n",
      " '₹721' '₹2,903' '₹1,656' '₹2,079' '₹3,179' '₹4,799' '₹948' '₹850'\n",
      " '₹3,711' '₹980' '₹3,349' '₹2,249' '₹1,235' '₹6,800' '₹1,069' '₹2,092'\n",
      " '₹3,859' '₹1,804' '₹6,525' '₹1,189' '₹2,590' '₹998' '₹998.06' '₹8,886'\n",
      " '₹4,995' '₹395' '₹635' '₹27,900' '₹193' '₹2,449' '₹2,286' '₹5,395' '₹559'\n",
      " '₹660' '₹419' '₹7,349' '₹1,474' '₹3,645' '₹375' '₹2,976' '₹2,575'\n",
      " '₹1,649' '₹765' '₹587' '₹12,609' '₹640' '₹979' '₹5,365' '₹929' '₹3,710'\n",
      " '₹2,033' '₹9,495' '₹2,790' '₹645' '₹2,237.81' '₹8,699' '₹42,990' '₹825'\n",
      " '₹161' '₹697' '₹688' '₹6,850' '₹1,090' '₹295' '₹2,949' '₹335' '₹778'\n",
      " '₹1,190' '₹6,120' '₹3,685' '₹8,599' '₹1,110' '₹759' '₹2,669' '₹85'\n",
      " '₹5,865' '₹1,928' '₹1,456' '₹4,899' '₹3,290' '₹5,490' '₹3,041.67'\n",
      " '₹1,745' '₹3,180' '₹390' '₹1,624' '₹184' '₹445' '₹1,601' '₹231' '₹6,790'\n",
      " '₹1,982.84' '₹1,180' '₹253' '₹457' '₹426' '₹2,320' '₹1,563' '₹3,487.77'\n",
      " '₹498' '₹2,695' '₹2,280' '₹2,219' '₹2,863']\n",
      "=============================================================================================\n",
      "actual_price ==> Unique values are ==>['₹1,099' '₹349' '₹1,899' '₹699' '₹399' '₹1,000' '₹499' '₹299' '₹999'\n",
      " '₹339' '₹799' '₹700' '₹899' '₹24,999' '₹21,990' '₹1,799' '₹22,900' '₹199'\n",
      " '₹19,990' '₹19,999' '₹1,999' '₹750' '₹599' '₹666.66' '₹1,900' '₹45,999'\n",
      " '₹695' '₹34,999' '₹1,599' '₹1,208' '₹475' '₹395' '₹2,199' '₹500' '₹2,100'\n",
      " '₹12,999' '₹1,399' '₹21,999' '₹1,499' '₹47,900' '₹845' '₹1,400' '₹14,990'\n",
      " '₹2,999' '₹42,999' '₹30,990' '₹3,999' '₹249' '₹19,125' '₹1,299' '₹39,999'\n",
      " '₹40,990' '₹52,900' '₹800' '₹31,999' '₹1,809' '₹29,999' '₹65,000'\n",
      " '₹20,000' '₹23,990' '₹15,999' '₹44,990' '₹44,999' '₹1,700' '₹595'\n",
      " '₹27,990' '₹1,200' '₹34,990' '₹1,500' '₹49,990' '₹931' '₹2,399' '₹1,339'\n",
      " '₹20,900' '₹15,990' '₹1,600' '₹849' '₹1,199' '₹22,990' '₹2,499' '₹47,990'\n",
      " '₹485' '₹18,990' '₹11,000' '₹70,900' '₹549' '₹35,999' '₹1,699' '₹31,990'\n",
      " '₹9,990' '₹16,990' '₹59,999' '₹600' '₹1,490' '₹2,299' '₹4,999' '₹1,749'\n",
      " '₹1,100' '₹49,999' '₹56,790' '₹795' '₹798' '₹995' '₹1,39,900' '₹85,000'\n",
      " '₹758' '₹4,699' '₹24,990' '₹650' '₹3,100' '₹18,999' '₹69,900' '₹670'\n",
      " '₹79,990' '₹35,000' '₹54,990' '₹50,999' '₹4,500' '₹28,900' '₹449' '₹900'\n",
      " '₹1,052' '₹25,999' '₹3,500' '₹14,999' '₹51,990' '₹69,999' '₹50,000'\n",
      " '₹19,499' '₹9,999' '₹7,990' '₹8,999' '₹28,999' '₹6,990' '₹11,999'\n",
      " '₹1,800' '₹7,999' '₹17,999' '₹20,999' '₹10,999' '₹8,499' '₹495' '₹16,999'\n",
      " '₹5,999' '₹20,990' '₹3,990' '₹33,999' '₹38,999' '₹26,999' '₹649' '₹171'\n",
      " '₹2,899' '₹29,990' '₹1,630' '₹13,499' '₹6,999' '₹6,499' '₹2,990' '₹2,400'\n",
      " '₹149' '₹5,299' '₹32,999' '₹39,990' '₹3,499' '₹2,599' '₹1,249' '₹9,499'\n",
      " '₹74,999' '₹4,490' '₹895' '₹237' '₹1,995' '₹315' '₹50' '₹165' '₹1,290'\n",
      " '₹2,498' '₹5,499' '₹1,350' '₹1,295' '₹761' '₹2,500' '₹180' '₹225'\n",
      " '₹4,499' '₹550' '₹3,490' '₹250' '₹2,800' '₹404' '₹160' '₹3,000' '₹861'\n",
      " '₹2,495' '₹13,750' '₹59' '₹3,299' '₹375' '₹440' '₹2,000' '₹2,900' '₹100'\n",
      " '₹1,795' '₹220' '₹1,650' '₹2,198' '₹4,100' '₹1,190' '₹99' '₹3,495' '₹720'\n",
      " '₹590' '₹7,350' '₹2,595' '₹2,490' '₹4,990' '₹75' '₹2,699' '₹5,734'\n",
      " '₹1,390' '₹3,295' '₹2,911' '₹175' '₹3,250' '₹2,295' '₹450' '₹1,109'\n",
      " '₹1,929' '₹400' '₹120' '₹2,799' '₹210' '₹2,890' '₹4,700' '₹4,332.96'\n",
      " '₹990' '₹5,490' '₹2,790' '₹1,645' '₹310' '₹4,199' '₹4,000' '₹200' '₹230'\n",
      " '₹2,796' '₹723' '₹12,499' '₹320' '₹3,875' '₹19,110' '₹150' '₹775'\n",
      " '₹32,000' '₹1,300' '₹300' '₹535' '₹7,005' '₹2,895' '₹3,195' '₹6,355'\n",
      " '₹7,500' '₹39' '₹37,999' '₹1,990' '₹1,949' '₹1,547' '₹1,150' '₹1,090'\n",
      " '₹3,599' '₹420' '₹9,625' '₹6,100' '₹59,890' '₹1,245' '₹1,695' '₹1,549'\n",
      " '₹1,445' '₹3,193' '₹1,345' '₹6,190' '₹13,999' '₹2,995' '₹5,890' '₹13,150'\n",
      " '₹785' '₹3,210' '₹1,595' '₹3,645' '₹7,950' '₹1,745' '₹1,545' '₹5,000'\n",
      " '₹3,945' '₹2,099' '₹5,295' '₹3,595' '₹1,129' '₹5,795' '₹875' '₹15,270'\n",
      " '₹4,195' '₹1,989' '₹1,111' '₹10,400' '₹6,295' '₹9,650' '₹10,590' '₹89'\n",
      " '₹2,485' '₹3,279' '₹3,799' '₹7,299' '₹625' '₹1,020' '₹8,990' '₹1,639'\n",
      " '₹11,595' '₹1,750' '₹2,095' '₹2,300' '₹4,295' '₹749' '₹1,775' '₹1,130'\n",
      " '₹9,455' '₹825' '₹9,995' '₹6,000' '₹5,550' '₹4,590' '₹4,400' '₹5,190'\n",
      " '₹940' '₹79' '₹14,290' '₹1,950' '₹3,190' '₹2,660' '₹59,900' '₹6,375'\n",
      " '₹350' '₹8,500' '₹1,560' '₹6,500' '₹7,795' '₹5,995' '₹2,349' '₹4,775'\n",
      " '₹1,230' '₹5,156' '₹19,825' '₹1,920' '₹16,000' '₹11,995' '₹1,690'\n",
      " '₹1,790' '₹8,995' '₹239' '₹4,290' '₹640' '₹3,790' '₹4,560' '₹2,600'\n",
      " '₹3,300' '₹23,559' '₹2,545' '₹5,500' '₹12,150' '₹4,995' '₹7,506'\n",
      " '₹18,000' '₹1,850' '₹3,995' '₹2,695' '₹2,290' '₹3,099' '₹1,075' '₹7,290'\n",
      " '₹3,398' '₹1,620' '₹4,495' '₹980' '₹11,500' '₹3,550' '₹1,975' '₹4,600'\n",
      " '₹10,295' '₹2,380' '₹8,820' '₹4,200' '₹1,282' '₹11,850' '₹20,049'\n",
      " '₹24,850' '₹16,490' '₹975' '₹635' '₹3,390' '₹1,010' '₹10,900' '₹4,005'\n",
      " '₹4,650' '₹24,500' '₹6,070' '₹6,700' '₹970' '₹23,999' '₹850' '₹7,445'\n",
      " '₹1,395' '₹4,330' '₹12,500' '₹2,385' '₹4,890' '₹3,899' '₹16,899'\n",
      " '₹75,990' '₹747' '₹11,990' '₹4,849' '₹510' '₹2,550' '₹8,478' '₹3,895'\n",
      " '₹5,495' '₹3,199' '₹7,776' '₹2,590' '₹6,299' '₹4,799' '₹5,799' '₹7,200'\n",
      " '₹389' '₹13,049' '₹3,890' '₹260' '₹8,073' '₹2,360' '₹11,495' '₹4,780'\n",
      " '₹10,995' '₹1,440' '₹3,045' '₹3,290' '₹3,098' '₹919' '₹3,080' '₹1,890'\n",
      " '₹3,690']\n",
      "=============================================================================================\n",
      "discount_percentage ==> Unique values are ==>['64%' '43%' '90%' '53%' '61%' '85%' '65%' '23%' '50%' '33%' '55%' '63%'\n",
      " '69%' '60%' '13%' '44%' '38%' '39%' '46%' '41%' '70%' '42%' '72%' '25%'\n",
      " '51%' '73%' '0%' '80%' '28%' '67%' '58%' '35%' '45%' '62%' '54%' '27%'\n",
      " '77%' '56%' '78%' '31%' '86%' '47%' '37%' '75%' '32%' '68%' '66%' '22%'\n",
      " '57%' '17%' '52%' '88%' '20%' '59%' '40%' '26%' '29%' '83%' '71%' '15%'\n",
      " '76%' '48%' '82%' '36%' '89%' '87%' '24%' '34%' '11%' '91%' '7%' '19%'\n",
      " '79%' '21%' '81%' '18%' '49%' '30%' '84%' '10%' '6%' '14%' '74%' '4%'\n",
      " '5%' '16%' '8%' '2%' '94%' '12%' '3%' '9%']\n",
      "=============================================================================================\n",
      "rating ==> Unique values are ==>['4.2' '4.0' '3.9' '4.1' '4.3' '4.4' '4.5' '3.7' '3.3' '3.6' '3.4' '3.8'\n",
      " '3.5' '4.6' '3.2' '5.0' '4.7' '3.0' '2.8' '4' '3.1' '4.8' '2.3' '|' '2'\n",
      " '3' '2.6' '2.9']\n",
      "=============================================================================================\n",
      "rating_count ==> Unique values are ==>['24,269' '43,994' '7,928' ... '468' '8,031' '6,987']\n",
      "=============================================================================================\n",
      "about_product ==> Unique values are ==>[\"High Compatibility : Compatible With iPhone 12, 11, X/XsMax/Xr ,iPhone 8/8 Plus,iPhone 7/7 Plus,iPhone 6s/6s Plus,iPhone 6/6 Plus,iPhone 5/5s/5c/se,iPad Pro,iPad Air 1/2,iPad mini 1/2/3,iPod nano7,iPod touch and more apple devices.|Fast Charge&Data Sync : It can charge and sync simultaneously at a rapid speed, Compatible with any charging adaptor, multi-port charging station or power bank.|Durability : Durable nylon braided design with premium aluminum housing and toughened nylon fiber wound tightly around the cord lending it superior durability and adding a bit to its flexibility.|High Security Level : It is designed to fully protect your device from damaging excessive current.Copper core thick+Multilayer shielding, Anti-interference, Protective circuit equipment.|WARRANTY: 12 months warranty and friendly customer services, ensures the long-time enjoyment of your purchase. If you meet any question or problem, please don't hesitate to contact us.\"\n",
      " 'Compatible with all Type C enabled devices, be it an android smartphone (Mi, Samsung, Oppo, Vivo, Realme, OnePlus, etc), tablet, laptop (Macbook, Chromebook, etc)|Supports Quick Charging (2.0/3.0)|Unbreakable – Made of special braided outer with rugged interior bindings, it is ultra-durable cable that won’t be affected by daily rough usage|Ideal Length – It has ideal length of 1.5 meters which is neither too short like your typical 1meter cable or too long like a 2meters cable|Supports maximum 3A fast charging and 480 Mbps data transfer speed|6 months manufacturer warranty from the date of purchase'\n",
      " \"【 Fast Charger& Data Sync】-With built-in safety proctections and four-core copper wires promote maximum signal quality and strength and enhance charging & data transfer speed with up to 480 mb/s transferring speed.|【 Compatibility】-Compatible with iPhone 13, 12,11, X, 8, 7, 6, 5, iPad Air, Pro, Mini & iOS devices.|【 Sturdy & Durable】-The jacket and enforced connector made of TPE and premium copper, are resistant to repeatedly bending and coiling.|【 Ultra High Quality】: According to the experimental results, the fishbone design can accept at least 20,000 bending and insertion tests for extra protection and durability. Upgraded 3D aluminum connector and exclusive laser welding technology, which to ensure the metal part won't break and also have a tighter connection which fits well even with a protective case on and will never loose connection.|【 Good After Sales Service】-Our friendly and reliable customer service will respond to you within 24 hours ! you can purchase with confidence,and every sale includes a 365-day worry-free Service to prove the importance we set on quality.\"\n",
      " ...\n",
      " 'International design and styling|Two heat settings 1000 W and 2000 W. Rated Voltage : 230 V|Adjustable thermostat for desirable temperature|Fan forced hot air circulation|Cool touch housing with built in handle|Two way installation- vertical and horizontal|Heater in winter, personal fan in summer'\n",
      " 'Fan sweep area: 230 MM ; Noise level: (40 - 45) dB; Fan body dimension (Length x Width x Depth): 290MM x 290MM x 200MM|With bird guard to protect the fan in running condition, Air flow rate: 510 cmh , Speed: 1350 RPM , Sweep size: 230 mm , Guard: 29 Spokes. Rated frequency : 50 Hz. Pull cord : No|Powder coated metallic finish, Adjustable upward and downward tilt mechanism: No|Sturdy steel bird guard with specially designed metal blade|For any functional defect, please reach out to customer care team @ Email: customercare@h'\n",
      " 'Brand-Borosil, Specification â€“ 23V ~ 5Hz;1 W Power for Faster Grilling|Makes 2 Sandwiches in minutes;Stainless Steel Mirror Finish Body; Easy to use;Easy to clean coated plates|Auto-lock latch;Larger deep ribbed grill plates for Krisp grilling|Rubber feet to avoid slipping on Countertop;Indicator Display.|Material Type: Plastic|Suitable for gifting on Diwali and other special occasions.']\n",
      "=============================================================================================\n",
      "user_id ==> Unique values are ==>['AG3D6O4STAQKAY2UVGEUV46KN35Q,AHMY5CWJMMK5BJRBBSNLYT3ONILA,AHCTC6ULH4XB6YHDY6PCH2R772LQ,AGYHHIERNXKA6P5T7CZLXKVPT7IQ,AG4OGOFWXJZTQ2HKYIOCOY3KXF2Q,AENGU523SXMOS7JPDTW52PNNVWGQ,AEQJHCVTNINBS4FKTBGQRQTGTE5Q,AFC3FFC5PKFF5PMA52S3VCHOZ5FQ'\n",
      " 'AECPFYFQVRUWC3KGNLJIOREFP5LQ,AGYYVPDD7YG7FYNBXNGXZJT525AQ,AHONIZU3ICIEHQIGQ6R2VFRSBXOQ,AFPHD2CRPDZMWMBL7WXRSVYWS5JA,AEZ346GX3HJ4O4XNRPHCNHXQURMQ,AEPSWFPNECKO34PUC7I56ITGXR6Q,AHWVEHR5DYLVFTO2KF3IZATFQSWQ,AH4QT33M55677I7ISQOAKEQWACYQ'\n",
      " 'AGU3BBQ2V2DDAMOAKGFAWDDQ6QHA,AESFLDV2PT363T2AQLWQOWZ4N3OA,AHTPQRIMGUD4BYR5YIHBH3CCGEFQ,AEUVWXYP5LT7PZLLZENEO2NODPBQ,AHC7MPW55DOO6WNCOQVA2VHOD26A,AFDI6FRPFBTNBG7BAEB7JDJSMKDQ,AFQKCEEEKXCOHTDG4WUN3XPPHJQQ,AHKUUFNMBZIDLSSPA4FEHIO2EC7Q'\n",
      " ...\n",
      " 'AGVPWCMAHYQWJOQKMUJN4DW3KM5Q,AF4Q3E66MY4SR7YQZSWBBRU5XQKQ,AEM2ZDSQE4QZIGTCTE4HSNZOS7DQ,AEHMIAQFYXW3CY6Z37ABRXSOJRPA,AHJCYSNMFLZM7CA4FGDPU7A4UHYQ,AEQTWNQ6GKTOSJO3ZEPHRTH56VCA,AHIHPBLP6PPV66Y3AWOSYFBVZPFA,AGHBKUHIWVOPUQYFRA6PXIIC6R5Q'\n",
      " 'AF2JQCLSCY3QJATWUNNHUSVUPNQQ,AFDMLUXC5LS5RXDJSJJRHNBURIVQ,AHMWJ32LQF2YEADFPUML4EKXUC3Q,AFXERFNWKFFWECCPZJBRP2N23XJA,AG74HALEHHRAVFNXFHBM75RWZD6Q,AEDOS7O5DUVDYA7EHU6VERPRAFMA,AFKWDCNGBBYBDQBKMFJUVJYY77XQ,AGQCHAIK5FZZOA67FTG7HET7VVJQ'\n",
      " 'AFGW5PT3R6ZAVQR4Y5MWVAKBZAYA,AG7QNJ2SCS5VS5VYYBNV4HDSIJ4Q,AFUDGN5MEXLKUULNTM7Y2G5P7TYA,AHXCDNSXAESERITAFELQABFVNLCA,AGRZD6CHLCUNOLMMIMIHUCG7PIFA,AFQZVGSOSOJHKFQQMCEI4725QEKQ,AEALVGXXIP46OZVXKRUXSDWZJMEA,AGEFL3AY7YXEFZA4ZJU3LP7K7OJQ']\n",
      "=============================================================================================\n",
      "user_name ==> Unique values are ==>['Manav,Adarsh gupta,Sundeep,S.Sayeed Ahmed,jaspreet singh,Khaja moin,Anand,S.ARUMUGAM'\n",
      " 'ArdKn,Nirbhay kumar,Sagar Viswanathan,Asp,Placeholder,BharanI,sonia,Niam'\n",
      " 'Kunal,Himanshu,viswanath,sai niharka,saqib malik,Aashiq,Ramu Challa,Sanjay gupta'\n",
      " ...\n",
      " 'Nehal Desai,Danish Parwez,Amazon Customer,Amazon Customer,Pankaj Kumar Singh,Pattabhi udaya kumar,Sandip Bhargava,BATTU SURESHKUMAR'\n",
      " 'Shubham Dubey,E.GURUBARAN,Mayank S.,eusuf khan,ASHISHGAJBE,hirabhai thakarda,khageswar,A.Ramu'\n",
      " 'Rajib,Ajay B,Vikas Kahol,PARDEEP,Anindya Pramanik,Vikas Singh,Harshada Pimple,Saw a.']\n",
      "=============================================================================================\n",
      "review_id ==> Unique values are ==>['R3HXWT0LRP0NMF,R2AJM3LFTLZHFO,R6AQJGUP6P86,R1KD19VHEDV0OR,R3C02RMYQMK6FC,R39GQRVBUZBWGY,R2K9EDOE15QIRJ,R3OI7YT648TL8I'\n",
      " 'RGIQEG07R9HS2,R1SMWZQ86XIN8U,R2J3Y1WL29GWDE,RYGGS0M09S3KY,R17KQRUTAN5DKS,R3AAQGS6HP2QUK,R1HDNOG6TO2CCA,R3PHKXYA5AFEOU'\n",
      " 'R3J3EQQ9TZI5ZJ,R3E7WBGK7ID0KV,RWU79XKQ6I1QF,R25X4TBMPY91LX,R27OK7G99VK0TR,R207CYDCHJJTCJ,R3PCU8XMU173BT,R1IMONDOWRNU5V'\n",
      " ...\n",
      " 'R1TLRJVW4STY5I,R2O455KRN493R1,R3Q5MVGBRIAS2G,RDUWK5R7MYO0F,R2PLXU82PLNOS,R3OGEQWZH4DYFA,R5I0WH8YY7K9V,R1MC4M4R6ZDUBE'\n",
      " 'R39Q2Y79MM9SWK,R3079BG1NIH6MB,R29A31ZELTZNJM,RQ7XAO5UTJQZT,R223OFAZGIK4X7,R27WMZV25K3TN1,R302QB4GVL3F8T,RBZRSE5J6HCF3'\n",
      " 'R20RBRZ0WEUJT9,ROKIFK9R2ISSE,R30EEG2FNJSN5I,R2ZC03S4QXOW4Y,R186H8YW34BQD5,R10NC3D321N59G,REKF75G4SOAOX,R2G0ZT4JQX322I']\n",
      "=============================================================================================\n",
      "review_title ==> Unique values are ==>['Satisfied,Charging is really fast,Value for money,Product review,Good quality,Good product,Good Product,As of now seems good'\n",
      " 'A Good Braided Cable for Your Type C Device,Good quality product from ambrane,Super cable,As,Good quality,Good product,its good,Good quality for the price but one issue with my unit'\n",
      " \"Good speed for earlier versions,Good Product,Working good,Good for the price,Good,Worth for money,Working nice,it's a really nice product\"\n",
      " ...\n",
      " 'very good,Work but front melt after 2 month,Good one,It is durable,Review.,DEFECTIVE PRODUCT,Nice product,Nice product'\n",
      " 'Fan Speed is slow,Good quality,Good product,good,Old is gold.,Good product,Nice product,Super 💕'\n",
      " 'Works perfect,Ok good product,Nice Product. Recommend it. But cleaning its exterior is cumbersome.,Excellent product✌,A good product for household use,मुझे बिल्कुल भी मजा नहीं आया और वापस कर दिया।,Best product,Good']\n",
      "=============================================================================================\n",
      "review_content ==> Unique values are ==>['Looks durable Charging is fine tooNo complains,Charging is really fast, good product.,Till now satisfied with the quality.,This is a good product . The charging speed is slower than the original iPhone cable,Good quality, would recommend,https://m.media-amazon.com/images/W/WEBP_402378-T1/images/I/81---F1ZgHL._SY88.jpg,Product had worked well till date and was having no issue.Cable is also sturdy enough...Have asked for replacement and company is doing the same...,Value for money'\n",
      " \"I ordered this cable to connect my phone to Android Auto of car. The cable is really strong and the connection ports are really well made. I already has a Micro USB cable from Ambrane and it's still in good shape. I connected my phone to the car using the cable and it got connected well and no issues. I also connected it to the charging port and yes it has Fast Charging support.,It quality is good at this price and the main thing is that i didn't ever thought that this cable will be so long it's good one and charging power is too good and also supports fast charging,Value for money, with extra length👍,Good, working fine,Product quality is good,Good,very good,Bought for my daughter's old phone.Brand new cable it was not charging, I already repacked and requested for replacement.I checked again, and there was some green colour paste/fungus inside the micro USB connector. I cleaned with an alcoholic and starts working again.Checked the ampere of charging speed got around 1400ma-1500ma - not bad, came with braided 1.5m long cable, pretty impressive for the price.Can't blame the manufacturer.But quality issues by the distributor, they might have stored in very humid place.\"\n",
      " \"Not quite durable and sturdy,https://m.media-amazon.com/images/W/WEBP_402378-T1/images/I/71rIggrbUCL._SY88.jpg,Working good,https://m.media-amazon.com/images/W/WEBP_402378-T1/images/I/61bKp9YO6wL._SY88.jpg,Product,Very nice product,Working well,It's a really nice product\"\n",
      " ...\n",
      " \"plastic but cool body ,u have to find sturdy surface to put it vertically , on plastic stool it vibrate in vertical position ,u need bigger plug point for it ,very fast and effective heating ,it through cold air too ,price is bit high but it's bajaj so good.very good buy.,Using after only 2 months, the front part of this bajaj rx10, room heater melt starting.,Useful in winter, box gets heated which may cause damage but so far so good.,The body flaps look very delicate and did not align well when received. I had to fix them,This Heater is good for a room with 10X10 ft dimension. The best part is 2 years warranty from Bajaj. Personally recommend you to purchase this product to stay stress free.,RECEIVED DEFECTIVE PRODUCT FROM AMAZON SELLER M/S ROYAL ELECTRONICS INDIA.I AM SURPRISED ,HOW AMAZON IS ALLOWING THIS TYPE OF SELLERS ON THEIR PLATFORM.,Nice product,Nice product\"\n",
      " 'I have installed this in my kitchen working fine is just fan speed is very slow could have been faster but not it is slow thats the reason this exhaust smoke very slow but it does exhaust.,Good quality,https://m.media-amazon.com/images/W/WEBP_402378-T1/images/I/61izko3RxDL._SY88.jpg,speed could have been little bit more,,Beat performance this product.,Connecting wire is too short,Super'\n",
      " 'It does it job perfectly..only issue is temp control is not perfect . U need to keep checking the browness of sandwich untill it gets upto ur choise,Product is good, but the control knob is to be be modified cause after the cooking process completes the control knob should be return back to initial starting place. If not that process timer should be given basically. So think well what happens whether didn\\'t had atleast one option.Not a indicator option.,It is a nice product, easy to use. The grilling function is also wonderful. But the exterior metallic finish picks up finger marks and other spots which tend to become permanent. Cleaning them is almost impossible.,Very good product,This is a pretty powerful sandwich maker, for home use. The product looks good, has a sturdy build, and heats up quick. The sandwiches are made pretty quickly, without burning.,बोरोसिल ब्रांड का यह \"सेंडविच मेकर\" देखने में तो अच्छा लगता है मगर इसकी बिल्ड क्वालिटी अच्छी नहीं है।  यह लगभग Rs 3000 के आसपास आता है।  इस प्रकार की बिल्ड क्वालिटी ₹2000 के करीब मिल जाती है तो कोई क्यों ₹1000 अधिक भुगतान करें।  पहले मैंने इसे review देखने के बाद ऑर्डर किया था लेकिन जब घर पर डिलीवरी होने के पश्चात  unboxing करके देखा तो इसकी बिल्ड क्वालिटी कुछ खास नहीं लगी इसलिए अपने पैसे बचाने के लिए मैंने इसे वापस भेज दिया। मैंने इसकी पैकेजिंग, मैनुअल और सैंडविच मेकर की फोटोग्राफ आप सभी से शेयर की है।  आप स्वयं देख के अनुमान लगा सकते हैं।,Recommend work as expected,Its easy tp use']\n",
      "=============================================================================================\n",
      "img_link ==> Unique values are ==>['https://m.media-amazon.com/images/W/WEBP_402378-T1/images/I/51UsScvHQNL._SX300_SY300_QL70_FMwebp_.jpg'\n",
      " 'https://m.media-amazon.com/images/W/WEBP_402378-T2/images/I/31zOsqQOAOL._SY445_SX342_QL70_FMwebp_.jpg'\n",
      " 'https://m.media-amazon.com/images/W/WEBP_402378-T1/images/I/31IvNJZnmdL._SY445_SX342_QL70_FMwebp_.jpg'\n",
      " ...\n",
      " 'https://m.media-amazon.com/images/W/WEBP_402378-T1/images/I/41qmt2a159L._SX300_SY300_QL70_FMwebp_.jpg'\n",
      " 'https://m.media-amazon.com/images/W/WEBP_402378-T1/images/I/51pNg1Zy4+L._SX300_SY300_.jpg'\n",
      " 'https://m.media-amazon.com/images/W/WEBP_402378-T1/images/I/51J2Wk-+c+L._SY300_SX300_.jpg']\n",
      "=============================================================================================\n",
      "product_link ==> Unique values are ==>['https://www.amazon.in/Wayona-Braided-WN3LG1-Syncing-Charging/dp/B07JW9H4J1/ref=sr_1_1?qid=1672909124&s=electronics&sr=1-1'\n",
      " 'https://www.amazon.in/Ambrane-Unbreakable-Charging-Braided-Cable/dp/B098NS6PVG/ref=sr_1_2?qid=1672909124&s=electronics&sr=1-2'\n",
      " 'https://www.amazon.in/Sounce-iPhone-Charging-Compatible-Devices/dp/B096MSW6CT/ref=sr_1_3?qid=1672909124&s=electronics&sr=1-3'\n",
      " ...\n",
      " 'https://www.amazon.in/Bajaj-RX-10-2000-Watt-Convector/dp/B009P2LIL4/ref=sr_1_504?qid=1672923617&s=kitchen&sr=1-504'\n",
      " 'https://www.amazon.in/Havells-Ventilair-230mm-Exhaust-Grey/dp/B00J5DYCCA/ref=sr_1_505?qid=1672923617&s=kitchen&sr=1-505'\n",
      " 'https://www.amazon.in/Borosil-Jumbo-1000-Watt-Grill-Sandwich/dp/B01486F4G6/ref=sr_1_506?qid=1672923617&s=kitchen&sr=1-506']\n",
      "=============================================================================================\n"
     ]
    }
   ],
   "source": [
    "UniqueVal(df.columns)"
   ]
  },
  {
   "cell_type": "markdown",
   "id": "687e1b62-e14d-4b26-98dc-e99a9089e2fb",
   "metadata": {},
   "source": [
    "#### `Deal with Object columns which is actually Numerical`"
   ]
  },
  {
   "cell_type": "code",
   "execution_count": 11,
   "id": "56227891-a465-4b80-92fb-cfbb49988c97",
   "metadata": {},
   "outputs": [],
   "source": [
    "df[\"discounted_price\"]=df.discounted_price.str.replace(\"₹\",\"\")\n",
    "df[\"discounted_price\"]=df.discounted_price.str.replace(\",\",\"\")"
   ]
  },
  {
   "cell_type": "code",
   "execution_count": 12,
   "id": "3632668b-254a-49e8-a72b-4a94236ca396",
   "metadata": {},
   "outputs": [
    {
     "data": {
      "text/plain": [
       "0        399\n",
       "1        199\n",
       "2        199\n",
       "3        329\n",
       "4        154\n",
       "        ... \n",
       "1460     379\n",
       "1461    2280\n",
       "1462    2219\n",
       "1463    1399\n",
       "1464    2863\n",
       "Name: discounted_price, Length: 1465, dtype: object"
      ]
     },
     "execution_count": 12,
     "metadata": {},
     "output_type": "execute_result"
    }
   ],
   "source": [
    "df.discounted_price"
   ]
  },
  {
   "cell_type": "code",
   "execution_count": 13,
   "id": "4704ae41-78bc-49f2-b725-42031de83687",
   "metadata": {},
   "outputs": [],
   "source": [
    "df[\"discounted_price\"]=df.discounted_price.astype(float)"
   ]
  },
  {
   "cell_type": "code",
   "execution_count": 14,
   "id": "5706866a-e4b2-46fd-bc46-b7cde0030ee1",
   "metadata": {},
   "outputs": [
    {
     "data": {
      "text/plain": [
       "0        399.0\n",
       "1        199.0\n",
       "2        199.0\n",
       "3        329.0\n",
       "4        154.0\n",
       "         ...  \n",
       "1460     379.0\n",
       "1461    2280.0\n",
       "1462    2219.0\n",
       "1463    1399.0\n",
       "1464    2863.0\n",
       "Name: discounted_price, Length: 1465, dtype: float64"
      ]
     },
     "execution_count": 14,
     "metadata": {},
     "output_type": "execute_result"
    }
   ],
   "source": [
    "df[\"discounted_price\"]"
   ]
  },
  {
   "cell_type": "markdown",
   "id": "ed10124e-5268-41bc-841a-1f7810f68dc0",
   "metadata": {},
   "source": [
    "### `Deal with Actual price columns`"
   ]
  },
  {
   "cell_type": "code",
   "execution_count": 15,
   "id": "cfc688a0-8e38-45f2-9429-aa5838b8efa0",
   "metadata": {},
   "outputs": [
    {
     "data": {
      "text/plain": [
       "0       ₹1,099\n",
       "1         ₹349\n",
       "2       ₹1,899\n",
       "3         ₹699\n",
       "4         ₹399\n",
       "         ...  \n",
       "1460      ₹919\n",
       "1461    ₹3,045\n",
       "1462    ₹3,080\n",
       "1463    ₹1,890\n",
       "1464    ₹3,690\n",
       "Name: actual_price, Length: 1465, dtype: object"
      ]
     },
     "execution_count": 15,
     "metadata": {},
     "output_type": "execute_result"
    }
   ],
   "source": [
    "df.actual_price"
   ]
  },
  {
   "cell_type": "code",
   "execution_count": 16,
   "id": "f452830e-e744-4c93-ae6d-272139453b5c",
   "metadata": {},
   "outputs": [],
   "source": [
    "df[\"actual_price\"] =df[\"actual_price\"].str.replace(\"₹\",\"\")\n",
    "df[\"actual_price\"] =df[\"actual_price\"].str.replace(\",\",\"\")"
   ]
  },
  {
   "cell_type": "code",
   "execution_count": 17,
   "id": "b7d6c262-a968-4bc1-8774-b2ff4bae8e77",
   "metadata": {},
   "outputs": [],
   "source": [
    "df[\"actual_price\"] =df[\"actual_price\"].astype(float)"
   ]
  },
  {
   "cell_type": "code",
   "execution_count": 18,
   "id": "f421eff1-df10-4378-a2d6-15031a6ee3c1",
   "metadata": {},
   "outputs": [
    {
     "data": {
      "text/plain": [
       "0       1099.0\n",
       "1        349.0\n",
       "2       1899.0\n",
       "3        699.0\n",
       "4        399.0\n",
       "         ...  \n",
       "1460     919.0\n",
       "1461    3045.0\n",
       "1462    3080.0\n",
       "1463    1890.0\n",
       "1464    3690.0\n",
       "Name: actual_price, Length: 1465, dtype: float64"
      ]
     },
     "execution_count": 18,
     "metadata": {},
     "output_type": "execute_result"
    }
   ],
   "source": [
    "df[\"actual_price\"]"
   ]
  },
  {
   "cell_type": "markdown",
   "id": "e0e1e447-63b8-4a68-92d6-6291ceaeee5d",
   "metadata": {},
   "source": [
    "### `Deal with discount % Columns`"
   ]
  },
  {
   "cell_type": "code",
   "execution_count": 19,
   "id": "eae8c71e-ddf8-43f6-85fd-5979d556b5df",
   "metadata": {},
   "outputs": [
    {
     "data": {
      "text/plain": [
       "0       64%\n",
       "1       43%\n",
       "2       90%\n",
       "3       53%\n",
       "4       61%\n",
       "       ... \n",
       "1460    59%\n",
       "1461    25%\n",
       "1462    28%\n",
       "1463    26%\n",
       "1464    22%\n",
       "Name: discount_percentage, Length: 1465, dtype: object"
      ]
     },
     "execution_count": 19,
     "metadata": {},
     "output_type": "execute_result"
    }
   ],
   "source": [
    "df.discount_percentage"
   ]
  },
  {
   "cell_type": "code",
   "execution_count": 20,
   "id": "a9cb0755-0745-46f1-82d7-42cc295ad55b",
   "metadata": {},
   "outputs": [
    {
     "data": {
      "text/plain": [
       "0       64\n",
       "1       43\n",
       "2       90\n",
       "3       53\n",
       "4       61\n",
       "        ..\n",
       "1460    59\n",
       "1461    25\n",
       "1462    28\n",
       "1463    26\n",
       "1464    22\n",
       "Name: discount_percentage, Length: 1465, dtype: object"
      ]
     },
     "execution_count": 20,
     "metadata": {},
     "output_type": "execute_result"
    }
   ],
   "source": [
    "df[\"discount_percentage\"]=df.discount_percentage.str.replace(\"%\",\"\")\n",
    "df[\"discount_percentage\"]"
   ]
  },
  {
   "cell_type": "code",
   "execution_count": 21,
   "id": "6ccffa60-9b40-48ab-b91e-e281d179a93e",
   "metadata": {},
   "outputs": [],
   "source": [
    "df[\"discount_percentage\"]= df[\"discount_percentage\"].astype(int)"
   ]
  },
  {
   "cell_type": "code",
   "execution_count": 22,
   "id": "1c452c50-9cd8-4b81-9c15-b3d18893f9de",
   "metadata": {},
   "outputs": [
    {
     "data": {
      "text/plain": [
       "0       64\n",
       "1       43\n",
       "2       90\n",
       "3       53\n",
       "4       61\n",
       "        ..\n",
       "1460    59\n",
       "1461    25\n",
       "1462    28\n",
       "1463    26\n",
       "1464    22\n",
       "Name: discount_percentage, Length: 1465, dtype: int32"
      ]
     },
     "execution_count": 22,
     "metadata": {},
     "output_type": "execute_result"
    }
   ],
   "source": [
    "df[\"discount_percentage\"]"
   ]
  },
  {
   "cell_type": "markdown",
   "id": "83f2b3bc-7a3a-4351-8067-58ccc1c4d263",
   "metadata": {},
   "source": [
    "#### `Deal with rating columns`"
   ]
  },
  {
   "cell_type": "code",
   "execution_count": 23,
   "id": "0175943b-0788-4795-988b-f4a3c382bd92",
   "metadata": {},
   "outputs": [
    {
     "data": {
      "text/plain": [
       "0       4.2\n",
       "1       4.0\n",
       "2       3.9\n",
       "3       4.2\n",
       "4       4.2\n",
       "       ... \n",
       "1460      4\n",
       "1461    4.1\n",
       "1462    3.6\n",
       "1463      4\n",
       "1464    4.3\n",
       "Name: rating, Length: 1465, dtype: object"
      ]
     },
     "execution_count": 23,
     "metadata": {},
     "output_type": "execute_result"
    }
   ],
   "source": [
    "df.rating"
   ]
  },
  {
   "cell_type": "code",
   "execution_count": 24,
   "id": "a21b0b7d-b7bc-4588-9a03-4bcdc21558dd",
   "metadata": {},
   "outputs": [],
   "source": [
    "df[\"rating\"] =pd.to_numeric(df[\"rating\"],errors=\"coerce\")"
   ]
  },
  {
   "cell_type": "code",
   "execution_count": 25,
   "id": "74783a3d-2755-4d77-b0b5-3000865def11",
   "metadata": {},
   "outputs": [
    {
     "data": {
      "text/plain": [
       "0       4.2\n",
       "1       4.0\n",
       "2       3.9\n",
       "3       4.2\n",
       "4       4.2\n",
       "       ... \n",
       "1460    4.0\n",
       "1461    4.1\n",
       "1462    3.6\n",
       "1463    4.0\n",
       "1464    4.3\n",
       "Name: rating, Length: 1465, dtype: float64"
      ]
     },
     "execution_count": 25,
     "metadata": {},
     "output_type": "execute_result"
    }
   ],
   "source": [
    "df[\"rating\"]"
   ]
  },
  {
   "cell_type": "markdown",
   "id": "21432e4b-ba5e-4b9d-9e1c-43f5b4587b46",
   "metadata": {},
   "source": [
    "#### `Lets deal with rating count columns`"
   ]
  },
  {
   "cell_type": "code",
   "execution_count": 26,
   "id": "cbf891e3-f098-4f9a-b7a2-cc3047d73b71",
   "metadata": {},
   "outputs": [
    {
     "data": {
      "text/plain": [
       "0       24,269\n",
       "1       43,994\n",
       "2        7,928\n",
       "3       94,363\n",
       "4       16,905\n",
       "         ...  \n",
       "1460     1,090\n",
       "1461     4,118\n",
       "1462       468\n",
       "1463     8,031\n",
       "1464     6,987\n",
       "Name: rating_count, Length: 1465, dtype: object"
      ]
     },
     "execution_count": 26,
     "metadata": {},
     "output_type": "execute_result"
    }
   ],
   "source": [
    "df.rating_count"
   ]
  },
  {
   "cell_type": "code",
   "execution_count": 27,
   "id": "1cc49b51-f5da-4109-8874-5e398d3416b8",
   "metadata": {},
   "outputs": [
    {
     "data": {
      "text/plain": [
       "0       24269\n",
       "1       43994\n",
       "2        7928\n",
       "3       94363\n",
       "4       16905\n",
       "        ...  \n",
       "1460     1090\n",
       "1461     4118\n",
       "1462      468\n",
       "1463     8031\n",
       "1464     6987\n",
       "Name: rating_count, Length: 1465, dtype: object"
      ]
     },
     "execution_count": 27,
     "metadata": {},
     "output_type": "execute_result"
    }
   ],
   "source": [
    "df[\"rating_count\"]=df[\"rating_count\"].str.replace(\",\",\"\")\n",
    "df[\"rating_count\"]"
   ]
  },
  {
   "cell_type": "code",
   "execution_count": 28,
   "id": "658519f1-e06d-4a29-bad3-ff53be9a5632",
   "metadata": {},
   "outputs": [],
   "source": [
    "df[\"rating_count\"]=pd.to_numeric(df[\"rating_count\"],errors=\"coerce\")"
   ]
  },
  {
   "cell_type": "code",
   "execution_count": 29,
   "id": "4fcd1829-d246-434f-ac55-da84f1f0ac47",
   "metadata": {},
   "outputs": [
    {
     "data": {
      "text/plain": [
       "0       24269.0\n",
       "1       43994.0\n",
       "2        7928.0\n",
       "3       94363.0\n",
       "4       16905.0\n",
       "         ...   \n",
       "1460     1090.0\n",
       "1461     4118.0\n",
       "1462      468.0\n",
       "1463     8031.0\n",
       "1464     6987.0\n",
       "Name: rating_count, Length: 1465, dtype: float64"
      ]
     },
     "execution_count": 29,
     "metadata": {},
     "output_type": "execute_result"
    }
   ],
   "source": [
    "df[\"rating_count\"]"
   ]
  },
  {
   "cell_type": "markdown",
   "id": "d5ab34cc-52dd-4449-8f43-bd0d04a930a4",
   "metadata": {},
   "source": [
    "#### `Drop unecessary columns`      "
   ]
  },
  {
   "cell_type": "code",
   "execution_count": 30,
   "id": "0c9631da-44b4-402a-8144-d7014d67fe7b",
   "metadata": {},
   "outputs": [],
   "source": [
    "df.drop([\"img_link\",\"product_link\"],axis=1,inplace=True)"
   ]
  },
  {
   "cell_type": "code",
   "execution_count": 31,
   "id": "574a390a-00ad-4403-8d24-234819ec8a81",
   "metadata": {},
   "outputs": [
    {
     "data": {
      "text/plain": [
       "product_id              object\n",
       "product_name            object\n",
       "category                object\n",
       "discounted_price       float64\n",
       "actual_price           float64\n",
       "discount_percentage      int32\n",
       "rating                 float64\n",
       "rating_count           float64\n",
       "about_product           object\n",
       "user_id                 object\n",
       "user_name               object\n",
       "review_id               object\n",
       "review_title            object\n",
       "review_content          object\n",
       "dtype: object"
      ]
     },
     "execution_count": 31,
     "metadata": {},
     "output_type": "execute_result"
    }
   ],
   "source": [
    "df.dtypes"
   ]
  },
  {
   "cell_type": "code",
   "execution_count": 32,
   "id": "c4ba2b95-4294-4cbb-a2e8-9aa8d4f5a6c1",
   "metadata": {},
   "outputs": [
    {
     "data": {
      "text/html": [
       "<div>\n",
       "<style scoped>\n",
       "    .dataframe tbody tr th:only-of-type {\n",
       "        vertical-align: middle;\n",
       "    }\n",
       "\n",
       "    .dataframe tbody tr th {\n",
       "        vertical-align: top;\n",
       "    }\n",
       "\n",
       "    .dataframe thead th {\n",
       "        text-align: right;\n",
       "    }\n",
       "</style>\n",
       "<table border=\"1\" class=\"dataframe\">\n",
       "  <thead>\n",
       "    <tr style=\"text-align: right;\">\n",
       "      <th></th>\n",
       "      <th>product_id</th>\n",
       "      <th>product_name</th>\n",
       "      <th>category</th>\n",
       "      <th>discounted_price</th>\n",
       "      <th>actual_price</th>\n",
       "      <th>discount_percentage</th>\n",
       "      <th>rating</th>\n",
       "      <th>rating_count</th>\n",
       "      <th>about_product</th>\n",
       "      <th>user_id</th>\n",
       "      <th>user_name</th>\n",
       "      <th>review_id</th>\n",
       "      <th>review_title</th>\n",
       "      <th>review_content</th>\n",
       "    </tr>\n",
       "  </thead>\n",
       "  <tbody>\n",
       "    <tr>\n",
       "      <th>0</th>\n",
       "      <td>B07JW9H4J1</td>\n",
       "      <td>Wayona Nylon Braided USB to Lightning Fast Cha...</td>\n",
       "      <td>Computers&amp;Accessories|Accessories&amp;Peripherals|...</td>\n",
       "      <td>399.0</td>\n",
       "      <td>1099.0</td>\n",
       "      <td>64</td>\n",
       "      <td>4.2</td>\n",
       "      <td>24269.0</td>\n",
       "      <td>High Compatibility : Compatible With iPhone 12...</td>\n",
       "      <td>AG3D6O4STAQKAY2UVGEUV46KN35Q,AHMY5CWJMMK5BJRBB...</td>\n",
       "      <td>Manav,Adarsh gupta,Sundeep,S.Sayeed Ahmed,jasp...</td>\n",
       "      <td>R3HXWT0LRP0NMF,R2AJM3LFTLZHFO,R6AQJGUP6P86,R1K...</td>\n",
       "      <td>Satisfied,Charging is really fast,Value for mo...</td>\n",
       "      <td>Looks durable Charging is fine tooNo complains...</td>\n",
       "    </tr>\n",
       "    <tr>\n",
       "      <th>1</th>\n",
       "      <td>B098NS6PVG</td>\n",
       "      <td>Ambrane Unbreakable 60W / 3A Fast Charging 1.5...</td>\n",
       "      <td>Computers&amp;Accessories|Accessories&amp;Peripherals|...</td>\n",
       "      <td>199.0</td>\n",
       "      <td>349.0</td>\n",
       "      <td>43</td>\n",
       "      <td>4.0</td>\n",
       "      <td>43994.0</td>\n",
       "      <td>Compatible with all Type C enabled devices, be...</td>\n",
       "      <td>AECPFYFQVRUWC3KGNLJIOREFP5LQ,AGYYVPDD7YG7FYNBX...</td>\n",
       "      <td>ArdKn,Nirbhay kumar,Sagar Viswanathan,Asp,Plac...</td>\n",
       "      <td>RGIQEG07R9HS2,R1SMWZQ86XIN8U,R2J3Y1WL29GWDE,RY...</td>\n",
       "      <td>A Good Braided Cable for Your Type C Device,Go...</td>\n",
       "      <td>I ordered this cable to connect my phone to An...</td>\n",
       "    </tr>\n",
       "    <tr>\n",
       "      <th>2</th>\n",
       "      <td>B096MSW6CT</td>\n",
       "      <td>Sounce Fast Phone Charging Cable &amp; Data Sync U...</td>\n",
       "      <td>Computers&amp;Accessories|Accessories&amp;Peripherals|...</td>\n",
       "      <td>199.0</td>\n",
       "      <td>1899.0</td>\n",
       "      <td>90</td>\n",
       "      <td>3.9</td>\n",
       "      <td>7928.0</td>\n",
       "      <td>【 Fast Charger&amp; Data Sync】-With built-in safet...</td>\n",
       "      <td>AGU3BBQ2V2DDAMOAKGFAWDDQ6QHA,AESFLDV2PT363T2AQ...</td>\n",
       "      <td>Kunal,Himanshu,viswanath,sai niharka,saqib mal...</td>\n",
       "      <td>R3J3EQQ9TZI5ZJ,R3E7WBGK7ID0KV,RWU79XKQ6I1QF,R2...</td>\n",
       "      <td>Good speed for earlier versions,Good Product,W...</td>\n",
       "      <td>Not quite durable and sturdy,https://m.media-a...</td>\n",
       "    </tr>\n",
       "    <tr>\n",
       "      <th>3</th>\n",
       "      <td>B08HDJ86NZ</td>\n",
       "      <td>boAt Deuce USB 300 2 in 1 Type-C &amp; Micro USB S...</td>\n",
       "      <td>Computers&amp;Accessories|Accessories&amp;Peripherals|...</td>\n",
       "      <td>329.0</td>\n",
       "      <td>699.0</td>\n",
       "      <td>53</td>\n",
       "      <td>4.2</td>\n",
       "      <td>94363.0</td>\n",
       "      <td>The boAt Deuce USB 300 2 in 1 cable is compati...</td>\n",
       "      <td>AEWAZDZZJLQUYVOVGBEUKSLXHQ5A,AG5HTSFRRE6NL3M5S...</td>\n",
       "      <td>Omkar dhale,JD,HEMALATHA,Ajwadh a.,amar singh ...</td>\n",
       "      <td>R3EEUZKKK9J36I,R3HJVYCLYOY554,REDECAZ7AMPQC,R1...</td>\n",
       "      <td>Good product,Good one,Nice,Really nice product...</td>\n",
       "      <td>Good product,long wire,Charges good,Nice,I bou...</td>\n",
       "    </tr>\n",
       "    <tr>\n",
       "      <th>4</th>\n",
       "      <td>B08CF3B7N1</td>\n",
       "      <td>Portronics Konnect L 1.2M Fast Charging 3A 8 P...</td>\n",
       "      <td>Computers&amp;Accessories|Accessories&amp;Peripherals|...</td>\n",
       "      <td>154.0</td>\n",
       "      <td>399.0</td>\n",
       "      <td>61</td>\n",
       "      <td>4.2</td>\n",
       "      <td>16905.0</td>\n",
       "      <td>[CHARGE &amp; SYNC FUNCTION]- This cable comes wit...</td>\n",
       "      <td>AE3Q6KSUK5P75D5HFYHCRAOLODSA,AFUGIFH5ZAFXRDSZH...</td>\n",
       "      <td>rahuls6099,Swasat Borah,Ajay Wadke,Pranali,RVK...</td>\n",
       "      <td>R1BP4L2HH9TFUP,R16PVJEXKV6QZS,R2UPDB81N66T4P,R...</td>\n",
       "      <td>As good as original,Decent,Good one for second...</td>\n",
       "      <td>Bought this instead of original apple, does th...</td>\n",
       "    </tr>\n",
       "  </tbody>\n",
       "</table>\n",
       "</div>"
      ],
      "text/plain": [
       "   product_id                                       product_name  \\\n",
       "0  B07JW9H4J1  Wayona Nylon Braided USB to Lightning Fast Cha...   \n",
       "1  B098NS6PVG  Ambrane Unbreakable 60W / 3A Fast Charging 1.5...   \n",
       "2  B096MSW6CT  Sounce Fast Phone Charging Cable & Data Sync U...   \n",
       "3  B08HDJ86NZ  boAt Deuce USB 300 2 in 1 Type-C & Micro USB S...   \n",
       "4  B08CF3B7N1  Portronics Konnect L 1.2M Fast Charging 3A 8 P...   \n",
       "\n",
       "                                            category  discounted_price  \\\n",
       "0  Computers&Accessories|Accessories&Peripherals|...             399.0   \n",
       "1  Computers&Accessories|Accessories&Peripherals|...             199.0   \n",
       "2  Computers&Accessories|Accessories&Peripherals|...             199.0   \n",
       "3  Computers&Accessories|Accessories&Peripherals|...             329.0   \n",
       "4  Computers&Accessories|Accessories&Peripherals|...             154.0   \n",
       "\n",
       "   actual_price  discount_percentage  rating  rating_count  \\\n",
       "0        1099.0                   64     4.2       24269.0   \n",
       "1         349.0                   43     4.0       43994.0   \n",
       "2        1899.0                   90     3.9        7928.0   \n",
       "3         699.0                   53     4.2       94363.0   \n",
       "4         399.0                   61     4.2       16905.0   \n",
       "\n",
       "                                       about_product  \\\n",
       "0  High Compatibility : Compatible With iPhone 12...   \n",
       "1  Compatible with all Type C enabled devices, be...   \n",
       "2  【 Fast Charger& Data Sync】-With built-in safet...   \n",
       "3  The boAt Deuce USB 300 2 in 1 cable is compati...   \n",
       "4  [CHARGE & SYNC FUNCTION]- This cable comes wit...   \n",
       "\n",
       "                                             user_id  \\\n",
       "0  AG3D6O4STAQKAY2UVGEUV46KN35Q,AHMY5CWJMMK5BJRBB...   \n",
       "1  AECPFYFQVRUWC3KGNLJIOREFP5LQ,AGYYVPDD7YG7FYNBX...   \n",
       "2  AGU3BBQ2V2DDAMOAKGFAWDDQ6QHA,AESFLDV2PT363T2AQ...   \n",
       "3  AEWAZDZZJLQUYVOVGBEUKSLXHQ5A,AG5HTSFRRE6NL3M5S...   \n",
       "4  AE3Q6KSUK5P75D5HFYHCRAOLODSA,AFUGIFH5ZAFXRDSZH...   \n",
       "\n",
       "                                           user_name  \\\n",
       "0  Manav,Adarsh gupta,Sundeep,S.Sayeed Ahmed,jasp...   \n",
       "1  ArdKn,Nirbhay kumar,Sagar Viswanathan,Asp,Plac...   \n",
       "2  Kunal,Himanshu,viswanath,sai niharka,saqib mal...   \n",
       "3  Omkar dhale,JD,HEMALATHA,Ajwadh a.,amar singh ...   \n",
       "4  rahuls6099,Swasat Borah,Ajay Wadke,Pranali,RVK...   \n",
       "\n",
       "                                           review_id  \\\n",
       "0  R3HXWT0LRP0NMF,R2AJM3LFTLZHFO,R6AQJGUP6P86,R1K...   \n",
       "1  RGIQEG07R9HS2,R1SMWZQ86XIN8U,R2J3Y1WL29GWDE,RY...   \n",
       "2  R3J3EQQ9TZI5ZJ,R3E7WBGK7ID0KV,RWU79XKQ6I1QF,R2...   \n",
       "3  R3EEUZKKK9J36I,R3HJVYCLYOY554,REDECAZ7AMPQC,R1...   \n",
       "4  R1BP4L2HH9TFUP,R16PVJEXKV6QZS,R2UPDB81N66T4P,R...   \n",
       "\n",
       "                                        review_title  \\\n",
       "0  Satisfied,Charging is really fast,Value for mo...   \n",
       "1  A Good Braided Cable for Your Type C Device,Go...   \n",
       "2  Good speed for earlier versions,Good Product,W...   \n",
       "3  Good product,Good one,Nice,Really nice product...   \n",
       "4  As good as original,Decent,Good one for second...   \n",
       "\n",
       "                                      review_content  \n",
       "0  Looks durable Charging is fine tooNo complains...  \n",
       "1  I ordered this cable to connect my phone to An...  \n",
       "2  Not quite durable and sturdy,https://m.media-a...  \n",
       "3  Good product,long wire,Charges good,Nice,I bou...  \n",
       "4  Bought this instead of original apple, does th...  "
      ]
     },
     "execution_count": 32,
     "metadata": {},
     "output_type": "execute_result"
    }
   ],
   "source": [
    "df.head()"
   ]
  },
  {
   "cell_type": "code",
   "execution_count": 33,
   "id": "d1aa2dd2-a609-4014-afaf-80afaa7010b0",
   "metadata": {},
   "outputs": [
    {
     "name": "stdout",
     "output_type": "stream",
     "text": [
      "<class 'pandas.core.frame.DataFrame'>\n",
      "RangeIndex: 1465 entries, 0 to 1464\n",
      "Data columns (total 14 columns):\n",
      " #   Column               Non-Null Count  Dtype  \n",
      "---  ------               --------------  -----  \n",
      " 0   product_id           1465 non-null   object \n",
      " 1   product_name         1465 non-null   object \n",
      " 2   category             1465 non-null   object \n",
      " 3   discounted_price     1465 non-null   float64\n",
      " 4   actual_price         1465 non-null   float64\n",
      " 5   discount_percentage  1465 non-null   int32  \n",
      " 6   rating               1464 non-null   float64\n",
      " 7   rating_count         1463 non-null   float64\n",
      " 8   about_product        1465 non-null   object \n",
      " 9   user_id              1465 non-null   object \n",
      " 10  user_name            1465 non-null   object \n",
      " 11  review_id            1465 non-null   object \n",
      " 12  review_title         1465 non-null   object \n",
      " 13  review_content       1465 non-null   object \n",
      "dtypes: float64(4), int32(1), object(9)\n",
      "memory usage: 154.6+ KB\n"
     ]
    }
   ],
   "source": [
    "df.info()"
   ]
  },
  {
   "cell_type": "code",
   "execution_count": null,
   "id": "7296c11f-c016-4549-a61e-ccc1cb9c9bc9",
   "metadata": {},
   "outputs": [],
   "source": []
  },
  {
   "cell_type": "markdown",
   "id": "d9cb4088-b21b-4a20-87a9-3a8f8e246b90",
   "metadata": {},
   "source": [
    "## `Questions :`"
   ]
  },
  {
   "cell_type": "markdown",
   "id": "7928b4c3-ac6b-408e-afd6-021040c3d3be",
   "metadata": {},
   "source": [
    "### `1 -What is the average rating for each product category?`"
   ]
  },
  {
   "cell_type": "code",
   "execution_count": 34,
   "id": "e45210e4-f536-45a4-8c7b-a341de4f8bc7",
   "metadata": {},
   "outputs": [],
   "source": [
    "avarge_rating =df.groupby([\"category\"])[\"rating\"].transform(\"mean\")"
   ]
  },
  {
   "cell_type": "code",
   "execution_count": 35,
   "id": "be2aea96-8a1f-47b1-9668-857259ccdd52",
   "metadata": {},
   "outputs": [
    {
     "data": {
      "text/plain": [
       "0       4.151931\n",
       "1       4.151931\n",
       "2       4.151931\n",
       "3       4.151931\n",
       "4       4.151931\n",
       "          ...   \n",
       "1460    3.918182\n",
       "1461    3.960000\n",
       "1462    3.700000\n",
       "1463    4.100000\n",
       "1464    4.100000\n",
       "Name: rating, Length: 1465, dtype: float64"
      ]
     },
     "execution_count": 35,
     "metadata": {},
     "output_type": "execute_result"
    }
   ],
   "source": [
    "avarge_rating"
   ]
  },
  {
   "cell_type": "markdown",
   "id": "c3e598b4-4bcb-464c-b66b-008d257d9efd",
   "metadata": {},
   "source": [
    "## OR"
   ]
  },
  {
   "cell_type": "code",
   "execution_count": 36,
   "id": "389c5920-f0c0-489c-bd14-25e016e62201",
   "metadata": {},
   "outputs": [
    {
     "data": {
      "text/html": [
       "<div>\n",
       "<style scoped>\n",
       "    .dataframe tbody tr th:only-of-type {\n",
       "        vertical-align: middle;\n",
       "    }\n",
       "\n",
       "    .dataframe tbody tr th {\n",
       "        vertical-align: top;\n",
       "    }\n",
       "\n",
       "    .dataframe thead th {\n",
       "        text-align: right;\n",
       "    }\n",
       "</style>\n",
       "<table border=\"1\" class=\"dataframe\">\n",
       "  <thead>\n",
       "    <tr style=\"text-align: right;\">\n",
       "      <th></th>\n",
       "      <th>category</th>\n",
       "      <th>rating</th>\n",
       "    </tr>\n",
       "  </thead>\n",
       "  <tbody>\n",
       "    <tr>\n",
       "      <th>0</th>\n",
       "      <td>Toys&amp;Games|Arts&amp;Crafts|Drawing&amp;PaintingSupplie...</td>\n",
       "      <td>4.300000</td>\n",
       "    </tr>\n",
       "    <tr>\n",
       "      <th>1</th>\n",
       "      <td>OfficeProducts|OfficePaperProducts|Paper|Stati...</td>\n",
       "      <td>4.133333</td>\n",
       "    </tr>\n",
       "    <tr>\n",
       "      <th>2</th>\n",
       "      <td>OfficeProducts|OfficePaperProducts|Paper|Stati...</td>\n",
       "      <td>4.300000</td>\n",
       "    </tr>\n",
       "    <tr>\n",
       "      <th>3</th>\n",
       "      <td>OfficeProducts|OfficePaperProducts|Paper|Stati...</td>\n",
       "      <td>4.150000</td>\n",
       "    </tr>\n",
       "    <tr>\n",
       "      <th>4</th>\n",
       "      <td>OfficeProducts|OfficePaperProducts|Paper|Stati...</td>\n",
       "      <td>4.250000</td>\n",
       "    </tr>\n",
       "    <tr>\n",
       "      <th>...</th>\n",
       "      <td>...</td>\n",
       "      <td>...</td>\n",
       "    </tr>\n",
       "    <tr>\n",
       "      <th>206</th>\n",
       "      <td>Computers&amp;Accessories|Accessories&amp;Peripherals|...</td>\n",
       "      <td>4.050000</td>\n",
       "    </tr>\n",
       "    <tr>\n",
       "      <th>207</th>\n",
       "      <td>Computers&amp;Accessories|Accessories&amp;Peripherals|...</td>\n",
       "      <td>3.600000</td>\n",
       "    </tr>\n",
       "    <tr>\n",
       "      <th>208</th>\n",
       "      <td>Computers&amp;Accessories|Accessories&amp;Peripherals|...</td>\n",
       "      <td>3.500000</td>\n",
       "    </tr>\n",
       "    <tr>\n",
       "      <th>209</th>\n",
       "      <td>Computers&amp;Accessories|Accessories&amp;Peripherals|...</td>\n",
       "      <td>4.150000</td>\n",
       "    </tr>\n",
       "    <tr>\n",
       "      <th>210</th>\n",
       "      <td>Car&amp;Motorbike|CarAccessories|InteriorAccessori...</td>\n",
       "      <td>3.800000</td>\n",
       "    </tr>\n",
       "  </tbody>\n",
       "</table>\n",
       "<p>211 rows × 2 columns</p>\n",
       "</div>"
      ],
      "text/plain": [
       "                                              category    rating\n",
       "0    Toys&Games|Arts&Crafts|Drawing&PaintingSupplie...  4.300000\n",
       "1    OfficeProducts|OfficePaperProducts|Paper|Stati...  4.133333\n",
       "2    OfficeProducts|OfficePaperProducts|Paper|Stati...  4.300000\n",
       "3    OfficeProducts|OfficePaperProducts|Paper|Stati...  4.150000\n",
       "4    OfficeProducts|OfficePaperProducts|Paper|Stati...  4.250000\n",
       "..                                                 ...       ...\n",
       "206  Computers&Accessories|Accessories&Peripherals|...  4.050000\n",
       "207  Computers&Accessories|Accessories&Peripherals|...  3.600000\n",
       "208  Computers&Accessories|Accessories&Peripherals|...  3.500000\n",
       "209  Computers&Accessories|Accessories&Peripherals|...  4.150000\n",
       "210  Car&Motorbike|CarAccessories|InteriorAccessori...  3.800000\n",
       "\n",
       "[211 rows x 2 columns]"
      ]
     },
     "execution_count": 36,
     "metadata": {},
     "output_type": "execute_result"
    }
   ],
   "source": [
    "avg_rating= df.groupby([\"category\"])[\"rating\"].mean().sort_index(ascending=False)\n",
    "avg_rating.reset_index()"
   ]
  },
  {
   "cell_type": "markdown",
   "id": "3aef9659-af56-4ea1-a626-498807e16fda",
   "metadata": {},
   "source": [
    "### `Observation and Insight`\n",
    "\n",
    "1. category Toys&Games|Arts&Crafts|Drawing&PaintingSupplie has highest avg rating.\n",
    "2.  Car&Motorbike|CarAccessories|InteriorAccessori has lowest avg rating."
   ]
  },
  {
   "cell_type": "markdown",
   "id": "bd7ac5dd-cd0d-4862-b8ab-a27eaa77e26d",
   "metadata": {},
   "source": [
    "### `2 -What are the top rating_count products by category?`"
   ]
  },
  {
   "cell_type": "code",
   "execution_count": 37,
   "id": "688d57b0-ebac-4433-a53b-c4bdc00c40e7",
   "metadata": {},
   "outputs": [],
   "source": [
    "Top_10_Rt=df.set_index(\"category\")"
   ]
  },
  {
   "cell_type": "code",
   "execution_count": 38,
   "id": "31470c34-6158-410a-9cba-325da4e9f91b",
   "metadata": {},
   "outputs": [],
   "source": [
    "Top10_rating_count =Top_10_Rt[\"rating_count\"].sort_values(ascending=False)"
   ]
  },
  {
   "cell_type": "code",
   "execution_count": 39,
   "id": "f62c6778-a00f-42b6-b1cb-a350abd05942",
   "metadata": {},
   "outputs": [
    {
     "data": {
      "text/html": [
       "<div>\n",
       "<style scoped>\n",
       "    .dataframe tbody tr th:only-of-type {\n",
       "        vertical-align: middle;\n",
       "    }\n",
       "\n",
       "    .dataframe tbody tr th {\n",
       "        vertical-align: top;\n",
       "    }\n",
       "\n",
       "    .dataframe thead th {\n",
       "        text-align: right;\n",
       "    }\n",
       "</style>\n",
       "<table border=\"1\" class=\"dataframe\">\n",
       "  <thead>\n",
       "    <tr style=\"text-align: right;\">\n",
       "      <th></th>\n",
       "      <th>category</th>\n",
       "      <th>rating_count</th>\n",
       "    </tr>\n",
       "  </thead>\n",
       "  <tbody>\n",
       "    <tr>\n",
       "      <th>0</th>\n",
       "      <td>Electronics|HomeTheater,TV&amp;Video|Accessories|C...</td>\n",
       "      <td>426973.0</td>\n",
       "    </tr>\n",
       "    <tr>\n",
       "      <th>1</th>\n",
       "      <td>Electronics|HomeTheater,TV&amp;Video|Accessories|C...</td>\n",
       "      <td>426973.0</td>\n",
       "    </tr>\n",
       "    <tr>\n",
       "      <th>2</th>\n",
       "      <td>Electronics|HomeTheater,TV&amp;Video|Accessories|C...</td>\n",
       "      <td>426973.0</td>\n",
       "    </tr>\n",
       "    <tr>\n",
       "      <th>3</th>\n",
       "      <td>Electronics|HomeTheater,TV&amp;Video|Accessories|C...</td>\n",
       "      <td>426972.0</td>\n",
       "    </tr>\n",
       "    <tr>\n",
       "      <th>4</th>\n",
       "      <td>Electronics|Headphones,Earbuds&amp;Accessories|Hea...</td>\n",
       "      <td>363713.0</td>\n",
       "    </tr>\n",
       "    <tr>\n",
       "      <th>5</th>\n",
       "      <td>Electronics|Headphones,Earbuds&amp;Accessories|Hea...</td>\n",
       "      <td>363713.0</td>\n",
       "    </tr>\n",
       "    <tr>\n",
       "      <th>6</th>\n",
       "      <td>Electronics|Headphones,Earbuds&amp;Accessories|Hea...</td>\n",
       "      <td>363711.0</td>\n",
       "    </tr>\n",
       "    <tr>\n",
       "      <th>7</th>\n",
       "      <td>Electronics|Mobiles&amp;Accessories|Smartphones&amp;Ba...</td>\n",
       "      <td>313836.0</td>\n",
       "    </tr>\n",
       "    <tr>\n",
       "      <th>8</th>\n",
       "      <td>Electronics|Mobiles&amp;Accessories|Smartphones&amp;Ba...</td>\n",
       "      <td>313836.0</td>\n",
       "    </tr>\n",
       "    <tr>\n",
       "      <th>9</th>\n",
       "      <td>Electronics|Mobiles&amp;Accessories|Smartphones&amp;Ba...</td>\n",
       "      <td>313832.0</td>\n",
       "    </tr>\n",
       "  </tbody>\n",
       "</table>\n",
       "</div>"
      ],
      "text/plain": [
       "                                            category  rating_count\n",
       "0  Electronics|HomeTheater,TV&Video|Accessories|C...      426973.0\n",
       "1  Electronics|HomeTheater,TV&Video|Accessories|C...      426973.0\n",
       "2  Electronics|HomeTheater,TV&Video|Accessories|C...      426973.0\n",
       "3  Electronics|HomeTheater,TV&Video|Accessories|C...      426972.0\n",
       "4  Electronics|Headphones,Earbuds&Accessories|Hea...      363713.0\n",
       "5  Electronics|Headphones,Earbuds&Accessories|Hea...      363713.0\n",
       "6  Electronics|Headphones,Earbuds&Accessories|Hea...      363711.0\n",
       "7  Electronics|Mobiles&Accessories|Smartphones&Ba...      313836.0\n",
       "8  Electronics|Mobiles&Accessories|Smartphones&Ba...      313836.0\n",
       "9  Electronics|Mobiles&Accessories|Smartphones&Ba...      313832.0"
      ]
     },
     "execution_count": 39,
     "metadata": {},
     "output_type": "execute_result"
    }
   ],
   "source": [
    "Top10_rating_count.reset_index().head(10)"
   ]
  },
  {
   "cell_type": "markdown",
   "id": "5d7153ce-32ce-4294-a4b6-e028ee3f1159",
   "metadata": {},
   "source": [
    "### `Observation and Insight`\n",
    "\n",
    "1. Customer has given top rating counts to electronic appliances."
   ]
  },
  {
   "cell_type": "markdown",
   "id": "25a2f628-487e-49ad-a57f-269586a1a345",
   "metadata": {
    "tags": []
   },
   "source": [
    "### `3 -What is the distribution of discounted prices vs. actual prices?`"
   ]
  },
  {
   "cell_type": "code",
   "execution_count": 40,
   "id": "47a11a6f-afc6-4a88-8b50-b0f22d99779a",
   "metadata": {},
   "outputs": [
    {
     "data": {
      "image/png": "[encoded data removed]",
      "text/plain": [
       "<Figure size 1200x1200 with 2 Axes>"
      ]
     },
     "metadata": {},
     "output_type": "display_data"
    }
   ],
   "source": [
    "dist =[\"discounted_price\",\"actual_price\"]\n",
    "\n",
    "fig,ax =plt.subplots(nrows=2,ncols=1,figsize=(12,12))\n",
    "fig.subplots_adjust(hspace=1.0)\n",
    "\n",
    "for i,col in enumerate(dist):\n",
    "    sns.histplot(x=col,data=df,ax=ax[i],kde=True)\n",
    "    ax[i].set_title(col)\n",
    "\n",
    "plt.tight_layout()\n",
    "plt.show()"
   ]
  },
  {
   "cell_type": "markdown",
   "id": "6d6a8c7f-5f65-4aae-a5df-b398388c2d15",
   "metadata": {
    "jp-MarkdownHeadingCollapsed": true,
    "tags": []
   },
   "source": [
    "### `Observation and Insight`\n",
    "\n",
    "### Distcounted Price\n",
    "1. 0 to 10000 price had more no of product counts \n",
    "2. they were gievn most discount on price. \n",
    "3. discounted price ranges are 0 to 80000\n",
    "\n",
    "### Actual Price\n",
    "\n",
    "1. 0 to 20000 price had more no of product counts \n",
    "2. actual price ranges are 0 to 140000."
   ]
  },
  {
   "cell_type": "markdown",
   "id": "d27a4383-b490-4c60-9dec-9569dc2a3c42",
   "metadata": {},
   "source": [
    "### `4 -How does the average discount percentage vary across categories?`"
   ]
  },
  {
   "cell_type": "code",
   "execution_count": 41,
   "id": "8f4edd18-87e9-49f0-a9c7-36c0ffdd0b7a",
   "metadata": {},
   "outputs": [],
   "source": [
    "pct_discount =df.groupby([\"category\"])[\"discount_percentage\"].mean().sort_index(ascending=True)"
   ]
  },
  {
   "cell_type": "code",
   "execution_count": 42,
   "id": "e19c07b2-b52c-4a48-8625-94fed97958fe",
   "metadata": {},
   "outputs": [
    {
     "data": {
      "text/html": [
       "<div>\n",
       "<style scoped>\n",
       "    .dataframe tbody tr th:only-of-type {\n",
       "        vertical-align: middle;\n",
       "    }\n",
       "\n",
       "    .dataframe tbody tr th {\n",
       "        vertical-align: top;\n",
       "    }\n",
       "\n",
       "    .dataframe thead th {\n",
       "        text-align: right;\n",
       "    }\n",
       "</style>\n",
       "<table border=\"1\" class=\"dataframe\">\n",
       "  <thead>\n",
       "    <tr style=\"text-align: right;\">\n",
       "      <th></th>\n",
       "      <th>category</th>\n",
       "      <th>discount_percentage</th>\n",
       "    </tr>\n",
       "  </thead>\n",
       "  <tbody>\n",
       "    <tr>\n",
       "      <th>0</th>\n",
       "      <td>Car&amp;Motorbike|CarAccessories|InteriorAccessori...</td>\n",
       "      <td>42.0</td>\n",
       "    </tr>\n",
       "    <tr>\n",
       "      <th>1</th>\n",
       "      <td>Computers&amp;Accessories|Accessories&amp;Peripherals|...</td>\n",
       "      <td>78.5</td>\n",
       "    </tr>\n",
       "    <tr>\n",
       "      <th>2</th>\n",
       "      <td>Computers&amp;Accessories|Accessories&amp;Peripherals|...</td>\n",
       "      <td>35.0</td>\n",
       "    </tr>\n",
       "    <tr>\n",
       "      <th>3</th>\n",
       "      <td>Computers&amp;Accessories|Accessories&amp;Peripherals|...</td>\n",
       "      <td>56.5</td>\n",
       "    </tr>\n",
       "    <tr>\n",
       "      <th>4</th>\n",
       "      <td>Computers&amp;Accessories|Accessories&amp;Peripherals|...</td>\n",
       "      <td>46.5</td>\n",
       "    </tr>\n",
       "    <tr>\n",
       "      <th>...</th>\n",
       "      <td>...</td>\n",
       "      <td>...</td>\n",
       "    </tr>\n",
       "    <tr>\n",
       "      <th>206</th>\n",
       "      <td>OfficeProducts|OfficePaperProducts|Paper|Stati...</td>\n",
       "      <td>0.0</td>\n",
       "    </tr>\n",
       "    <tr>\n",
       "      <th>207</th>\n",
       "      <td>OfficeProducts|OfficePaperProducts|Paper|Stati...</td>\n",
       "      <td>5.0</td>\n",
       "    </tr>\n",
       "    <tr>\n",
       "      <th>208</th>\n",
       "      <td>OfficeProducts|OfficePaperProducts|Paper|Stati...</td>\n",
       "      <td>17.5</td>\n",
       "    </tr>\n",
       "    <tr>\n",
       "      <th>209</th>\n",
       "      <td>OfficeProducts|OfficePaperProducts|Paper|Stati...</td>\n",
       "      <td>13.0</td>\n",
       "    </tr>\n",
       "    <tr>\n",
       "      <th>210</th>\n",
       "      <td>Toys&amp;Games|Arts&amp;Crafts|Drawing&amp;PaintingSupplie...</td>\n",
       "      <td>0.0</td>\n",
       "    </tr>\n",
       "  </tbody>\n",
       "</table>\n",
       "<p>211 rows × 2 columns</p>\n",
       "</div>"
      ],
      "text/plain": [
       "                                              category  discount_percentage\n",
       "0    Car&Motorbike|CarAccessories|InteriorAccessori...                 42.0\n",
       "1    Computers&Accessories|Accessories&Peripherals|...                 78.5\n",
       "2    Computers&Accessories|Accessories&Peripherals|...                 35.0\n",
       "3    Computers&Accessories|Accessories&Peripherals|...                 56.5\n",
       "4    Computers&Accessories|Accessories&Peripherals|...                 46.5\n",
       "..                                                 ...                  ...\n",
       "206  OfficeProducts|OfficePaperProducts|Paper|Stati...                  0.0\n",
       "207  OfficeProducts|OfficePaperProducts|Paper|Stati...                  5.0\n",
       "208  OfficeProducts|OfficePaperProducts|Paper|Stati...                 17.5\n",
       "209  OfficeProducts|OfficePaperProducts|Paper|Stati...                 13.0\n",
       "210  Toys&Games|Arts&Crafts|Drawing&PaintingSupplie...                  0.0\n",
       "\n",
       "[211 rows x 2 columns]"
      ]
     },
     "execution_count": 42,
     "metadata": {},
     "output_type": "execute_result"
    }
   ],
   "source": [
    "pct_discount.reset_index()"
   ]
  },
  {
   "cell_type": "markdown",
   "id": "5ec271e4-adb2-47f8-a8a1-0e43f6b2a79b",
   "metadata": {},
   "source": [
    "### `Observation and Insight`\n",
    "\n",
    "1. Car&Motorbike|CarAccessories|InteriorAccessories,Car&Motorbike|CarAccessories|InteriorAccessori.has highest discounted % given by them\n",
    "\n",
    "2. toys games ,arts,craft ,drawing has lowest discounted % given by them."
   ]
  },
  {
   "cell_type": "markdown",
   "id": "617d3abf-bb23-4601-970c-91b5705b7a66",
   "metadata": {},
   "source": [
    "### `5- What are the most popular product names?`"
   ]
  },
  {
   "cell_type": "code",
   "execution_count": 43,
   "id": "f4f64be8-a6f4-46ce-aad5-b6ecf30069b4",
   "metadata": {},
   "outputs": [],
   "source": [
    "Popular_product=df.groupby([\"product_name\"])[\"rating\"].sum().sort_index(ascending=False).reset_index()"
   ]
  },
  {
   "cell_type": "code",
   "execution_count": 44,
   "id": "194cd3e8-ba72-483a-bd01-a1df2d7c35fa",
   "metadata": {},
   "outputs": [
    {
     "data": {
      "text/html": [
       "<div>\n",
       "<style scoped>\n",
       "    .dataframe tbody tr th:only-of-type {\n",
       "        vertical-align: middle;\n",
       "    }\n",
       "\n",
       "    .dataframe tbody tr th {\n",
       "        vertical-align: top;\n",
       "    }\n",
       "\n",
       "    .dataframe thead th {\n",
       "        text-align: right;\n",
       "    }\n",
       "</style>\n",
       "<table border=\"1\" class=\"dataframe\">\n",
       "  <thead>\n",
       "    <tr style=\"text-align: right;\">\n",
       "      <th></th>\n",
       "      <th>product_name</th>\n",
       "      <th>rating</th>\n",
       "    </tr>\n",
       "  </thead>\n",
       "  <tbody>\n",
       "    <tr>\n",
       "      <th>0</th>\n",
       "      <td>tizum HDMI to VGA Adapter Cable 1080P for Proj...</td>\n",
       "      <td>7.4</td>\n",
       "    </tr>\n",
       "    <tr>\n",
       "      <th>1</th>\n",
       "      <td>rts [2 Pack] Mini USB C Type C Adapter Plug, T...</td>\n",
       "      <td>4.3</td>\n",
       "    </tr>\n",
       "    <tr>\n",
       "      <th>2</th>\n",
       "      <td>realme narzo 50i (Mint Green, 2GB RAM+32GB Sto...</td>\n",
       "      <td>4.0</td>\n",
       "    </tr>\n",
       "    <tr>\n",
       "      <th>3</th>\n",
       "      <td>realme narzo 50 (Speed Blue, 4GB RAM+64GB Stor...</td>\n",
       "      <td>4.2</td>\n",
       "    </tr>\n",
       "    <tr>\n",
       "      <th>4</th>\n",
       "      <td>realme Buds Wireless in Ear Bluetooth Earphone...</td>\n",
       "      <td>4.1</td>\n",
       "    </tr>\n",
       "    <tr>\n",
       "      <th>...</th>\n",
       "      <td>...</td>\n",
       "      <td>...</td>\n",
       "    </tr>\n",
       "    <tr>\n",
       "      <th>1332</th>\n",
       "      <td>3M Post-it Sticky Note Cube, 200 Sheets (4 Col...</td>\n",
       "      <td>4.4</td>\n",
       "    </tr>\n",
       "    <tr>\n",
       "      <th>1333</th>\n",
       "      <td>10k 8k 4k HDMI Cable, Certified 48Gbps 1ms Ult...</td>\n",
       "      <td>4.6</td>\n",
       "    </tr>\n",
       "    <tr>\n",
       "      <th>1334</th>\n",
       "      <td>10WeRun Id-116 Bluetooth Smartwatch Wireless F...</td>\n",
       "      <td>4.1</td>\n",
       "    </tr>\n",
       "    <tr>\n",
       "      <th>1335</th>\n",
       "      <td>!!HANEUL!!1000 Watt/2000-Watt Room Heater!! Fa...</td>\n",
       "      <td>3.4</td>\n",
       "    </tr>\n",
       "    <tr>\n",
       "      <th>1336</th>\n",
       "      <td>!!1000 Watt/2000-Watt Room Heater!! Fan Heater...</td>\n",
       "      <td>4.5</td>\n",
       "    </tr>\n",
       "  </tbody>\n",
       "</table>\n",
       "<p>1337 rows × 2 columns</p>\n",
       "</div>"
      ],
      "text/plain": [
       "                                           product_name  rating\n",
       "0     tizum HDMI to VGA Adapter Cable 1080P for Proj...     7.4\n",
       "1     rts [2 Pack] Mini USB C Type C Adapter Plug, T...     4.3\n",
       "2     realme narzo 50i (Mint Green, 2GB RAM+32GB Sto...     4.0\n",
       "3     realme narzo 50 (Speed Blue, 4GB RAM+64GB Stor...     4.2\n",
       "4     realme Buds Wireless in Ear Bluetooth Earphone...     4.1\n",
       "...                                                 ...     ...\n",
       "1332  3M Post-it Sticky Note Cube, 200 Sheets (4 Col...     4.4\n",
       "1333  10k 8k 4k HDMI Cable, Certified 48Gbps 1ms Ult...     4.6\n",
       "1334  10WeRun Id-116 Bluetooth Smartwatch Wireless F...     4.1\n",
       "1335  !!HANEUL!!1000 Watt/2000-Watt Room Heater!! Fa...     3.4\n",
       "1336  !!1000 Watt/2000-Watt Room Heater!! Fan Heater...     4.5\n",
       "\n",
       "[1337 rows x 2 columns]"
      ]
     },
     "execution_count": 44,
     "metadata": {},
     "output_type": "execute_result"
    }
   ],
   "source": [
    "Popular_product"
   ]
  },
  {
   "cell_type": "markdown",
   "id": "e3ff0655-726e-4240-b56f-810afca263d7",
   "metadata": {},
   "source": [
    "### `Observation and Insight`\n",
    "\n",
    "1. Popular product name are Fire-Boltt Ninja Call Pro Plus 1.83\" Smart Watch,Ambrane 2 in 1 Type-C & Micro USB Cable with 6 ,MI Usb Type-C Cable Smartphone (Black) electronic iteams are mopst popular product which has given good rating by customer."
   ]
  },
  {
   "cell_type": "markdown",
   "id": "36209501-c89e-4376-a923-86f796f20efa",
   "metadata": {},
   "source": [
    "### `6- What are the most popular product keywords?`"
   ]
  },
  {
   "cell_type": "code",
   "execution_count": 45,
   "id": "5260ea0d-76c4-4921-9ad2-badfda56804e",
   "metadata": {},
   "outputs": [
    {
     "data": {
      "text/html": [
       "<div>\n",
       "<style scoped>\n",
       "    .dataframe tbody tr th:only-of-type {\n",
       "        vertical-align: middle;\n",
       "    }\n",
       "\n",
       "    .dataframe tbody tr th {\n",
       "        vertical-align: top;\n",
       "    }\n",
       "\n",
       "    .dataframe thead th {\n",
       "        text-align: right;\n",
       "    }\n",
       "</style>\n",
       "<table border=\"1\" class=\"dataframe\">\n",
       "  <thead>\n",
       "    <tr style=\"text-align: right;\">\n",
       "      <th></th>\n",
       "      <th>product_name</th>\n",
       "      <th>rating</th>\n",
       "    </tr>\n",
       "  </thead>\n",
       "  <tbody>\n",
       "    <tr>\n",
       "      <th>0</th>\n",
       "      <td>tizum HDMI to VGA Adapter Cable 1080P for Proj...</td>\n",
       "      <td>7.4</td>\n",
       "    </tr>\n",
       "    <tr>\n",
       "      <th>1</th>\n",
       "      <td>rts [2 Pack] Mini USB C Type C Adapter Plug, T...</td>\n",
       "      <td>4.3</td>\n",
       "    </tr>\n",
       "    <tr>\n",
       "      <th>2</th>\n",
       "      <td>realme narzo 50i (Mint Green, 2GB RAM+32GB Sto...</td>\n",
       "      <td>4.0</td>\n",
       "    </tr>\n",
       "    <tr>\n",
       "      <th>3</th>\n",
       "      <td>realme narzo 50 (Speed Blue, 4GB RAM+64GB Stor...</td>\n",
       "      <td>4.2</td>\n",
       "    </tr>\n",
       "    <tr>\n",
       "      <th>4</th>\n",
       "      <td>realme Buds Wireless in Ear Bluetooth Earphone...</td>\n",
       "      <td>4.1</td>\n",
       "    </tr>\n",
       "    <tr>\n",
       "      <th>...</th>\n",
       "      <td>...</td>\n",
       "      <td>...</td>\n",
       "    </tr>\n",
       "    <tr>\n",
       "      <th>1332</th>\n",
       "      <td>3M Post-it Sticky Note Cube, 200 Sheets (4 Col...</td>\n",
       "      <td>4.4</td>\n",
       "    </tr>\n",
       "    <tr>\n",
       "      <th>1333</th>\n",
       "      <td>10k 8k 4k HDMI Cable, Certified 48Gbps 1ms Ult...</td>\n",
       "      <td>4.6</td>\n",
       "    </tr>\n",
       "    <tr>\n",
       "      <th>1334</th>\n",
       "      <td>10WeRun Id-116 Bluetooth Smartwatch Wireless F...</td>\n",
       "      <td>4.1</td>\n",
       "    </tr>\n",
       "    <tr>\n",
       "      <th>1335</th>\n",
       "      <td>!!HANEUL!!1000 Watt/2000-Watt Room Heater!! Fa...</td>\n",
       "      <td>3.4</td>\n",
       "    </tr>\n",
       "    <tr>\n",
       "      <th>1336</th>\n",
       "      <td>!!1000 Watt/2000-Watt Room Heater!! Fan Heater...</td>\n",
       "      <td>4.5</td>\n",
       "    </tr>\n",
       "  </tbody>\n",
       "</table>\n",
       "<p>1337 rows × 2 columns</p>\n",
       "</div>"
      ],
      "text/plain": [
       "                                           product_name  rating\n",
       "0     tizum HDMI to VGA Adapter Cable 1080P for Proj...     7.4\n",
       "1     rts [2 Pack] Mini USB C Type C Adapter Plug, T...     4.3\n",
       "2     realme narzo 50i (Mint Green, 2GB RAM+32GB Sto...     4.0\n",
       "3     realme narzo 50 (Speed Blue, 4GB RAM+64GB Stor...     4.2\n",
       "4     realme Buds Wireless in Ear Bluetooth Earphone...     4.1\n",
       "...                                                 ...     ...\n",
       "1332  3M Post-it Sticky Note Cube, 200 Sheets (4 Col...     4.4\n",
       "1333  10k 8k 4k HDMI Cable, Certified 48Gbps 1ms Ult...     4.6\n",
       "1334  10WeRun Id-116 Bluetooth Smartwatch Wireless F...     4.1\n",
       "1335  !!HANEUL!!1000 Watt/2000-Watt Room Heater!! Fa...     3.4\n",
       "1336  !!1000 Watt/2000-Watt Room Heater!! Fan Heater...     4.5\n",
       "\n",
       "[1337 rows x 2 columns]"
      ]
     },
     "execution_count": 45,
     "metadata": {},
     "output_type": "execute_result"
    }
   ],
   "source": [
    "Popular_product"
   ]
  },
  {
   "cell_type": "markdown",
   "id": "ddc8e949-fc50-4715-8343-e01b638611ea",
   "metadata": {},
   "source": [
    "### `7- What are the most popular product reviews?`"
   ]
  },
  {
   "cell_type": "code",
   "execution_count": 55,
   "id": "44719325-74f0-4564-8221-1d4c05f3feec",
   "metadata": {},
   "outputs": [
    {
     "data": {
      "text/html": [
       "<div>\n",
       "<style scoped>\n",
       "    .dataframe tbody tr th:only-of-type {\n",
       "        vertical-align: middle;\n",
       "    }\n",
       "\n",
       "    .dataframe tbody tr th {\n",
       "        vertical-align: top;\n",
       "    }\n",
       "\n",
       "    .dataframe thead th {\n",
       "        text-align: right;\n",
       "    }\n",
       "</style>\n",
       "<table border=\"1\" class=\"dataframe\">\n",
       "  <thead>\n",
       "    <tr style=\"text-align: right;\">\n",
       "      <th></th>\n",
       "      <th>product_name</th>\n",
       "      <th>review_title</th>\n",
       "      <th>rating</th>\n",
       "    </tr>\n",
       "  </thead>\n",
       "  <tbody>\n",
       "    <tr>\n",
       "      <th>0</th>\n",
       "      <td>Fire-Boltt Ninja Call Pro Plus 1.83\" Smart Wat...</td>\n",
       "      <td>Worth the money,Good smart watch,the screen do...</td>\n",
       "      <td>21.0</td>\n",
       "    </tr>\n",
       "    <tr>\n",
       "      <th>1</th>\n",
       "      <td>Fire-Boltt Phoenix Smart Watch with Bluetooth ...</td>\n",
       "      <td>7-8/10, Decent, good for day to day use,Good c...</td>\n",
       "      <td>17.2</td>\n",
       "    </tr>\n",
       "    <tr>\n",
       "      <th>2</th>\n",
       "      <td>Duracell USB Lightning Apple Certified (Mfi) B...</td>\n",
       "      <td>Good cable for car,Good substitute for orginal...</td>\n",
       "      <td>13.5</td>\n",
       "    </tr>\n",
       "    <tr>\n",
       "      <th>3</th>\n",
       "      <td>Amazonbasics Nylon Braided Usb-C To Lightning ...</td>\n",
       "      <td>Good,Worth to buy,Great value for price,Good p...</td>\n",
       "      <td>13.2</td>\n",
       "    </tr>\n",
       "    <tr>\n",
       "      <th>4</th>\n",
       "      <td>MI Braided USB Type-C Cable for Charging Adapt...</td>\n",
       "      <td>Good product,using this product 8months It is ...</td>\n",
       "      <td>13.2</td>\n",
       "    </tr>\n",
       "    <tr>\n",
       "      <th>...</th>\n",
       "      <td>...</td>\n",
       "      <td>...</td>\n",
       "      <td>...</td>\n",
       "    </tr>\n",
       "    <tr>\n",
       "      <th>1343</th>\n",
       "      <td>MR. BRAND Portable USB Juicer Electric USB Jui...</td>\n",
       "      <td>Portable but not much powerful,not so good. po...</td>\n",
       "      <td>2.8</td>\n",
       "    </tr>\n",
       "    <tr>\n",
       "      <th>1344</th>\n",
       "      <td>Green Tales Heat Seal Mini Food Sealer-Impulse...</td>\n",
       "      <td>It is broken,Could have been a bit better,The ...</td>\n",
       "      <td>2.6</td>\n",
       "    </tr>\n",
       "    <tr>\n",
       "      <th>1345</th>\n",
       "      <td>Personal Size Blender, Portable Blender, Batte...</td>\n",
       "      <td>Nice product i recommend to buy,Do not buy!! D...</td>\n",
       "      <td>2.3</td>\n",
       "    </tr>\n",
       "    <tr>\n",
       "      <th>1346</th>\n",
       "      <td>Khaitan ORFin Fan heater for Home and kitchen-...</td>\n",
       "      <td>Bad quality,Amazing product..</td>\n",
       "      <td>2.0</td>\n",
       "    </tr>\n",
       "    <tr>\n",
       "      <th>1347</th>\n",
       "      <td>Eureka Forbes car Vac 100 Watts Powerful Sucti...</td>\n",
       "      <td>Decent product,doesn't pick up sand,Ok ok,Must...</td>\n",
       "      <td>0.0</td>\n",
       "    </tr>\n",
       "  </tbody>\n",
       "</table>\n",
       "<p>1348 rows × 3 columns</p>\n",
       "</div>"
      ],
      "text/plain": [
       "                                           product_name  \\\n",
       "0     Fire-Boltt Ninja Call Pro Plus 1.83\" Smart Wat...   \n",
       "1     Fire-Boltt Phoenix Smart Watch with Bluetooth ...   \n",
       "2     Duracell USB Lightning Apple Certified (Mfi) B...   \n",
       "3     Amazonbasics Nylon Braided Usb-C To Lightning ...   \n",
       "4     MI Braided USB Type-C Cable for Charging Adapt...   \n",
       "...                                                 ...   \n",
       "1343  MR. BRAND Portable USB Juicer Electric USB Jui...   \n",
       "1344  Green Tales Heat Seal Mini Food Sealer-Impulse...   \n",
       "1345  Personal Size Blender, Portable Blender, Batte...   \n",
       "1346  Khaitan ORFin Fan heater for Home and kitchen-...   \n",
       "1347  Eureka Forbes car Vac 100 Watts Powerful Sucti...   \n",
       "\n",
       "                                           review_title  rating  \n",
       "0     Worth the money,Good smart watch,the screen do...    21.0  \n",
       "1     7-8/10, Decent, good for day to day use,Good c...    17.2  \n",
       "2     Good cable for car,Good substitute for orginal...    13.5  \n",
       "3     Good,Worth to buy,Great value for price,Good p...    13.2  \n",
       "4     Good product,using this product 8months It is ...    13.2  \n",
       "...                                                 ...     ...  \n",
       "1343  Portable but not much powerful,not so good. po...     2.8  \n",
       "1344  It is broken,Could have been a bit better,The ...     2.6  \n",
       "1345  Nice product i recommend to buy,Do not buy!! D...     2.3  \n",
       "1346                      Bad quality,Amazing product..     2.0  \n",
       "1347  Decent product,doesn't pick up sand,Ok ok,Must...     0.0  \n",
       "\n",
       "[1348 rows x 3 columns]"
      ]
     },
     "execution_count": 55,
     "metadata": {},
     "output_type": "execute_result"
    }
   ],
   "source": [
    "Popular_Product_review=df.groupby([\"product_name\",\"review_title\"])[\"rating\"].sum().sort_values(ascending=False).reset_index()\n",
    "Popular_Product_review"
   ]
  },
  {
   "cell_type": "markdown",
   "id": "a39d7783-871e-4da4-9305-8e32bdfd3df3",
   "metadata": {},
   "source": [
    "### `Observation and Insight`\n",
    "\n",
    "1. Following are popular product review"
   ]
  },
  {
   "cell_type": "markdown",
   "id": "aab681c8-8997-4e8e-a254-fb352e3a19a3",
   "metadata": {},
   "source": [
    "### `8- What is the correlation between discounted_price and rating?`"
   ]
  },
  {
   "cell_type": "code",
   "execution_count": 47,
   "id": "4e82aa3d-d13d-45d1-8ae1-74aa47f13ad4",
   "metadata": {},
   "outputs": [
    {
     "data": {
      "text/html": [
       "<div>\n",
       "<style scoped>\n",
       "    .dataframe tbody tr th:only-of-type {\n",
       "        vertical-align: middle;\n",
       "    }\n",
       "\n",
       "    .dataframe tbody tr th {\n",
       "        vertical-align: top;\n",
       "    }\n",
       "\n",
       "    .dataframe thead th {\n",
       "        text-align: right;\n",
       "    }\n",
       "</style>\n",
       "<table border=\"1\" class=\"dataframe\">\n",
       "  <thead>\n",
       "    <tr style=\"text-align: right;\">\n",
       "      <th></th>\n",
       "      <th>discounted_price</th>\n",
       "      <th>rating</th>\n",
       "    </tr>\n",
       "  </thead>\n",
       "  <tbody>\n",
       "    <tr>\n",
       "      <th>discounted_price</th>\n",
       "      <td>1.000000</td>\n",
       "      <td>0.120337</td>\n",
       "    </tr>\n",
       "    <tr>\n",
       "      <th>rating</th>\n",
       "      <td>0.120337</td>\n",
       "      <td>1.000000</td>\n",
       "    </tr>\n",
       "  </tbody>\n",
       "</table>\n",
       "</div>"
      ],
      "text/plain": [
       "                  discounted_price    rating\n",
       "discounted_price          1.000000  0.120337\n",
       "rating                    0.120337  1.000000"
      ]
     },
     "execution_count": 47,
     "metadata": {},
     "output_type": "execute_result"
    }
   ],
   "source": [
    "df_corr =df[[\"discounted_price\",\"rating\"]]\n",
    "df_corr.corr()"
   ]
  },
  {
   "cell_type": "code",
   "execution_count": 48,
   "id": "3ce47856-e369-4f9a-80db-7710efe535c5",
   "metadata": {},
   "outputs": [
    {
     "data": {
      "image/png": "[encoded data removed]",
      "text/plain": [
       "<Figure size 200x200 with 2 Axes>"
      ]
     },
     "metadata": {},
     "output_type": "display_data"
    }
   ],
   "source": [
    "plt.figure(figsize=(2,2))\n",
    "sns.heatmap(df_corr.corr(),annot=True)\n",
    "plt.show()"
   ]
  },
  {
   "cell_type": "markdown",
   "id": "3d6c8bcb-afe2-4267-adc6-829b6580f695",
   "metadata": {},
   "source": [
    "### `Observation and Insight`\n",
    "\n",
    "1. Discounted price is positively correlated to rating columns"
   ]
  },
  {
   "cell_type": "markdown",
   "id": "38b765eb-a3e3-49da-80a9-0a0d4955331d",
   "metadata": {},
   "source": [
    "### `9 -What are the Top 5 categories based on the highest ratings?`"
   ]
  },
  {
   "cell_type": "code",
   "execution_count": 49,
   "id": "47b13f22-9c9d-47bf-a925-33e21ebebd81",
   "metadata": {},
   "outputs": [],
   "source": [
    "top_category =df.set_index(\"category\")"
   ]
  },
  {
   "cell_type": "code",
   "execution_count": 50,
   "id": "27dcfb88-9aef-4312-a371-6164d11bd557",
   "metadata": {},
   "outputs": [],
   "source": [
    "top5_cat =top_category[\"rating\"].sort_values(ascending=False).head(5)"
   ]
  },
  {
   "cell_type": "code",
   "execution_count": 51,
   "id": "10696349-ed20-4ea9-9373-4cdc8cfc6a06",
   "metadata": {},
   "outputs": [
    {
     "data": {
      "text/html": [
       "<div>\n",
       "<style scoped>\n",
       "    .dataframe tbody tr th:only-of-type {\n",
       "        vertical-align: middle;\n",
       "    }\n",
       "\n",
       "    .dataframe tbody tr th {\n",
       "        vertical-align: top;\n",
       "    }\n",
       "\n",
       "    .dataframe thead th {\n",
       "        text-align: right;\n",
       "    }\n",
       "</style>\n",
       "<table border=\"1\" class=\"dataframe\">\n",
       "  <thead>\n",
       "    <tr style=\"text-align: right;\">\n",
       "      <th></th>\n",
       "      <th>category</th>\n",
       "      <th>rating</th>\n",
       "    </tr>\n",
       "  </thead>\n",
       "  <tbody>\n",
       "    <tr>\n",
       "      <th>0</th>\n",
       "      <td>Computers&amp;Accessories|Accessories&amp;Peripherals|...</td>\n",
       "      <td>5.0</td>\n",
       "    </tr>\n",
       "    <tr>\n",
       "      <th>1</th>\n",
       "      <td>Computers&amp;Accessories|Accessories&amp;Peripherals|...</td>\n",
       "      <td>5.0</td>\n",
       "    </tr>\n",
       "    <tr>\n",
       "      <th>2</th>\n",
       "      <td>Computers&amp;Accessories|Accessories&amp;Peripherals|...</td>\n",
       "      <td>5.0</td>\n",
       "    </tr>\n",
       "    <tr>\n",
       "      <th>3</th>\n",
       "      <td>Home&amp;Kitchen|Heating,Cooling&amp;AirQuality|WaterH...</td>\n",
       "      <td>4.8</td>\n",
       "    </tr>\n",
       "    <tr>\n",
       "      <th>4</th>\n",
       "      <td>Home&amp;Kitchen|Kitchen&amp;HomeAppliances|SmallKitch...</td>\n",
       "      <td>4.8</td>\n",
       "    </tr>\n",
       "  </tbody>\n",
       "</table>\n",
       "</div>"
      ],
      "text/plain": [
       "                                            category  rating\n",
       "0  Computers&Accessories|Accessories&Peripherals|...     5.0\n",
       "1  Computers&Accessories|Accessories&Peripherals|...     5.0\n",
       "2  Computers&Accessories|Accessories&Peripherals|...     5.0\n",
       "3  Home&Kitchen|Heating,Cooling&AirQuality|WaterH...     4.8\n",
       "4  Home&Kitchen|Kitchen&HomeAppliances|SmallKitch...     4.8"
      ]
     },
     "execution_count": 51,
     "metadata": {},
     "output_type": "execute_result"
    }
   ],
   "source": [
    "top5_cat.reset_index()"
   ]
  },
  {
   "cell_type": "markdown",
   "id": "098e6a94-6426-4ac8-8320-d7df1f234815",
   "metadata": {},
   "source": [
    "### `Obseravtion and insight`\n",
    "\n",
    "1. Computer Accesaries & peripipheral have 5.0 Rating \n",
    "2. Home& kitchen Like home appliances had 4.8 rating "
   ]
  },
  {
   "cell_type": "markdown",
   "id": "e9ef7cdf-cc8c-49bf-9185-fce5eb32a23a",
   "metadata": {},
   "source": [
    "### `10 -Identify any potential areas for improvement or optimization based on the data analysis.`"
   ]
  },
  {
   "cell_type": "code",
   "execution_count": 56,
   "id": "f862510c-52fc-4981-8cc1-d089b9897af3",
   "metadata": {},
   "outputs": [
    {
     "data": {
      "text/plain": [
       "product_id              object\n",
       "product_name            object\n",
       "category                object\n",
       "discounted_price       float64\n",
       "actual_price           float64\n",
       "discount_percentage      int32\n",
       "rating                 float64\n",
       "rating_count           float64\n",
       "about_product           object\n",
       "user_id                 object\n",
       "user_name               object\n",
       "review_id               object\n",
       "review_title            object\n",
       "review_content          object\n",
       "dtype: object"
      ]
     },
     "execution_count": 56,
     "metadata": {},
     "output_type": "execute_result"
    }
   ],
   "source": [
    "df.dtypes"
   ]
  },
  {
   "cell_type": "markdown",
   "id": "d554fbfe-05a9-401e-83f9-42ca7ccef899",
   "metadata": {},
   "source": [
    "1. category of product \n",
    "2. discounted_price\n",
    "3. actual_price\n",
    "4. discount_percentage\n",
    "5. rating \n",
    "\n",
    "these are the potential area of improvement or optimization based on the data analysis."
   ]
  },
  {
   "cell_type": "code",
   "execution_count": null,
   "id": "01c36f82-92a0-42f4-a427-b74fc59bad4d",
   "metadata": {},
   "outputs": [],
   "source": []
  },
  {
   "cell_type": "code",
   "execution_count": null,
   "id": "47c4a9ab-c3f7-4627-bc22-d08f3e6c0151",
   "metadata": {},
   "outputs": [],
   "source": []
  },
  {
   "cell_type": "code",
   "execution_count": null,
   "id": "6201c0cf-a48e-4b38-a6b4-552201f9e000",
   "metadata": {},
   "outputs": [],
   "source": []
  }
 ],
 "metadata": {
  "kernelspec": {
   "display_name": "Python 3 (ipykernel)",
   "language": "python",
   "name": "python3"
  },
  "language_info": {
   "codemirror_mode": {
    "name": "ipython",
    "version": 3
   },
   "file_extension": ".py",
   "mimetype": "text/x-python",
   "name": "python",
   "nbconvert_exporter": "python",
   "pygments_lexer": "ipython3",
   "version": "3.9.13"
  }
 },
 "nbformat": 4,
 "nbformat_minor": 5
}
