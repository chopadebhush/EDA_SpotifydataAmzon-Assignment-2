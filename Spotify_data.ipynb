{
 "cells": [
  {
   "cell_type": "markdown",
   "id": "d6bc24c2-7b6c-4616-915d-4e1269d7706d",
   "metadata": {},
   "source": [
    "### `Description of the Dataset:`"
   ]
  },
  {
   "cell_type": "markdown",
   "id": "826c2111-de5a-4757-a118-681ec06bfb90",
   "metadata": {},
   "source": [
    "The dataset titled \"Spotify Data: Popular Hip-hop Artists and Tracks\" provides a curated collection of \n",
    "approximately 500 entries showcasing the vibrant realm of hip-hop music. These entries meticulously compile \n",
    "the most celebrated hip-hop tracks and artists, reflecting their significant influence on the genre's landscape. \n",
    "Each entry not only highlights the popularity and musical composition of the tracks but also underscores the \n",
    "creative prowess of the artists and their profound impact on global listeners."
   ]
  },
  {
   "cell_type": "markdown",
   "id": "7e61b55b-9d20-43be-9094-56130ebeec62",
   "metadata": {},
   "source": [
    "#### `Application in Data Science:`"
   ]
  },
  {
   "cell_type": "markdown",
   "id": "a6aaa8ef-4ce0-44ae-a624-1877033f0295",
   "metadata": {},
   "source": [
    "This dataset serves as a valuable resource for various data science explorations. Analysts can delve into trend \n",
    "analysis to discern the popularity dynamics of hit hip-hop tracks over recent years. Additionally, the dataset \n",
    "enables network analysis to uncover collaborative patterns among top artists, shedding light on the genre's \n",
    "evolving collaborative landscape. Furthermore, it facilitates the development of predictive models aimed at \n",
    "forecasting track popularity based on diverse features, offering insights for artists, producers, and marketers."
   ]
  },
  {
   "cell_type": "markdown",
   "id": "98e4ba70-9156-4021-9e95-81bad49f01c0",
   "metadata": {},
   "source": [
    "#### `Column Descriptors:`"
   ]
  },
  {
   "cell_type": "markdown",
   "id": "5f0fd5de-5712-4f03-97dd-69a45a316d9b",
   "metadata": {},
   "source": [
    "`Artist:` The name of the artist, providing direct attribution to the creative mind behind the track.\n",
    "\n",
    "`Track Name`: The title of the track, encapsulating its identity and essence.\n",
    "\n",
    "`Popularity:` A numeric score reflecting the track's reception and appeal among Spotify listeners.\n",
    "\n",
    "`Duration (ms):` The track's length in milliseconds, detailing the temporal extent of the musical experience.\n",
    "\n",
    "`Track ID:` A unique identifier within Spotify's ecosystem, enabling direct access to the track for further \n",
    "exploration"
   ]
  },
  {
   "cell_type": "markdown",
   "id": "8f716649-db9e-4792-bfc5-38679fb379e3",
   "metadata": {},
   "source": [
    "### `Import neccessary library`"
   ]
  },
  {
   "cell_type": "code",
   "execution_count": 1,
   "id": "bab22e50-43c5-4166-83ef-3db99b68a788",
   "metadata": {},
   "outputs": [],
   "source": [
    "import numpy as np\n",
    "import pandas as pd\n",
    "import matplotlib.pyplot as plt\n",
    "import seaborn as sns\n",
    "import scipy as stats\n",
    "import warnings\n",
    "warnings.filterwarnings(\"ignore\")"
   ]
  },
  {
   "cell_type": "markdown",
   "id": "7ef3a4a1-61fd-4b43-8ec5-f4b26750dada",
   "metadata": {},
   "source": [
    "### Read the data "
   ]
  },
  {
   "cell_type": "code",
   "execution_count": 2,
   "id": "093bb94b-ec61-4d44-8517-eebc11816411",
   "metadata": {},
   "outputs": [
    {
     "data": {
      "text/html": [
       "<div>\n",
       "<style scoped>\n",
       "    .dataframe tbody tr th:only-of-type {\n",
       "        vertical-align: middle;\n",
       "    }\n",
       "\n",
       "    .dataframe tbody tr th {\n",
       "        vertical-align: top;\n",
       "    }\n",
       "\n",
       "    .dataframe thead th {\n",
       "        text-align: right;\n",
       "    }\n",
       "</style>\n",
       "<table border=\"1\" class=\"dataframe\">\n",
       "  <thead>\n",
       "    <tr style=\"text-align: right;\">\n",
       "      <th></th>\n",
       "      <th>Artist</th>\n",
       "      <th>Track Name</th>\n",
       "      <th>Popularity</th>\n",
       "      <th>Duration (ms)</th>\n",
       "      <th>Track ID</th>\n",
       "    </tr>\n",
       "  </thead>\n",
       "  <tbody>\n",
       "    <tr>\n",
       "      <th>0</th>\n",
       "      <td>Drake</td>\n",
       "      <td>Rich Baby Daddy (feat. Sexyy Red &amp; SZA)</td>\n",
       "      <td>92</td>\n",
       "      <td>319191</td>\n",
       "      <td>1yeB8MUNeLo9Ek1UEpsyz6</td>\n",
       "    </tr>\n",
       "    <tr>\n",
       "      <th>1</th>\n",
       "      <td>Drake</td>\n",
       "      <td>One Dance</td>\n",
       "      <td>91</td>\n",
       "      <td>173986</td>\n",
       "      <td>1zi7xx7UVEFkmKfv06H8x0</td>\n",
       "    </tr>\n",
       "    <tr>\n",
       "      <th>2</th>\n",
       "      <td>Drake</td>\n",
       "      <td>IDGAF (feat. Yeat)</td>\n",
       "      <td>90</td>\n",
       "      <td>260111</td>\n",
       "      <td>2YSzYUF3jWqb9YP9VXmpjE</td>\n",
       "    </tr>\n",
       "    <tr>\n",
       "      <th>3</th>\n",
       "      <td>Drake</td>\n",
       "      <td>First Person Shooter (feat. J. Cole)</td>\n",
       "      <td>88</td>\n",
       "      <td>247444</td>\n",
       "      <td>7aqfrAY2p9BUSiupwk3svU</td>\n",
       "    </tr>\n",
       "    <tr>\n",
       "      <th>4</th>\n",
       "      <td>Drake</td>\n",
       "      <td>Jimmy Cooks (feat. 21 Savage)</td>\n",
       "      <td>88</td>\n",
       "      <td>218364</td>\n",
       "      <td>3F5CgOj3wFlRv51JsHbxhe</td>\n",
       "    </tr>\n",
       "  </tbody>\n",
       "</table>\n",
       "</div>"
      ],
      "text/plain": [
       "  Artist                               Track Name  Popularity  Duration (ms)  \\\n",
       "0  Drake  Rich Baby Daddy (feat. Sexyy Red & SZA)          92         319191   \n",
       "1  Drake                                One Dance          91         173986   \n",
       "2  Drake                       IDGAF (feat. Yeat)          90         260111   \n",
       "3  Drake     First Person Shooter (feat. J. Cole)          88         247444   \n",
       "4  Drake            Jimmy Cooks (feat. 21 Savage)          88         218364   \n",
       "\n",
       "                 Track ID  \n",
       "0  1yeB8MUNeLo9Ek1UEpsyz6  \n",
       "1  1zi7xx7UVEFkmKfv06H8x0  \n",
       "2  2YSzYUF3jWqb9YP9VXmpjE  \n",
       "3  7aqfrAY2p9BUSiupwk3svU  \n",
       "4  3F5CgOj3wFlRv51JsHbxhe  "
      ]
     },
     "execution_count": 2,
     "metadata": {},
     "output_type": "execute_result"
    }
   ],
   "source": [
    "df =pd.read_csv(\"spotify.csv\")\n",
    "df.head()"
   ]
  },
  {
   "cell_type": "code",
   "execution_count": 3,
   "id": "b2015efb-2a63-4902-b1dc-63cebeec26a0",
   "metadata": {},
   "outputs": [
    {
     "data": {
      "text/html": [
       "<div>\n",
       "<style scoped>\n",
       "    .dataframe tbody tr th:only-of-type {\n",
       "        vertical-align: middle;\n",
       "    }\n",
       "\n",
       "    .dataframe tbody tr th {\n",
       "        vertical-align: top;\n",
       "    }\n",
       "\n",
       "    .dataframe thead th {\n",
       "        text-align: right;\n",
       "    }\n",
       "</style>\n",
       "<table border=\"1\" class=\"dataframe\">\n",
       "  <thead>\n",
       "    <tr style=\"text-align: right;\">\n",
       "      <th></th>\n",
       "      <th>Artist</th>\n",
       "      <th>Track Name</th>\n",
       "      <th>Popularity</th>\n",
       "      <th>Duration (ms)</th>\n",
       "      <th>Track ID</th>\n",
       "    </tr>\n",
       "  </thead>\n",
       "  <tbody>\n",
       "    <tr>\n",
       "      <th>435</th>\n",
       "      <td>French Montana</td>\n",
       "      <td>Splash Brothers</td>\n",
       "      <td>44</td>\n",
       "      <td>221863</td>\n",
       "      <td>3fBsEOnzwtlkpS0LxXAZhN</td>\n",
       "    </tr>\n",
       "    <tr>\n",
       "      <th>436</th>\n",
       "      <td>Fat Joe</td>\n",
       "      <td>All The Way Up (feat. Infared)</td>\n",
       "      <td>64</td>\n",
       "      <td>191900</td>\n",
       "      <td>7Ezwtgfw7khBrpvaNPtMoT</td>\n",
       "    </tr>\n",
       "    <tr>\n",
       "      <th>437</th>\n",
       "      <td>A$AP Ferg</td>\n",
       "      <td>Work REMIX (feat. A$AP Rocky, French Montana, ...</td>\n",
       "      <td>69</td>\n",
       "      <td>283693</td>\n",
       "      <td>7xVLFuuYdAvcTfcP3IG3dS</td>\n",
       "    </tr>\n",
       "    <tr>\n",
       "      <th>438</th>\n",
       "      <td>Diddy</td>\n",
       "      <td>Another One Of Me (feat. 21 Savage)</td>\n",
       "      <td>65</td>\n",
       "      <td>220408</td>\n",
       "      <td>4hGmQboiou09EwhcTWa0H6</td>\n",
       "    </tr>\n",
       "    <tr>\n",
       "      <th>439</th>\n",
       "      <td>Rick Ross</td>\n",
       "      <td>Stay Schemin</td>\n",
       "      <td>68</td>\n",
       "      <td>267720</td>\n",
       "      <td>0nq6sfr8z1R5KJ4XUk396e</td>\n",
       "    </tr>\n",
       "  </tbody>\n",
       "</table>\n",
       "</div>"
      ],
      "text/plain": [
       "             Artist                                         Track Name  \\\n",
       "435  French Montana                                    Splash Brothers   \n",
       "436         Fat Joe                     All The Way Up (feat. Infared)   \n",
       "437       A$AP Ferg  Work REMIX (feat. A$AP Rocky, French Montana, ...   \n",
       "438           Diddy                Another One Of Me (feat. 21 Savage)   \n",
       "439       Rick Ross                                       Stay Schemin   \n",
       "\n",
       "     Popularity  Duration (ms)                Track ID  \n",
       "435          44         221863  3fBsEOnzwtlkpS0LxXAZhN  \n",
       "436          64         191900  7Ezwtgfw7khBrpvaNPtMoT  \n",
       "437          69         283693  7xVLFuuYdAvcTfcP3IG3dS  \n",
       "438          65         220408  4hGmQboiou09EwhcTWa0H6  \n",
       "439          68         267720  0nq6sfr8z1R5KJ4XUk396e  "
      ]
     },
     "execution_count": 3,
     "metadata": {},
     "output_type": "execute_result"
    }
   ],
   "source": [
    "df.tail()"
   ]
  },
  {
   "cell_type": "code",
   "execution_count": 4,
   "id": "323dd12a-b47f-4dcc-9ebb-7253760fe27b",
   "metadata": {},
   "outputs": [
    {
     "data": {
      "text/plain": [
       "(440, 5)"
      ]
     },
     "execution_count": 4,
     "metadata": {},
     "output_type": "execute_result"
    }
   ],
   "source": [
    "df.shape"
   ]
  },
  {
   "cell_type": "code",
   "execution_count": 5,
   "id": "488123c8-43d7-4ed0-8dcc-d45fee502318",
   "metadata": {},
   "outputs": [
    {
     "data": {
      "text/plain": [
       "2200"
      ]
     },
     "execution_count": 5,
     "metadata": {},
     "output_type": "execute_result"
    }
   ],
   "source": [
    "df.size"
   ]
  },
  {
   "cell_type": "markdown",
   "id": "76f9e080-259b-4388-9415-4bce0e5cced9",
   "metadata": {},
   "source": [
    "#### check the data types"
   ]
  },
  {
   "cell_type": "code",
   "execution_count": 6,
   "id": "65be1779-7331-48d9-ac87-ab90d8fd7fd3",
   "metadata": {},
   "outputs": [
    {
     "data": {
      "text/plain": [
       "Artist           object\n",
       "Track Name       object\n",
       "Popularity        int64\n",
       "Duration (ms)     int64\n",
       "Track ID         object\n",
       "dtype: object"
      ]
     },
     "execution_count": 6,
     "metadata": {},
     "output_type": "execute_result"
    }
   ],
   "source": [
    "df.dtypes"
   ]
  },
  {
   "cell_type": "markdown",
   "id": "e408a6f6-010b-43c4-908d-912b1e8fed3e",
   "metadata": {},
   "source": [
    "#### `Check the duplicate values `"
   ]
  },
  {
   "cell_type": "code",
   "execution_count": 7,
   "id": "1bf131e4-916b-4974-8eff-4cb305c418f4",
   "metadata": {},
   "outputs": [
    {
     "data": {
      "text/plain": [
       "27"
      ]
     },
     "execution_count": 7,
     "metadata": {},
     "output_type": "execute_result"
    }
   ],
   "source": [
    "df.duplicated().sum()"
   ]
  },
  {
   "cell_type": "markdown",
   "id": "b472a832-78e6-4e15-ae2a-d0c1dfc6754d",
   "metadata": {},
   "source": [
    "#### `Drop duplicate Values`"
   ]
  },
  {
   "cell_type": "code",
   "execution_count": 8,
   "id": "e6b34398-9379-4600-b631-d3cfb8876fad",
   "metadata": {},
   "outputs": [],
   "source": [
    "df.drop_duplicates(inplace=True)"
   ]
  },
  {
   "cell_type": "code",
   "execution_count": 9,
   "id": "0ffe9667-4abe-4b42-9bfe-86e9f7b9d630",
   "metadata": {},
   "outputs": [
    {
     "data": {
      "text/plain": [
       "0"
      ]
     },
     "execution_count": 9,
     "metadata": {},
     "output_type": "execute_result"
    }
   ],
   "source": [
    "df.duplicated().sum()"
   ]
  },
  {
   "cell_type": "markdown",
   "id": "0fd31e36-d4ef-483f-ac1c-e660238da136",
   "metadata": {},
   "source": [
    "#### `Check null Values`"
   ]
  },
  {
   "cell_type": "code",
   "execution_count": 10,
   "id": "39e2f361-11db-4a00-ad24-8566c3ccad62",
   "metadata": {},
   "outputs": [
    {
     "data": {
      "text/plain": [
       "Artist           0\n",
       "Track Name       0\n",
       "Popularity       0\n",
       "Duration (ms)    0\n",
       "Track ID         0\n",
       "dtype: int64"
      ]
     },
     "execution_count": 10,
     "metadata": {},
     "output_type": "execute_result"
    }
   ],
   "source": [
    "df.isnull().sum()"
   ]
  },
  {
   "cell_type": "markdown",
   "id": "7914fe5a-c6e8-455a-8f2b-d3f5367df2f0",
   "metadata": {},
   "source": [
    "#### `Observation and Insight`\n",
    "\n",
    "1. there is no duplicate values "
   ]
  },
  {
   "cell_type": "code",
   "execution_count": 11,
   "id": "6155b3da-1749-43fb-af6a-ba8b3f48ae82",
   "metadata": {},
   "outputs": [
    {
     "data": {
      "text/plain": [
       "Artist           object\n",
       "Track Name       object\n",
       "Popularity        int64\n",
       "Duration (ms)     int64\n",
       "Track ID         object\n",
       "dtype: object"
      ]
     },
     "execution_count": 11,
     "metadata": {},
     "output_type": "execute_result"
    }
   ],
   "source": [
    "df.dtypes"
   ]
  },
  {
   "cell_type": "markdown",
   "id": "c9787422-f0ff-4a45-bfdf-8be94074048e",
   "metadata": {
    "tags": []
   },
   "source": [
    "#### `Observation and Insight`\n",
    "\n",
    "1. As per the observation there is no need to change the data type of any columns"
   ]
  },
  {
   "cell_type": "code",
   "execution_count": 12,
   "id": "5f1c6c84-459b-4e88-82b1-28efe2bc5c4e",
   "metadata": {},
   "outputs": [
    {
     "name": "stdout",
     "output_type": "stream",
     "text": [
      "<class 'pandas.core.frame.DataFrame'>\n",
      "Int64Index: 413 entries, 0 to 438\n",
      "Data columns (total 5 columns):\n",
      " #   Column         Non-Null Count  Dtype \n",
      "---  ------         --------------  ----- \n",
      " 0   Artist         413 non-null    object\n",
      " 1   Track Name     413 non-null    object\n",
      " 2   Popularity     413 non-null    int64 \n",
      " 3   Duration (ms)  413 non-null    int64 \n",
      " 4   Track ID       413 non-null    object\n",
      "dtypes: int64(2), object(3)\n",
      "memory usage: 19.4+ KB\n"
     ]
    }
   ],
   "source": [
    "df.info()"
   ]
  },
  {
   "cell_type": "code",
   "execution_count": null,
   "id": "b777a56f-5aa3-472b-899b-6b147018cac6",
   "metadata": {
    "jupyter": {
     "source_hidden": true
    },
    "tags": []
   },
   "outputs": [],
   "source": []
  },
  {
   "cell_type": "markdown",
   "id": "f606c1da-376a-423f-831f-a8892d603b2d",
   "metadata": {},
   "source": [
    "### `Questions:`"
   ]
  },
  {
   "cell_type": "markdown",
   "id": "853e3d82-9b6a-4b16-bae8-f307d6ea3210",
   "metadata": {},
   "source": [
    "### 1. `Identify the top 5 popular artists based on the mean popularity of their tracks.Show the mean popularity of tracks for the top 5 popular artists Using BarPlot.`"
   ]
  },
  {
   "cell_type": "code",
   "execution_count": 69,
   "id": "b57342a5-6676-4741-9eae-c79d30596248",
   "metadata": {},
   "outputs": [
    {
     "data": {
      "text/html": [
       "<div>\n",
       "<style scoped>\n",
       "    .dataframe tbody tr th:only-of-type {\n",
       "        vertical-align: middle;\n",
       "    }\n",
       "\n",
       "    .dataframe tbody tr th {\n",
       "        vertical-align: top;\n",
       "    }\n",
       "\n",
       "    .dataframe thead th {\n",
       "        text-align: right;\n",
       "    }\n",
       "</style>\n",
       "<table border=\"1\" class=\"dataframe\">\n",
       "  <thead>\n",
       "    <tr style=\"text-align: right;\">\n",
       "      <th></th>\n",
       "      <th>Artist</th>\n",
       "      <th>Popularity</th>\n",
       "    </tr>\n",
       "  </thead>\n",
       "  <tbody>\n",
       "    <tr>\n",
       "      <th>0</th>\n",
       "      <td>¥$</td>\n",
       "      <td>85.10</td>\n",
       "    </tr>\n",
       "    <tr>\n",
       "      <th>1</th>\n",
       "      <td>cassö</td>\n",
       "      <td>92.00</td>\n",
       "    </tr>\n",
       "    <tr>\n",
       "      <th>2</th>\n",
       "      <td>benny blanco</td>\n",
       "      <td>72.00</td>\n",
       "    </tr>\n",
       "    <tr>\n",
       "      <th>3</th>\n",
       "      <td>Young Thug</td>\n",
       "      <td>73.75</td>\n",
       "    </tr>\n",
       "    <tr>\n",
       "      <th>4</th>\n",
       "      <td>Young Nudy</td>\n",
       "      <td>67.00</td>\n",
       "    </tr>\n",
       "    <tr>\n",
       "      <th>...</th>\n",
       "      <td>...</td>\n",
       "      <td>...</td>\n",
       "    </tr>\n",
       "    <tr>\n",
       "      <th>110</th>\n",
       "      <td>A$AP Ferg</td>\n",
       "      <td>69.00</td>\n",
       "    </tr>\n",
       "    <tr>\n",
       "      <th>111</th>\n",
       "      <td>A Boogie Wit da Hoodie</td>\n",
       "      <td>80.00</td>\n",
       "    </tr>\n",
       "    <tr>\n",
       "      <th>112</th>\n",
       "      <td>21 Savage</td>\n",
       "      <td>83.80</td>\n",
       "    </tr>\n",
       "    <tr>\n",
       "      <th>113</th>\n",
       "      <td>2 Chainz</td>\n",
       "      <td>72.00</td>\n",
       "    </tr>\n",
       "    <tr>\n",
       "      <th>114</th>\n",
       "      <td>*NSYNC</td>\n",
       "      <td>67.00</td>\n",
       "    </tr>\n",
       "  </tbody>\n",
       "</table>\n",
       "<p>115 rows × 2 columns</p>\n",
       "</div>"
      ],
      "text/plain": [
       "                     Artist  Popularity\n",
       "0                        ¥$       85.10\n",
       "1                     cassö       92.00\n",
       "2              benny blanco       72.00\n",
       "3                Young Thug       73.75\n",
       "4                Young Nudy       67.00\n",
       "..                      ...         ...\n",
       "110               A$AP Ferg       69.00\n",
       "111  A Boogie Wit da Hoodie       80.00\n",
       "112               21 Savage       83.80\n",
       "113                2 Chainz       72.00\n",
       "114                  *NSYNC       67.00\n",
       "\n",
       "[115 rows x 2 columns]"
      ]
     },
     "execution_count": 69,
     "metadata": {},
     "output_type": "execute_result"
    }
   ],
   "source": [
    "Top5_Artist =df.groupby([\"Artist\"])[\"Popularity\"].mean().sort_index(ascending=False)\n",
    "Top5_Artist.reset_index()"
   ]
  },
  {
   "cell_type": "code",
   "execution_count": 70,
   "id": "56204278-4098-4e5d-93a8-a9a37487cba5",
   "metadata": {},
   "outputs": [
    {
     "data": {
      "image/png": "[encoded data removed]",
      "text/plain": [
       "<Figure size 1200x700 with 1 Axes>"
      ]
     },
     "metadata": {},
     "output_type": "display_data"
    }
   ],
   "source": [
    "plt.figure(figsize=(12,7))\n",
    "sns.barplot(x=Top5_Artist[0:5].index,y=Top5_Artist[0:5].values,data=df,palette=\"Accent_r\")\n",
    "plt.xlabel(\"Artist\")\n",
    "plt.ylabel(\"Popularity\")\n",
    "plt.title(\"Top 5 popular artists based on the mean popularity\")\n",
    "plt.xticks(rotation=90)\n",
    "plt.show()"
   ]
  },
  {
   "cell_type": "markdown",
   "id": "70c12544-d189-4452-8a2e-7d54e75dfdea",
   "metadata": {},
   "source": [
    "#### `Observation and Insight`\n",
    "\n",
    "1. cassö ,Trueno,David Guetta,Travis Scott,¥$ these 5 popular artist based on mean popularity."
   ]
  },
  {
   "cell_type": "markdown",
   "id": "8de6ce75-e40e-4f8e-ac35-afca6c3f77d3",
   "metadata": {},
   "source": [
    "### `2. Determine the top 5 popular songs based on their popularity ratings.Display the popularity ratings of the top 5 popular songs using BarPlot.`"
   ]
  },
  {
   "cell_type": "code",
   "execution_count": 56,
   "id": "d9685504-f9cd-4e73-a1cd-5124475f31ba",
   "metadata": {},
   "outputs": [
    {
     "data": {
      "text/html": [
       "<div>\n",
       "<style scoped>\n",
       "    .dataframe tbody tr th:only-of-type {\n",
       "        vertical-align: middle;\n",
       "    }\n",
       "\n",
       "    .dataframe tbody tr th {\n",
       "        vertical-align: top;\n",
       "    }\n",
       "\n",
       "    .dataframe thead th {\n",
       "        text-align: right;\n",
       "    }\n",
       "</style>\n",
       "<table border=\"1\" class=\"dataframe\">\n",
       "  <thead>\n",
       "    <tr style=\"text-align: right;\">\n",
       "      <th></th>\n",
       "      <th>Track Name</th>\n",
       "      <th>Popularity</th>\n",
       "    </tr>\n",
       "  </thead>\n",
       "  <tbody>\n",
       "    <tr>\n",
       "      <th>0</th>\n",
       "      <td>Dial Drunk (with Post Malone)</td>\n",
       "      <td>154</td>\n",
       "    </tr>\n",
       "    <tr>\n",
       "      <th>1</th>\n",
       "      <td>Lovin On Me</td>\n",
       "      <td>97</td>\n",
       "    </tr>\n",
       "    <tr>\n",
       "      <th>2</th>\n",
       "      <td>CARNIVAL</td>\n",
       "      <td>96</td>\n",
       "    </tr>\n",
       "    <tr>\n",
       "      <th>3</th>\n",
       "      <td>redrum</td>\n",
       "      <td>96</td>\n",
       "    </tr>\n",
       "    <tr>\n",
       "      <th>4</th>\n",
       "      <td>FE!N (feat. Playboi Carti)</td>\n",
       "      <td>93</td>\n",
       "    </tr>\n",
       "    <tr>\n",
       "      <th>...</th>\n",
       "      <td>...</td>\n",
       "      <td>...</td>\n",
       "    </tr>\n",
       "    <tr>\n",
       "      <th>407</th>\n",
       "      <td>911 (feat. Mary J. Blige)</td>\n",
       "      <td>48</td>\n",
       "    </tr>\n",
       "    <tr>\n",
       "      <th>408</th>\n",
       "      <td>On Me - Remix</td>\n",
       "      <td>47</td>\n",
       "    </tr>\n",
       "    <tr>\n",
       "      <th>409</th>\n",
       "      <td>Splash Brothers</td>\n",
       "      <td>44</td>\n",
       "    </tr>\n",
       "    <tr>\n",
       "      <th>410</th>\n",
       "      <td>Intentions</td>\n",
       "      <td>35</td>\n",
       "    </tr>\n",
       "    <tr>\n",
       "      <th>411</th>\n",
       "      <td>Attachments (feat. Coi Leray)</td>\n",
       "      <td>29</td>\n",
       "    </tr>\n",
       "  </tbody>\n",
       "</table>\n",
       "<p>412 rows × 2 columns</p>\n",
       "</div>"
      ],
      "text/plain": [
       "                        Track Name  Popularity\n",
       "0    Dial Drunk (with Post Malone)         154\n",
       "1                      Lovin On Me          97\n",
       "2                         CARNIVAL          96\n",
       "3                           redrum          96\n",
       "4       FE!N (feat. Playboi Carti)          93\n",
       "..                             ...         ...\n",
       "407      911 (feat. Mary J. Blige)          48\n",
       "408                  On Me - Remix          47\n",
       "409                Splash Brothers          44\n",
       "410                     Intentions          35\n",
       "411  Attachments (feat. Coi Leray)          29\n",
       "\n",
       "[412 rows x 2 columns]"
      ]
     },
     "execution_count": 56,
     "metadata": {},
     "output_type": "execute_result"
    }
   ],
   "source": [
    "Top5_Track_name =df.groupby([\"Track Name\"])[\"Popularity\"].sum().sort_values(ascending=False)\n",
    "Top5_Track_name.reset_index()"
   ]
  },
  {
   "cell_type": "code",
   "execution_count": 59,
   "id": "08fe1ed8-cb0a-4760-9295-55da436140c4",
   "metadata": {},
   "outputs": [
    {
     "data": {
      "image/png": "[encoded data removed]",
      "text/plain": [
       "<Figure size 1200x700 with 1 Axes>"
      ]
     },
     "metadata": {},
     "output_type": "display_data"
    }
   ],
   "source": [
    "plt.figure(figsize=(12,7))\n",
    "sns.barplot(x=Top5_Track_name.head().index,y=Top5_Track_name.head().values,data=df,palette=\"viridis_r\")\n",
    "plt.xlabel(\"Track name\")\n",
    "plt.ylabel(\"Popularity\")\n",
    "plt.title(\"Top 5 popular Track name based on popularity\")\n",
    "plt.xticks(rotation=90)\n",
    "plt.show()"
   ]
  },
  {
   "cell_type": "markdown",
   "id": "1851b4d3-a082-40ab-bd85-3f24bdd075b8",
   "metadata": {},
   "source": [
    "### `Observation and Insight`\n",
    "\n",
    "1. Dial Drunk (with Post Malone) ,Lovin On Me,CARNIVAL,redrum,FE!N (feat. Playboi Carti) all the se are most popular song base on thire poularity rating."
   ]
  },
  {
   "cell_type": "markdown",
   "id": "e0fadaa9-cf6c-4d4a-957e-c4f94ead6c55",
   "metadata": {},
   "source": [
    "### `3. Find the top 5 trending genres based on the mean popularity of tracks within each genre.Visualize the mean popularity of tracks for the top 5 trending genres.`"
   ]
  },
  {
   "cell_type": "code",
   "execution_count": 68,
   "id": "0b9d7d44-74a7-4b47-8d6b-173fa8bf1d34",
   "metadata": {},
   "outputs": [
    {
     "data": {
      "text/html": [
       "<div>\n",
       "<style scoped>\n",
       "    .dataframe tbody tr th:only-of-type {\n",
       "        vertical-align: middle;\n",
       "    }\n",
       "\n",
       "    .dataframe tbody tr th {\n",
       "        vertical-align: top;\n",
       "    }\n",
       "\n",
       "    .dataframe thead th {\n",
       "        text-align: right;\n",
       "    }\n",
       "</style>\n",
       "<table border=\"1\" class=\"dataframe\">\n",
       "  <thead>\n",
       "    <tr style=\"text-align: right;\">\n",
       "      <th></th>\n",
       "      <th>Track Name</th>\n",
       "      <th>Popularity</th>\n",
       "    </tr>\n",
       "  </thead>\n",
       "  <tbody>\n",
       "    <tr>\n",
       "      <th>0</th>\n",
       "      <td>rockstar (feat. 21 Savage)</td>\n",
       "      <td>85.0</td>\n",
       "    </tr>\n",
       "    <tr>\n",
       "      <th>1</th>\n",
       "      <td>redrum</td>\n",
       "      <td>96.0</td>\n",
       "    </tr>\n",
       "    <tr>\n",
       "      <th>2</th>\n",
       "      <td>pushin P (feat. Young Thug)</td>\n",
       "      <td>75.0</td>\n",
       "    </tr>\n",
       "    <tr>\n",
       "      <th>3</th>\n",
       "      <td>prove it</td>\n",
       "      <td>82.0</td>\n",
       "    </tr>\n",
       "    <tr>\n",
       "      <th>4</th>\n",
       "      <td>pop ur shit</td>\n",
       "      <td>79.0</td>\n",
       "    </tr>\n",
       "    <tr>\n",
       "      <th>...</th>\n",
       "      <td>...</td>\n",
       "      <td>...</td>\n",
       "    </tr>\n",
       "    <tr>\n",
       "      <th>407</th>\n",
       "      <td>6 Foot 7 Foot</td>\n",
       "      <td>74.0</td>\n",
       "    </tr>\n",
       "    <tr>\n",
       "      <th>408</th>\n",
       "      <td>4:44</td>\n",
       "      <td>74.0</td>\n",
       "    </tr>\n",
       "    <tr>\n",
       "      <th>409</th>\n",
       "      <td>3D (feat. Jack Harlow)</td>\n",
       "      <td>84.0</td>\n",
       "    </tr>\n",
       "    <tr>\n",
       "      <th>410</th>\n",
       "      <td>3 Headed Goat (feat. Lil Baby &amp; Polo G)</td>\n",
       "      <td>75.0</td>\n",
       "    </tr>\n",
       "    <tr>\n",
       "      <th>411</th>\n",
       "      <td>20 Min</td>\n",
       "      <td>84.0</td>\n",
       "    </tr>\n",
       "  </tbody>\n",
       "</table>\n",
       "<p>412 rows × 2 columns</p>\n",
       "</div>"
      ],
      "text/plain": [
       "                                  Track Name  Popularity\n",
       "0                 rockstar (feat. 21 Savage)        85.0\n",
       "1                                     redrum        96.0\n",
       "2                pushin P (feat. Young Thug)        75.0\n",
       "3                                   prove it        82.0\n",
       "4                                pop ur shit        79.0\n",
       "..                                       ...         ...\n",
       "407                            6 Foot 7 Foot        74.0\n",
       "408                                     4:44        74.0\n",
       "409                   3D (feat. Jack Harlow)        84.0\n",
       "410  3 Headed Goat (feat. Lil Baby & Polo G)        75.0\n",
       "411                                   20 Min        84.0\n",
       "\n",
       "[412 rows x 2 columns]"
      ]
     },
     "execution_count": 68,
     "metadata": {},
     "output_type": "execute_result"
    }
   ],
   "source": [
    "Top5_genre =df.groupby([\"Track Name\"])[\"Popularity\"].mean().sort_index(ascending=False)\n",
    "Top5_genre.reset_index()"
   ]
  },
  {
   "cell_type": "code",
   "execution_count": 73,
   "id": "9da81bc4-63d1-4cf5-9891-164cc1795421",
   "metadata": {},
   "outputs": [
    {
     "data": {
      "image/png": "[encoded data removed]",
      "text/plain": [
       "<Figure size 1200x800 with 1 Axes>"
      ]
     },
     "metadata": {},
     "output_type": "display_data"
    }
   ],
   "source": [
    "plt.figure(figsize=(12,8))\n",
    "sns.barplot(x=Top5_genre.head().index,y=Top5_genre.head().values,data=df,palette=\"bone_r\")\n",
    "plt.xlabel(\"Genre\")\n",
    "plt.ylabel(\"Popularity\")\n",
    "plt.title(\"Top 5 popular genre based on popularity\")\n",
    "plt.show()"
   ]
  },
  {
   "cell_type": "markdown",
   "id": "0a617f2d-3995-49aa-bc91-a3bb8f9b407c",
   "metadata": {},
   "source": [
    "### `Observation and Insight`\n",
    "\n",
    "1. rockstar (feat. 21 Savage) =85.0 ,redrum\t= 96.0 ,pushin P (feat. Young Thug)\t=75.0 ,prove it= 82.0 ,\tpop ur shit 79.0 these are trending genres base on popularity."
   ]
  },
  {
   "cell_type": "markdown",
   "id": "7613df90-123e-4453-935a-80bab0a743a2",
   "metadata": {},
   "source": [
    "### `4. Identify the top 5 longest songs among the tracks of the top 5 popular artists.Represent the duration of the top 5 longest songs among the tracks of the top 5 popular artists using BarPlot.`"
   ]
  },
  {
   "cell_type": "code",
   "execution_count": 77,
   "id": "2b97299e-b756-49d2-abd1-486b005dff81",
   "metadata": {},
   "outputs": [
    {
     "data": {
      "text/html": [
       "<div>\n",
       "<style scoped>\n",
       "    .dataframe tbody tr th:only-of-type {\n",
       "        vertical-align: middle;\n",
       "    }\n",
       "\n",
       "    .dataframe tbody tr th {\n",
       "        vertical-align: top;\n",
       "    }\n",
       "\n",
       "    .dataframe thead th {\n",
       "        text-align: right;\n",
       "    }\n",
       "</style>\n",
       "<table border=\"1\" class=\"dataframe\">\n",
       "  <thead>\n",
       "    <tr style=\"text-align: right;\">\n",
       "      <th></th>\n",
       "      <th>Track Name</th>\n",
       "      <th>Duration (ms)</th>\n",
       "    </tr>\n",
       "  </thead>\n",
       "  <tbody>\n",
       "    <tr>\n",
       "      <th>0</th>\n",
       "      <td>GOD DID (feat. Rick Ross, Lil Wayne, Jay-Z, Jo...</td>\n",
       "      <td>501648</td>\n",
       "    </tr>\n",
       "    <tr>\n",
       "      <th>1</th>\n",
       "      <td>Dial Drunk (with Post Malone)</td>\n",
       "      <td>427634</td>\n",
       "    </tr>\n",
       "    <tr>\n",
       "      <th>2</th>\n",
       "      <td>Stan</td>\n",
       "      <td>404106</td>\n",
       "    </tr>\n",
       "    <tr>\n",
       "      <th>3</th>\n",
       "      <td>Money Trees</td>\n",
       "      <td>386906</td>\n",
       "    </tr>\n",
       "    <tr>\n",
       "      <th>4</th>\n",
       "      <td>SKITZO (feat. Young Thug)</td>\n",
       "      <td>366592</td>\n",
       "    </tr>\n",
       "    <tr>\n",
       "      <th>...</th>\n",
       "      <td>...</td>\n",
       "      <td>...</td>\n",
       "    </tr>\n",
       "    <tr>\n",
       "      <th>407</th>\n",
       "      <td>Munch (Feelin’ U)</td>\n",
       "      <td>104819</td>\n",
       "    </tr>\n",
       "    <tr>\n",
       "      <th>408</th>\n",
       "      <td>Doja</td>\n",
       "      <td>97392</td>\n",
       "    </tr>\n",
       "    <tr>\n",
       "      <th>409</th>\n",
       "      <td>ON THE RIVER</td>\n",
       "      <td>96013</td>\n",
       "    </tr>\n",
       "    <tr>\n",
       "      <th>410</th>\n",
       "      <td>New Tank</td>\n",
       "      <td>89741</td>\n",
       "    </tr>\n",
       "    <tr>\n",
       "      <th>411</th>\n",
       "      <td>BroZone's Back</td>\n",
       "      <td>81666</td>\n",
       "    </tr>\n",
       "  </tbody>\n",
       "</table>\n",
       "<p>412 rows × 2 columns</p>\n",
       "</div>"
      ],
      "text/plain": [
       "                                            Track Name  Duration (ms)\n",
       "0    GOD DID (feat. Rick Ross, Lil Wayne, Jay-Z, Jo...         501648\n",
       "1                        Dial Drunk (with Post Malone)         427634\n",
       "2                                                 Stan         404106\n",
       "3                                          Money Trees         386906\n",
       "4                            SKITZO (feat. Young Thug)         366592\n",
       "..                                                 ...            ...\n",
       "407                                  Munch (Feelin’ U)         104819\n",
       "408                                               Doja          97392\n",
       "409                                       ON THE RIVER          96013\n",
       "410                                           New Tank          89741\n",
       "411                                     BroZone's Back          81666\n",
       "\n",
       "[412 rows x 2 columns]"
      ]
     },
     "execution_count": 77,
     "metadata": {},
     "output_type": "execute_result"
    }
   ],
   "source": [
    "Top5_longestSong =df.groupby([\"Track Name\"])[\"Duration (ms)\"].sum().sort_values(ascending=False)\n",
    "Top5_longestSong.reset_index()"
   ]
  },
  {
   "cell_type": "code",
   "execution_count": 80,
   "id": "52598109-3e6c-4c7e-b592-1d0997171938",
   "metadata": {},
   "outputs": [
    {
     "data": {
      "image/png": "[encoded data removed]",
      "text/plain": [
       "<Figure size 1200x800 with 1 Axes>"
      ]
     },
     "metadata": {},
     "output_type": "display_data"
    }
   ],
   "source": [
    "plt.figure(figsize=(12,8))\n",
    "sns.barplot(x=Top5_longestSong.head().index,y=Top5_longestSong.head().values,data=df,palette=\"YlGnBu_r\")\n",
    "plt.xlabel(\"Track name\")\n",
    "plt.ylabel(\"Duration ms\")\n",
    "plt.title(\"Top 5 popular Track name based on logest duration\")\n",
    "plt.xticks(rotation=90)\n",
    "plt.show()"
   ]
  },
  {
   "cell_type": "markdown",
   "id": "3f12e436-3778-41c2-b24a-36a6004b547d",
   "metadata": {},
   "source": [
    "### `Obseravtion and Insight`\n",
    "\n",
    "1. GOD DID (feat. Rick Ross, Lil Wayne, Jay-Z, Jo...\t501648 ,\n",
    "\n",
    "    Dial Drunk (with Post Malone)\t427634,\n",
    "    \n",
    "    Stan\t404106,\n",
    "    \n",
    "    Money Trees\t386906,\n",
    "    \n",
    "    SKITZO (feat. Young Thug)\n",
    "    \n",
    "    these are top 5 Popular song lonest song as per duartion."
   ]
  },
  {
   "cell_type": "markdown",
   "id": "ed511059-3f5a-4a10-8381-aa6eabe25b27",
   "metadata": {},
   "source": [
    "### `5. Determine the top 5 most danceable songs based on their danceability scores.Illustrate the danceability scores of the top 5 most danceable songs using PieChart.`"
   ]
  },
  {
   "cell_type": "code",
   "execution_count": 84,
   "id": "5408d3bc-f08e-4558-a1a5-e7799713cace",
   "metadata": {},
   "outputs": [
    {
     "data": {
      "text/plain": [
       "Artist           object\n",
       "Track Name       object\n",
       "Popularity        int64\n",
       "Duration (ms)     int64\n",
       "Track ID         object\n",
       "dtype: object"
      ]
     },
     "execution_count": 84,
     "metadata": {},
     "output_type": "execute_result"
    }
   ],
   "source": [
    "df.dtypes"
   ]
  },
  {
   "cell_type": "code",
   "execution_count": null,
   "id": "20a930f3-1a3c-4060-bd2a-15c9880e9920",
   "metadata": {},
   "outputs": [],
   "source": []
  },
  {
   "cell_type": "code",
   "execution_count": null,
   "id": "74892e2f-4666-4852-92d8-962a482b6466",
   "metadata": {},
   "outputs": [],
   "source": []
  }
 ],
 "metadata": {
  "kernelspec": {
   "display_name": "Python 3 (ipykernel)",
   "language": "python",
   "name": "python3"
  },
  "language_info": {
   "codemirror_mode": {
    "name": "ipython",
    "version": 3
   },
   "file_extension": ".py",
   "mimetype": "text/x-python",
   "name": "python",
   "nbconvert_exporter": "python",
   "pygments_lexer": "ipython3",
   "version": "3.9.13"
  }
 },
 "nbformat": 4,
 "nbformat_minor": 5
}
