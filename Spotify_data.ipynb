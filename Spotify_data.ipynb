{
 "cells": [
  {
   "cell_type": "markdown",
   "id": "d6bc24c2-7b6c-4616-915d-4e1269d7706d",
   "metadata": {},
   "source": [
    "### `Description of the Dataset:`"
   ]
  },
  {
   "cell_type": "markdown",
   "id": "826c2111-de5a-4757-a118-681ec06bfb90",
   "metadata": {},
   "source": [
    "The dataset titled \"Spotify Data: Popular Hip-hop Artists and Tracks\" provides a curated collection of \n",
    "approximately 500 entries showcasing the vibrant realm of hip-hop music. These entries meticulously compile \n",
    "the most celebrated hip-hop tracks and artists, reflecting their significant influence on the genre's landscape. \n",
    "Each entry not only highlights the popularity and musical composition of the tracks but also underscores the \n",
    "creative prowess of the artists and their profound impact on global listeners."
   ]
  },
  {
   "cell_type": "markdown",
   "id": "7e61b55b-9d20-43be-9094-56130ebeec62",
   "metadata": {},
   "source": [
    "#### `Application in Data Science:`"
   ]
  },
  {
   "cell_type": "markdown",
   "id": "a6aaa8ef-4ce0-44ae-a624-1877033f0295",
   "metadata": {},
   "source": [
    "This dataset serves as a valuable resource for various data science explorations. Analysts can delve into trend \n",
    "analysis to discern the popularity dynamics of hit hip-hop tracks over recent years. Additionally, the dataset \n",
    "enables network analysis to uncover collaborative patterns among top artists, shedding light on the genre's \n",
    "evolving collaborative landscape. Furthermore, it facilitates the development of predictive models aimed at \n",
    "forecasting track popularity based on diverse features, offering insights for artists, producers, and marketers."
   ]
  },
  {
   "cell_type": "markdown",
   "id": "98e4ba70-9156-4021-9e95-81bad49f01c0",
   "metadata": {},
   "source": [
    "#### `Column Descriptors:`"
   ]
  },
  {
   "cell_type": "markdown",
   "id": "5f0fd5de-5712-4f03-97dd-69a45a316d9b",
   "metadata": {},
   "source": [
    "`Artist:` The name of the artist, providing direct attribution to the creative mind behind the track.\n",
    "\n",
    "`Track Name`: The title of the track, encapsulating its identity and essence.\n",
    "\n",
    "`Popularity:` A numeric score reflecting the track's reception and appeal among Spotify listeners.\n",
    "\n",
    "`Duration (ms):` The track's length in milliseconds, detailing the temporal extent of the musical experience.\n",
    "\n",
    "`Track ID:` A unique identifier within Spotify's ecosystem, enabling direct access to the track for further \n",
    "exploration"
   ]
  },
  {
   "cell_type": "markdown",
   "id": "8f716649-db9e-4792-bfc5-38679fb379e3",
   "metadata": {},
   "source": [
    "### `Import neccessary library`"
   ]
  },
  {
   "cell_type": "code",
   "execution_count": 2,
   "id": "bab22e50-43c5-4166-83ef-3db99b68a788",
   "metadata": {},
   "outputs": [],
   "source": [
    "import numpy as np\n",
    "import pandas as pd\n",
    "import matplotlib.pyplot as plt\n",
    "import seaborn as sns\n",
    "import scipy as stats\n",
    "import warnings\n",
    "warnings.filterwarnings(\"ignore\")"
   ]
  },
  {
   "cell_type": "markdown",
   "id": "7ef3a4a1-61fd-4b43-8ec5-f4b26750dada",
   "metadata": {},
   "source": [
    "### Read the data "
   ]
  },
  {
   "cell_type": "code",
   "execution_count": 3,
   "id": "093bb94b-ec61-4d44-8517-eebc11816411",
   "metadata": {},
   "outputs": [
    {
     "data": {
      "text/html": [
       "<div>\n",
       "<style scoped>\n",
       "    .dataframe tbody tr th:only-of-type {\n",
       "        vertical-align: middle;\n",
       "    }\n",
       "\n",
       "    .dataframe tbody tr th {\n",
       "        vertical-align: top;\n",
       "    }\n",
       "\n",
       "    .dataframe thead th {\n",
       "        text-align: right;\n",
       "    }\n",
       "</style>\n",
       "<table border=\"1\" class=\"dataframe\">\n",
       "  <thead>\n",
       "    <tr style=\"text-align: right;\">\n",
       "      <th></th>\n",
       "      <th>Unnamed: 0</th>\n",
       "      <th>track_id</th>\n",
       "      <th>artists</th>\n",
       "      <th>album_name</th>\n",
       "      <th>track_name</th>\n",
       "      <th>popularity</th>\n",
       "      <th>duration_ms</th>\n",
       "      <th>explicit</th>\n",
       "      <th>danceability</th>\n",
       "      <th>energy</th>\n",
       "      <th>...</th>\n",
       "      <th>loudness</th>\n",
       "      <th>mode</th>\n",
       "      <th>speechiness</th>\n",
       "      <th>acousticness</th>\n",
       "      <th>instrumentalness</th>\n",
       "      <th>liveness</th>\n",
       "      <th>valence</th>\n",
       "      <th>tempo</th>\n",
       "      <th>time_signature</th>\n",
       "      <th>track_genre</th>\n",
       "    </tr>\n",
       "  </thead>\n",
       "  <tbody>\n",
       "    <tr>\n",
       "      <th>0</th>\n",
       "      <td>0</td>\n",
       "      <td>5SuOikwiRyPMVoIQDJUgSV</td>\n",
       "      <td>Gen Hoshino</td>\n",
       "      <td>Comedy</td>\n",
       "      <td>Comedy</td>\n",
       "      <td>73</td>\n",
       "      <td>230666</td>\n",
       "      <td>False</td>\n",
       "      <td>0.676</td>\n",
       "      <td>0.4610</td>\n",
       "      <td>...</td>\n",
       "      <td>-6.746</td>\n",
       "      <td>0</td>\n",
       "      <td>0.1430</td>\n",
       "      <td>0.0322</td>\n",
       "      <td>0.000001</td>\n",
       "      <td>0.3580</td>\n",
       "      <td>0.715</td>\n",
       "      <td>87.917</td>\n",
       "      <td>4</td>\n",
       "      <td>acoustic</td>\n",
       "    </tr>\n",
       "    <tr>\n",
       "      <th>1</th>\n",
       "      <td>1</td>\n",
       "      <td>4qPNDBW1i3p13qLCt0Ki3A</td>\n",
       "      <td>Ben Woodward</td>\n",
       "      <td>Ghost (Acoustic)</td>\n",
       "      <td>Ghost - Acoustic</td>\n",
       "      <td>55</td>\n",
       "      <td>149610</td>\n",
       "      <td>False</td>\n",
       "      <td>0.420</td>\n",
       "      <td>0.1660</td>\n",
       "      <td>...</td>\n",
       "      <td>-17.235</td>\n",
       "      <td>1</td>\n",
       "      <td>0.0763</td>\n",
       "      <td>0.9240</td>\n",
       "      <td>0.000006</td>\n",
       "      <td>0.1010</td>\n",
       "      <td>0.267</td>\n",
       "      <td>77.489</td>\n",
       "      <td>4</td>\n",
       "      <td>acoustic</td>\n",
       "    </tr>\n",
       "    <tr>\n",
       "      <th>2</th>\n",
       "      <td>2</td>\n",
       "      <td>1iJBSr7s7jYXzM8EGcbK5b</td>\n",
       "      <td>Ingrid Michaelson;ZAYN</td>\n",
       "      <td>To Begin Again</td>\n",
       "      <td>To Begin Again</td>\n",
       "      <td>57</td>\n",
       "      <td>210826</td>\n",
       "      <td>False</td>\n",
       "      <td>0.438</td>\n",
       "      <td>0.3590</td>\n",
       "      <td>...</td>\n",
       "      <td>-9.734</td>\n",
       "      <td>1</td>\n",
       "      <td>0.0557</td>\n",
       "      <td>0.2100</td>\n",
       "      <td>0.000000</td>\n",
       "      <td>0.1170</td>\n",
       "      <td>0.120</td>\n",
       "      <td>76.332</td>\n",
       "      <td>4</td>\n",
       "      <td>acoustic</td>\n",
       "    </tr>\n",
       "    <tr>\n",
       "      <th>3</th>\n",
       "      <td>3</td>\n",
       "      <td>6lfxq3CG4xtTiEg7opyCyx</td>\n",
       "      <td>Kina Grannis</td>\n",
       "      <td>Crazy Rich Asians (Original Motion Picture Sou...</td>\n",
       "      <td>Can't Help Falling In Love</td>\n",
       "      <td>71</td>\n",
       "      <td>201933</td>\n",
       "      <td>False</td>\n",
       "      <td>0.266</td>\n",
       "      <td>0.0596</td>\n",
       "      <td>...</td>\n",
       "      <td>-18.515</td>\n",
       "      <td>1</td>\n",
       "      <td>0.0363</td>\n",
       "      <td>0.9050</td>\n",
       "      <td>0.000071</td>\n",
       "      <td>0.1320</td>\n",
       "      <td>0.143</td>\n",
       "      <td>181.740</td>\n",
       "      <td>3</td>\n",
       "      <td>acoustic</td>\n",
       "    </tr>\n",
       "    <tr>\n",
       "      <th>4</th>\n",
       "      <td>4</td>\n",
       "      <td>5vjLSffimiIP26QG5WcN2K</td>\n",
       "      <td>Chord Overstreet</td>\n",
       "      <td>Hold On</td>\n",
       "      <td>Hold On</td>\n",
       "      <td>82</td>\n",
       "      <td>198853</td>\n",
       "      <td>False</td>\n",
       "      <td>0.618</td>\n",
       "      <td>0.4430</td>\n",
       "      <td>...</td>\n",
       "      <td>-9.681</td>\n",
       "      <td>1</td>\n",
       "      <td>0.0526</td>\n",
       "      <td>0.4690</td>\n",
       "      <td>0.000000</td>\n",
       "      <td>0.0829</td>\n",
       "      <td>0.167</td>\n",
       "      <td>119.949</td>\n",
       "      <td>4</td>\n",
       "      <td>acoustic</td>\n",
       "    </tr>\n",
       "  </tbody>\n",
       "</table>\n",
       "<p>5 rows × 21 columns</p>\n",
       "</div>"
      ],
      "text/plain": [
       "   Unnamed: 0                track_id                 artists  \\\n",
       "0           0  5SuOikwiRyPMVoIQDJUgSV             Gen Hoshino   \n",
       "1           1  4qPNDBW1i3p13qLCt0Ki3A            Ben Woodward   \n",
       "2           2  1iJBSr7s7jYXzM8EGcbK5b  Ingrid Michaelson;ZAYN   \n",
       "3           3  6lfxq3CG4xtTiEg7opyCyx            Kina Grannis   \n",
       "4           4  5vjLSffimiIP26QG5WcN2K        Chord Overstreet   \n",
       "\n",
       "                                          album_name  \\\n",
       "0                                             Comedy   \n",
       "1                                   Ghost (Acoustic)   \n",
       "2                                     To Begin Again   \n",
       "3  Crazy Rich Asians (Original Motion Picture Sou...   \n",
       "4                                            Hold On   \n",
       "\n",
       "                   track_name  popularity  duration_ms  explicit  \\\n",
       "0                      Comedy          73       230666     False   \n",
       "1            Ghost - Acoustic          55       149610     False   \n",
       "2              To Begin Again          57       210826     False   \n",
       "3  Can't Help Falling In Love          71       201933     False   \n",
       "4                     Hold On          82       198853     False   \n",
       "\n",
       "   danceability  energy  ...  loudness  mode  speechiness  acousticness  \\\n",
       "0         0.676  0.4610  ...    -6.746     0       0.1430        0.0322   \n",
       "1         0.420  0.1660  ...   -17.235     1       0.0763        0.9240   \n",
       "2         0.438  0.3590  ...    -9.734     1       0.0557        0.2100   \n",
       "3         0.266  0.0596  ...   -18.515     1       0.0363        0.9050   \n",
       "4         0.618  0.4430  ...    -9.681     1       0.0526        0.4690   \n",
       "\n",
       "   instrumentalness  liveness  valence    tempo  time_signature  track_genre  \n",
       "0          0.000001    0.3580    0.715   87.917               4     acoustic  \n",
       "1          0.000006    0.1010    0.267   77.489               4     acoustic  \n",
       "2          0.000000    0.1170    0.120   76.332               4     acoustic  \n",
       "3          0.000071    0.1320    0.143  181.740               3     acoustic  \n",
       "4          0.000000    0.0829    0.167  119.949               4     acoustic  \n",
       "\n",
       "[5 rows x 21 columns]"
      ]
     },
     "execution_count": 3,
     "metadata": {},
     "output_type": "execute_result"
    }
   ],
   "source": [
    "df =pd.read_csv(\"New_Spotify_dataset.csv\")\n",
    "df.head()"
   ]
  },
  {
   "cell_type": "code",
   "execution_count": 4,
   "id": "b2015efb-2a63-4902-b1dc-63cebeec26a0",
   "metadata": {},
   "outputs": [
    {
     "data": {
      "text/html": [
       "<div>\n",
       "<style scoped>\n",
       "    .dataframe tbody tr th:only-of-type {\n",
       "        vertical-align: middle;\n",
       "    }\n",
       "\n",
       "    .dataframe tbody tr th {\n",
       "        vertical-align: top;\n",
       "    }\n",
       "\n",
       "    .dataframe thead th {\n",
       "        text-align: right;\n",
       "    }\n",
       "</style>\n",
       "<table border=\"1\" class=\"dataframe\">\n",
       "  <thead>\n",
       "    <tr style=\"text-align: right;\">\n",
       "      <th></th>\n",
       "      <th>Unnamed: 0</th>\n",
       "      <th>track_id</th>\n",
       "      <th>artists</th>\n",
       "      <th>album_name</th>\n",
       "      <th>track_name</th>\n",
       "      <th>popularity</th>\n",
       "      <th>duration_ms</th>\n",
       "      <th>explicit</th>\n",
       "      <th>danceability</th>\n",
       "      <th>energy</th>\n",
       "      <th>...</th>\n",
       "      <th>loudness</th>\n",
       "      <th>mode</th>\n",
       "      <th>speechiness</th>\n",
       "      <th>acousticness</th>\n",
       "      <th>instrumentalness</th>\n",
       "      <th>liveness</th>\n",
       "      <th>valence</th>\n",
       "      <th>tempo</th>\n",
       "      <th>time_signature</th>\n",
       "      <th>track_genre</th>\n",
       "    </tr>\n",
       "  </thead>\n",
       "  <tbody>\n",
       "    <tr>\n",
       "      <th>113995</th>\n",
       "      <td>113995</td>\n",
       "      <td>2C3TZjDRiAzdyViavDJ217</td>\n",
       "      <td>Rainy Lullaby</td>\n",
       "      <td>#mindfulness - Soft Rain for Mindful Meditatio...</td>\n",
       "      <td>Sleep My Little Boy</td>\n",
       "      <td>21</td>\n",
       "      <td>384999</td>\n",
       "      <td>False</td>\n",
       "      <td>0.172</td>\n",
       "      <td>0.235</td>\n",
       "      <td>...</td>\n",
       "      <td>-16.393</td>\n",
       "      <td>1</td>\n",
       "      <td>0.0422</td>\n",
       "      <td>0.640</td>\n",
       "      <td>0.928</td>\n",
       "      <td>0.0863</td>\n",
       "      <td>0.0339</td>\n",
       "      <td>125.995</td>\n",
       "      <td>5</td>\n",
       "      <td>world-music</td>\n",
       "    </tr>\n",
       "    <tr>\n",
       "      <th>113996</th>\n",
       "      <td>113996</td>\n",
       "      <td>1hIz5L4IB9hN3WRYPOCGPw</td>\n",
       "      <td>Rainy Lullaby</td>\n",
       "      <td>#mindfulness - Soft Rain for Mindful Meditatio...</td>\n",
       "      <td>Water Into Light</td>\n",
       "      <td>22</td>\n",
       "      <td>385000</td>\n",
       "      <td>False</td>\n",
       "      <td>0.174</td>\n",
       "      <td>0.117</td>\n",
       "      <td>...</td>\n",
       "      <td>-18.318</td>\n",
       "      <td>0</td>\n",
       "      <td>0.0401</td>\n",
       "      <td>0.994</td>\n",
       "      <td>0.976</td>\n",
       "      <td>0.1050</td>\n",
       "      <td>0.0350</td>\n",
       "      <td>85.239</td>\n",
       "      <td>4</td>\n",
       "      <td>world-music</td>\n",
       "    </tr>\n",
       "    <tr>\n",
       "      <th>113997</th>\n",
       "      <td>113997</td>\n",
       "      <td>6x8ZfSoqDjuNa5SVP5QjvX</td>\n",
       "      <td>Cesária Evora</td>\n",
       "      <td>Best Of</td>\n",
       "      <td>Miss Perfumado</td>\n",
       "      <td>22</td>\n",
       "      <td>271466</td>\n",
       "      <td>False</td>\n",
       "      <td>0.629</td>\n",
       "      <td>0.329</td>\n",
       "      <td>...</td>\n",
       "      <td>-10.895</td>\n",
       "      <td>0</td>\n",
       "      <td>0.0420</td>\n",
       "      <td>0.867</td>\n",
       "      <td>0.000</td>\n",
       "      <td>0.0839</td>\n",
       "      <td>0.7430</td>\n",
       "      <td>132.378</td>\n",
       "      <td>4</td>\n",
       "      <td>world-music</td>\n",
       "    </tr>\n",
       "    <tr>\n",
       "      <th>113998</th>\n",
       "      <td>113998</td>\n",
       "      <td>2e6sXL2bYv4bSz6VTdnfLs</td>\n",
       "      <td>Michael W. Smith</td>\n",
       "      <td>Change Your World</td>\n",
       "      <td>Friends</td>\n",
       "      <td>41</td>\n",
       "      <td>283893</td>\n",
       "      <td>False</td>\n",
       "      <td>0.587</td>\n",
       "      <td>0.506</td>\n",
       "      <td>...</td>\n",
       "      <td>-10.889</td>\n",
       "      <td>1</td>\n",
       "      <td>0.0297</td>\n",
       "      <td>0.381</td>\n",
       "      <td>0.000</td>\n",
       "      <td>0.2700</td>\n",
       "      <td>0.4130</td>\n",
       "      <td>135.960</td>\n",
       "      <td>4</td>\n",
       "      <td>world-music</td>\n",
       "    </tr>\n",
       "    <tr>\n",
       "      <th>113999</th>\n",
       "      <td>113999</td>\n",
       "      <td>2hETkH7cOfqmz3LqZDHZf5</td>\n",
       "      <td>Cesária Evora</td>\n",
       "      <td>Miss Perfumado</td>\n",
       "      <td>Barbincor</td>\n",
       "      <td>22</td>\n",
       "      <td>241826</td>\n",
       "      <td>False</td>\n",
       "      <td>0.526</td>\n",
       "      <td>0.487</td>\n",
       "      <td>...</td>\n",
       "      <td>-10.204</td>\n",
       "      <td>0</td>\n",
       "      <td>0.0725</td>\n",
       "      <td>0.681</td>\n",
       "      <td>0.000</td>\n",
       "      <td>0.0893</td>\n",
       "      <td>0.7080</td>\n",
       "      <td>79.198</td>\n",
       "      <td>4</td>\n",
       "      <td>world-music</td>\n",
       "    </tr>\n",
       "  </tbody>\n",
       "</table>\n",
       "<p>5 rows × 21 columns</p>\n",
       "</div>"
      ],
      "text/plain": [
       "        Unnamed: 0                track_id           artists  \\\n",
       "113995      113995  2C3TZjDRiAzdyViavDJ217     Rainy Lullaby   \n",
       "113996      113996  1hIz5L4IB9hN3WRYPOCGPw     Rainy Lullaby   \n",
       "113997      113997  6x8ZfSoqDjuNa5SVP5QjvX     Cesária Evora   \n",
       "113998      113998  2e6sXL2bYv4bSz6VTdnfLs  Michael W. Smith   \n",
       "113999      113999  2hETkH7cOfqmz3LqZDHZf5     Cesária Evora   \n",
       "\n",
       "                                               album_name  \\\n",
       "113995  #mindfulness - Soft Rain for Mindful Meditatio...   \n",
       "113996  #mindfulness - Soft Rain for Mindful Meditatio...   \n",
       "113997                                            Best Of   \n",
       "113998                                  Change Your World   \n",
       "113999                                     Miss Perfumado   \n",
       "\n",
       "                 track_name  popularity  duration_ms  explicit  danceability  \\\n",
       "113995  Sleep My Little Boy          21       384999     False         0.172   \n",
       "113996     Water Into Light          22       385000     False         0.174   \n",
       "113997       Miss Perfumado          22       271466     False         0.629   \n",
       "113998              Friends          41       283893     False         0.587   \n",
       "113999            Barbincor          22       241826     False         0.526   \n",
       "\n",
       "        energy  ...  loudness  mode  speechiness  acousticness  \\\n",
       "113995   0.235  ...   -16.393     1       0.0422         0.640   \n",
       "113996   0.117  ...   -18.318     0       0.0401         0.994   \n",
       "113997   0.329  ...   -10.895     0       0.0420         0.867   \n",
       "113998   0.506  ...   -10.889     1       0.0297         0.381   \n",
       "113999   0.487  ...   -10.204     0       0.0725         0.681   \n",
       "\n",
       "        instrumentalness  liveness  valence    tempo  time_signature  \\\n",
       "113995             0.928    0.0863   0.0339  125.995               5   \n",
       "113996             0.976    0.1050   0.0350   85.239               4   \n",
       "113997             0.000    0.0839   0.7430  132.378               4   \n",
       "113998             0.000    0.2700   0.4130  135.960               4   \n",
       "113999             0.000    0.0893   0.7080   79.198               4   \n",
       "\n",
       "        track_genre  \n",
       "113995  world-music  \n",
       "113996  world-music  \n",
       "113997  world-music  \n",
       "113998  world-music  \n",
       "113999  world-music  \n",
       "\n",
       "[5 rows x 21 columns]"
      ]
     },
     "execution_count": 4,
     "metadata": {},
     "output_type": "execute_result"
    }
   ],
   "source": [
    "df.tail()"
   ]
  },
  {
   "cell_type": "code",
   "execution_count": 5,
   "id": "323dd12a-b47f-4dcc-9ebb-7253760fe27b",
   "metadata": {},
   "outputs": [
    {
     "data": {
      "text/plain": [
       "(114000, 21)"
      ]
     },
     "execution_count": 5,
     "metadata": {},
     "output_type": "execute_result"
    }
   ],
   "source": [
    "df.shape"
   ]
  },
  {
   "cell_type": "code",
   "execution_count": 6,
   "id": "488123c8-43d7-4ed0-8dcc-d45fee502318",
   "metadata": {},
   "outputs": [
    {
     "data": {
      "text/plain": [
       "2394000"
      ]
     },
     "execution_count": 6,
     "metadata": {},
     "output_type": "execute_result"
    }
   ],
   "source": [
    "df.size"
   ]
  },
  {
   "cell_type": "markdown",
   "id": "76f9e080-259b-4388-9415-4bce0e5cced9",
   "metadata": {},
   "source": [
    "#### check the data types"
   ]
  },
  {
   "cell_type": "code",
   "execution_count": 7,
   "id": "65be1779-7331-48d9-ac87-ab90d8fd7fd3",
   "metadata": {},
   "outputs": [
    {
     "data": {
      "text/plain": [
       "Unnamed: 0            int64\n",
       "track_id             object\n",
       "artists              object\n",
       "album_name           object\n",
       "track_name           object\n",
       "popularity            int64\n",
       "duration_ms           int64\n",
       "explicit               bool\n",
       "danceability        float64\n",
       "energy              float64\n",
       "key                   int64\n",
       "loudness            float64\n",
       "mode                  int64\n",
       "speechiness         float64\n",
       "acousticness        float64\n",
       "instrumentalness    float64\n",
       "liveness            float64\n",
       "valence             float64\n",
       "tempo               float64\n",
       "time_signature        int64\n",
       "track_genre          object\n",
       "dtype: object"
      ]
     },
     "execution_count": 7,
     "metadata": {},
     "output_type": "execute_result"
    }
   ],
   "source": [
    "df.dtypes"
   ]
  },
  {
   "cell_type": "markdown",
   "id": "e408a6f6-010b-43c4-908d-912b1e8fed3e",
   "metadata": {},
   "source": [
    "#### `Check the duplicate values `"
   ]
  },
  {
   "cell_type": "code",
   "execution_count": 8,
   "id": "1bf131e4-916b-4974-8eff-4cb305c418f4",
   "metadata": {},
   "outputs": [
    {
     "data": {
      "text/plain": [
       "0"
      ]
     },
     "execution_count": 8,
     "metadata": {},
     "output_type": "execute_result"
    }
   ],
   "source": [
    "df.duplicated().sum()"
   ]
  },
  {
   "cell_type": "markdown",
   "id": "7914fe5a-c6e8-455a-8f2b-d3f5367df2f0",
   "metadata": {
    "tags": []
   },
   "source": [
    "#### `Observation and Insight`\n",
    "\n",
    "1. there is no duplicate values "
   ]
  },
  {
   "cell_type": "markdown",
   "id": "0fd31e36-d4ef-483f-ac1c-e660238da136",
   "metadata": {},
   "source": [
    "#### `Check null Values`"
   ]
  },
  {
   "cell_type": "code",
   "execution_count": 14,
   "id": "39e2f361-11db-4a00-ad24-8566c3ccad62",
   "metadata": {},
   "outputs": [
    {
     "data": {
      "text/plain": [
       "Unnamed: 0          0\n",
       "track_id            0\n",
       "artists             1\n",
       "album_name          1\n",
       "track_name          1\n",
       "popularity          0\n",
       "duration_ms         0\n",
       "explicit            0\n",
       "danceability        0\n",
       "energy              0\n",
       "key                 0\n",
       "loudness            0\n",
       "mode                0\n",
       "speechiness         0\n",
       "acousticness        0\n",
       "instrumentalness    0\n",
       "liveness            0\n",
       "valence             0\n",
       "tempo               0\n",
       "time_signature      0\n",
       "track_genre         0\n",
       "dtype: int64"
      ]
     },
     "execution_count": 14,
     "metadata": {},
     "output_type": "execute_result"
    }
   ],
   "source": [
    "df.isnull().sum()"
   ]
  },
  {
   "cell_type": "code",
   "execution_count": 15,
   "id": "28efd713-1e22-4594-9794-0942aef09451",
   "metadata": {},
   "outputs": [],
   "source": [
    "df.dropna(inplace=True)"
   ]
  },
  {
   "cell_type": "code",
   "execution_count": 16,
   "id": "6155b3da-1749-43fb-af6a-ba8b3f48ae82",
   "metadata": {},
   "outputs": [
    {
     "data": {
      "text/plain": [
       "Unnamed: 0            int64\n",
       "track_id             object\n",
       "artists              object\n",
       "album_name           object\n",
       "track_name           object\n",
       "popularity            int64\n",
       "duration_ms           int64\n",
       "explicit               bool\n",
       "danceability        float64\n",
       "energy              float64\n",
       "key                   int64\n",
       "loudness            float64\n",
       "mode                  int64\n",
       "speechiness         float64\n",
       "acousticness        float64\n",
       "instrumentalness    float64\n",
       "liveness            float64\n",
       "valence             float64\n",
       "tempo               float64\n",
       "time_signature        int64\n",
       "track_genre          object\n",
       "dtype: object"
      ]
     },
     "execution_count": 16,
     "metadata": {},
     "output_type": "execute_result"
    }
   ],
   "source": [
    "df.dtypes"
   ]
  },
  {
   "cell_type": "markdown",
   "id": "c9787422-f0ff-4a45-bfdf-8be94074048e",
   "metadata": {
    "tags": []
   },
   "source": [
    "#### `Observation and Insight`\n",
    "\n",
    "1. As per the observation there is no need to change the data type of any columns"
   ]
  },
  {
   "cell_type": "code",
   "execution_count": 17,
   "id": "5f1c6c84-459b-4e88-82b1-28efe2bc5c4e",
   "metadata": {},
   "outputs": [
    {
     "name": "stdout",
     "output_type": "stream",
     "text": [
      "<class 'pandas.core.frame.DataFrame'>\n",
      "Int64Index: 113999 entries, 0 to 113999\n",
      "Data columns (total 21 columns):\n",
      " #   Column            Non-Null Count   Dtype  \n",
      "---  ------            --------------   -----  \n",
      " 0   Unnamed: 0        113999 non-null  int64  \n",
      " 1   track_id          113999 non-null  object \n",
      " 2   artists           113999 non-null  object \n",
      " 3   album_name        113999 non-null  object \n",
      " 4   track_name        113999 non-null  object \n",
      " 5   popularity        113999 non-null  int64  \n",
      " 6   duration_ms       113999 non-null  int64  \n",
      " 7   explicit          113999 non-null  bool   \n",
      " 8   danceability      113999 non-null  float64\n",
      " 9   energy            113999 non-null  float64\n",
      " 10  key               113999 non-null  int64  \n",
      " 11  loudness          113999 non-null  float64\n",
      " 12  mode              113999 non-null  int64  \n",
      " 13  speechiness       113999 non-null  float64\n",
      " 14  acousticness      113999 non-null  float64\n",
      " 15  instrumentalness  113999 non-null  float64\n",
      " 16  liveness          113999 non-null  float64\n",
      " 17  valence           113999 non-null  float64\n",
      " 18  tempo             113999 non-null  float64\n",
      " 19  time_signature    113999 non-null  int64  \n",
      " 20  track_genre       113999 non-null  object \n",
      "dtypes: bool(1), float64(9), int64(6), object(5)\n",
      "memory usage: 18.4+ MB\n"
     ]
    }
   ],
   "source": [
    "df.info()"
   ]
  },
  {
   "cell_type": "code",
   "execution_count": null,
   "id": "b777a56f-5aa3-472b-899b-6b147018cac6",
   "metadata": {
    "jupyter": {
     "source_hidden": true
    },
    "tags": []
   },
   "outputs": [],
   "source": []
  },
  {
   "cell_type": "markdown",
   "id": "f606c1da-376a-423f-831f-a8892d603b2d",
   "metadata": {},
   "source": [
    "### `Questions:`"
   ]
  },
  {
   "cell_type": "markdown",
   "id": "853e3d82-9b6a-4b16-bae8-f307d6ea3210",
   "metadata": {},
   "source": [
    "### 1. `Identify the top 5 popular artists based on the mean popularity of their tracks.Show the mean popularity of tracks for the top 5 popular artists Using BarPlot.`"
   ]
  },
  {
   "cell_type": "code",
   "execution_count": 21,
   "id": "b57342a5-6676-4741-9eae-c79d30596248",
   "metadata": {},
   "outputs": [
    {
     "data": {
      "text/html": [
       "<div>\n",
       "<style scoped>\n",
       "    .dataframe tbody tr th:only-of-type {\n",
       "        vertical-align: middle;\n",
       "    }\n",
       "\n",
       "    .dataframe tbody tr th {\n",
       "        vertical-align: top;\n",
       "    }\n",
       "\n",
       "    .dataframe thead th {\n",
       "        text-align: right;\n",
       "    }\n",
       "</style>\n",
       "<table border=\"1\" class=\"dataframe\">\n",
       "  <thead>\n",
       "    <tr style=\"text-align: right;\">\n",
       "      <th></th>\n",
       "      <th>artists</th>\n",
       "      <th>popularity</th>\n",
       "    </tr>\n",
       "  </thead>\n",
       "  <tbody>\n",
       "    <tr>\n",
       "      <th>0</th>\n",
       "      <td>龍藏Ryuzo</td>\n",
       "      <td>21.500000</td>\n",
       "    </tr>\n",
       "    <tr>\n",
       "      <th>1</th>\n",
       "      <td>黃敏華</td>\n",
       "      <td>20.000000</td>\n",
       "    </tr>\n",
       "    <tr>\n",
       "      <th>2</th>\n",
       "      <td>黃小琥</td>\n",
       "      <td>56.000000</td>\n",
       "    </tr>\n",
       "    <tr>\n",
       "      <th>3</th>\n",
       "      <td>黃妃</td>\n",
       "      <td>24.000000</td>\n",
       "    </tr>\n",
       "    <tr>\n",
       "      <th>4</th>\n",
       "      <td>黃仲崑</td>\n",
       "      <td>24.333333</td>\n",
       "    </tr>\n",
       "    <tr>\n",
       "      <th>...</th>\n",
       "      <td>...</td>\n",
       "      <td>...</td>\n",
       "    </tr>\n",
       "    <tr>\n",
       "      <th>31432</th>\n",
       "      <td>$affie</td>\n",
       "      <td>39.000000</td>\n",
       "    </tr>\n",
       "    <tr>\n",
       "      <th>31433</th>\n",
       "      <td>#Kids;Nursery Rhymes;Nursery Rhymes and Kids S...</td>\n",
       "      <td>34.000000</td>\n",
       "    </tr>\n",
       "    <tr>\n",
       "      <th>31434</th>\n",
       "      <td>\"Weird Al\" Yankovic</td>\n",
       "      <td>26.333333</td>\n",
       "    </tr>\n",
       "    <tr>\n",
       "      <th>31435</th>\n",
       "      <td>\"Puppy Dog Pals\" Cast</td>\n",
       "      <td>57.500000</td>\n",
       "    </tr>\n",
       "    <tr>\n",
       "      <th>31436</th>\n",
       "      <td>!nvite</td>\n",
       "      <td>23.000000</td>\n",
       "    </tr>\n",
       "  </tbody>\n",
       "</table>\n",
       "<p>31437 rows × 2 columns</p>\n",
       "</div>"
      ],
      "text/plain": [
       "                                                 artists  popularity\n",
       "0                                                龍藏Ryuzo   21.500000\n",
       "1                                                    黃敏華   20.000000\n",
       "2                                                    黃小琥   56.000000\n",
       "3                                                     黃妃   24.000000\n",
       "4                                                    黃仲崑   24.333333\n",
       "...                                                  ...         ...\n",
       "31432                                             $affie   39.000000\n",
       "31433  #Kids;Nursery Rhymes;Nursery Rhymes and Kids S...   34.000000\n",
       "31434                                \"Weird Al\" Yankovic   26.333333\n",
       "31435                              \"Puppy Dog Pals\" Cast   57.500000\n",
       "31436                                             !nvite   23.000000\n",
       "\n",
       "[31437 rows x 2 columns]"
      ]
     },
     "execution_count": 21,
     "metadata": {},
     "output_type": "execute_result"
    }
   ],
   "source": [
    "Top5_Artist =df.groupby([\"artists\"])[\"popularity\"].mean().sort_index(ascending=False)\n",
    "Top5_Artist.reset_index()"
   ]
  },
  {
   "cell_type": "code",
   "execution_count": 22,
   "id": "56204278-4098-4e5d-93a8-a9a37487cba5",
   "metadata": {},
   "outputs": [
    {
     "data": {
      "image/png": "[encoded data removed]",
      "text/plain": [
       "<Figure size 1200x700 with 1 Axes>"
      ]
     },
     "metadata": {},
     "output_type": "display_data"
    }
   ],
   "source": [
    "plt.figure(figsize=(12,7))\n",
    "sns.barplot(x=Top5_Artist[0:5].index,y=Top5_Artist[0:5].values,data=df,palette=\"Accent_r\")\n",
    "plt.xlabel(\"Artist\")\n",
    "plt.ylabel(\"Popularity\")\n",
    "plt.title(\"Top 5 popular artists based on the mean popularity\")\n",
    "plt.xticks(rotation=90)\n",
    "plt.show()"
   ]
  },
  {
   "cell_type": "markdown",
   "id": "70c12544-d189-4452-8a2e-7d54e75dfdea",
   "metadata": {},
   "source": [
    "#### `Observation and Insight`\n",
    "\n",
    "1. cassö ,Trueno,David Guetta,Travis Scott,¥$ these 5 popular artist based on mean popularity."
   ]
  },
  {
   "cell_type": "markdown",
   "id": "8de6ce75-e40e-4f8e-ac35-afca6c3f77d3",
   "metadata": {},
   "source": [
    "### `2. Determine the top 5 popular songs based on their popularity ratings.Display the popularity ratings of the top 5 popular songs using BarPlot.`"
   ]
  },
  {
   "cell_type": "code",
   "execution_count": null,
   "id": "d9685504-f9cd-4e73-a1cd-5124475f31ba",
   "metadata": {},
   "outputs": [
    {
     "data": {
      "text/html": [
       "<div>\n",
       "<style scoped>\n",
       "    .dataframe tbody tr th:only-of-type {\n",
       "        vertical-align: middle;\n",
       "    }\n",
       "\n",
       "    .dataframe tbody tr th {\n",
       "        vertical-align: top;\n",
       "    }\n",
       "\n",
       "    .dataframe thead th {\n",
       "        text-align: right;\n",
       "    }\n",
       "</style>\n",
       "<table border=\"1\" class=\"dataframe\">\n",
       "  <thead>\n",
       "    <tr style=\"text-align: right;\">\n",
       "      <th></th>\n",
       "      <th>track_name</th>\n",
       "      <th>popularity</th>\n",
       "    </tr>\n",
       "  </thead>\n",
       "  <tbody>\n",
       "    <tr>\n",
       "      <th>0</th>\n",
       "      <td>Alone</td>\n",
       "      <td>1618</td>\n",
       "    </tr>\n",
       "    <tr>\n",
       "      <th>1</th>\n",
       "      <td>Stay</td>\n",
       "      <td>1385</td>\n",
       "    </tr>\n",
       "    <tr>\n",
       "      <th>2</th>\n",
       "      <td>Broken</td>\n",
       "      <td>1344</td>\n",
       "    </tr>\n",
       "    <tr>\n",
       "      <th>3</th>\n",
       "      <td>Numb</td>\n",
       "      <td>1341</td>\n",
       "    </tr>\n",
       "    <tr>\n",
       "      <th>4</th>\n",
       "      <td>Paradise</td>\n",
       "      <td>1251</td>\n",
       "    </tr>\n",
       "    <tr>\n",
       "      <th>...</th>\n",
       "      <td>...</td>\n",
       "      <td>...</td>\n",
       "    </tr>\n",
       "    <tr>\n",
       "      <th>73603</th>\n",
       "      <td>Bajo El Mar</td>\n",
       "      <td>0</td>\n",
       "    </tr>\n",
       "    <tr>\n",
       "      <th>73604</th>\n",
       "      <td>Jingle Bells - Single Version</td>\n",
       "      <td>0</td>\n",
       "    </tr>\n",
       "    <tr>\n",
       "      <th>73605</th>\n",
       "      <td>Jingle Bells - JUZI-Version</td>\n",
       "      <td>0</td>\n",
       "    </tr>\n",
       "    <tr>\n",
       "      <th>73606</th>\n",
       "      <td>Search</td>\n",
       "      <td>0</td>\n",
       "    </tr>\n",
       "    <tr>\n",
       "      <th>73607</th>\n",
       "      <td>Calinda - Original Mix</td>\n",
       "      <td>0</td>\n",
       "    </tr>\n",
       "  </tbody>\n",
       "</table>\n",
       "<p>73608 rows × 2 columns</p>\n",
       "</div>"
      ],
      "text/plain": [
       "                          track_name  popularity\n",
       "0                              Alone        1618\n",
       "1                               Stay        1385\n",
       "2                             Broken        1344\n",
       "3                               Numb        1341\n",
       "4                           Paradise        1251\n",
       "...                              ...         ...\n",
       "73603                    Bajo El Mar           0\n",
       "73604  Jingle Bells - Single Version           0\n",
       "73605    Jingle Bells - JUZI-Version           0\n",
       "73606                         Search           0\n",
       "73607         Calinda - Original Mix           0\n",
       "\n",
       "[73608 rows x 2 columns]"
      ]
     },
     "execution_count": 24,
     "metadata": {},
     "output_type": "execute_result"
    }
   ],
   "source": [
    "Top5_Track_name =df.groupby([\"track_name\"])[\"popularity\"].sum().sort_values(ascending=False)\n",
    "Top5_Track_name.reset_index()"
   ]
  },
  {
   "cell_type": "code",
   "execution_count": 25,
   "id": "08fe1ed8-cb0a-4760-9295-55da436140c4",
   "metadata": {},
   "outputs": [
    {
     "data": {
      "image/png": "[encoded data removed]",
      "text/plain": [
       "<Figure size 1200x700 with 1 Axes>"
      ]
     },
     "metadata": {},
     "output_type": "display_data"
    }
   ],
   "source": [
    "plt.figure(figsize=(12,7))\n",
    "sns.barplot(x=Top5_Track_name.head().index,y=Top5_Track_name.head().values,data=df,palette=\"viridis_r\")\n",
    "plt.xlabel(\"Track name\")\n",
    "plt.ylabel(\"Popularity\")\n",
    "plt.title(\"Top 5 popular Track name based on popularity\")\n",
    "plt.xticks(rotation=90)\n",
    "plt.show()"
   ]
  },
  {
   "cell_type": "markdown",
   "id": "1851b4d3-a082-40ab-bd85-3f24bdd075b8",
   "metadata": {},
   "source": [
    "### `Observation and Insight`\n",
    "\n",
    "1. Alone stay,Broken,numb,paradise all these are most popular song base on thire poularity rating."
   ]
  },
  {
   "cell_type": "markdown",
   "id": "e0fadaa9-cf6c-4d4a-957e-c4f94ead6c55",
   "metadata": {},
   "source": [
    "### `3. Find the top 5 trending genres based on the mean popularity of tracks within each genre.Visualize the mean popularity of tracks for the top 5 trending genres.`"
   ]
  },
  {
   "cell_type": "code",
   "execution_count": 33,
   "id": "0b9d7d44-74a7-4b47-8d6b-173fa8bf1d34",
   "metadata": {},
   "outputs": [
    {
     "data": {
      "text/html": [
       "<div>\n",
       "<style scoped>\n",
       "    .dataframe tbody tr th:only-of-type {\n",
       "        vertical-align: middle;\n",
       "    }\n",
       "\n",
       "    .dataframe tbody tr th {\n",
       "        vertical-align: top;\n",
       "    }\n",
       "\n",
       "    .dataframe thead th {\n",
       "        text-align: right;\n",
       "    }\n",
       "</style>\n",
       "<table border=\"1\" class=\"dataframe\">\n",
       "  <thead>\n",
       "    <tr style=\"text-align: right;\">\n",
       "      <th></th>\n",
       "      <th>track_genre</th>\n",
       "      <th>popularity</th>\n",
       "    </tr>\n",
       "  </thead>\n",
       "  <tbody>\n",
       "    <tr>\n",
       "      <th>0</th>\n",
       "      <td>world-music</td>\n",
       "      <td>41.873</td>\n",
       "    </tr>\n",
       "    <tr>\n",
       "      <th>1</th>\n",
       "      <td>turkish</td>\n",
       "      <td>40.698</td>\n",
       "    </tr>\n",
       "    <tr>\n",
       "      <th>2</th>\n",
       "      <td>trip-hop</td>\n",
       "      <td>34.460</td>\n",
       "    </tr>\n",
       "    <tr>\n",
       "      <th>3</th>\n",
       "      <td>trance</td>\n",
       "      <td>37.635</td>\n",
       "    </tr>\n",
       "    <tr>\n",
       "      <th>4</th>\n",
       "      <td>techno</td>\n",
       "      <td>39.042</td>\n",
       "    </tr>\n",
       "    <tr>\n",
       "      <th>...</th>\n",
       "      <td>...</td>\n",
       "      <td>...</td>\n",
       "    </tr>\n",
       "    <tr>\n",
       "      <th>109</th>\n",
       "      <td>ambient</td>\n",
       "      <td>44.191</td>\n",
       "    </tr>\n",
       "    <tr>\n",
       "      <th>110</th>\n",
       "      <td>alternative</td>\n",
       "      <td>24.337</td>\n",
       "    </tr>\n",
       "    <tr>\n",
       "      <th>111</th>\n",
       "      <td>alt-rock</td>\n",
       "      <td>33.943</td>\n",
       "    </tr>\n",
       "    <tr>\n",
       "      <th>112</th>\n",
       "      <td>afrobeat</td>\n",
       "      <td>24.399</td>\n",
       "    </tr>\n",
       "    <tr>\n",
       "      <th>113</th>\n",
       "      <td>acoustic</td>\n",
       "      <td>42.483</td>\n",
       "    </tr>\n",
       "  </tbody>\n",
       "</table>\n",
       "<p>114 rows × 2 columns</p>\n",
       "</div>"
      ],
      "text/plain": [
       "     track_genre  popularity\n",
       "0    world-music      41.873\n",
       "1        turkish      40.698\n",
       "2       trip-hop      34.460\n",
       "3         trance      37.635\n",
       "4         techno      39.042\n",
       "..           ...         ...\n",
       "109      ambient      44.191\n",
       "110  alternative      24.337\n",
       "111     alt-rock      33.943\n",
       "112     afrobeat      24.399\n",
       "113     acoustic      42.483\n",
       "\n",
       "[114 rows x 2 columns]"
      ]
     },
     "execution_count": 33,
     "metadata": {},
     "output_type": "execute_result"
    }
   ],
   "source": [
    "Top5_genre =df.groupby([\"track_genre\"])[\"popularity\"].mean().sort_index(ascending=False)\n",
    "Top5_genre.reset_index()"
   ]
  },
  {
   "cell_type": "code",
   "execution_count": 34,
   "id": "9da81bc4-63d1-4cf5-9891-164cc1795421",
   "metadata": {},
   "outputs": [
    {
     "data": {
      "image/png": "[encoded data removed]",
      "text/plain": [
       "<Figure size 1200x800 with 1 Axes>"
      ]
     },
     "metadata": {},
     "output_type": "display_data"
    }
   ],
   "source": [
    "plt.figure(figsize=(12,8))\n",
    "sns.barplot(x=Top5_genre.head().index,y=Top5_genre.head().values,data=df,palette=\"bone_r\")\n",
    "plt.xlabel(\"Genre\")\n",
    "plt.ylabel(\"Popularity\")\n",
    "plt.title(\"Top 5 popular genre based on popularity\")\n",
    "plt.show()"
   ]
  },
  {
   "cell_type": "markdown",
   "id": "0a617f2d-3995-49aa-bc91-a3bb8f9b407c",
   "metadata": {},
   "source": [
    "### `Observation and Insight`\n",
    "1. world-music,\n",
    "    tuirkish,\n",
    "    trip-hop genre,\n",
    "    trance ,\n",
    "    techno,\n",
    "\n",
    "these are trending genres base on popularity."
   ]
  },
  {
   "cell_type": "markdown",
   "id": "7613df90-123e-4453-935a-80bab0a743a2",
   "metadata": {
    "tags": []
   },
   "source": [
    "### `4. Identify the top 5 longest songs among the tracks of the top 5 popular artists.Represent the duration of the top 5 longest songs among the tracks of the top 5 popular artists using BarPlot.`"
   ]
  },
  {
   "cell_type": "code",
   "execution_count": 29,
   "id": "2b97299e-b756-49d2-abd1-486b005dff81",
   "metadata": {},
   "outputs": [
    {
     "data": {
      "text/html": [
       "<div>\n",
       "<style scoped>\n",
       "    .dataframe tbody tr th:only-of-type {\n",
       "        vertical-align: middle;\n",
       "    }\n",
       "\n",
       "    .dataframe tbody tr th {\n",
       "        vertical-align: top;\n",
       "    }\n",
       "\n",
       "    .dataframe thead th {\n",
       "        text-align: right;\n",
       "    }\n",
       "</style>\n",
       "<table border=\"1\" class=\"dataframe\">\n",
       "  <thead>\n",
       "    <tr style=\"text-align: right;\">\n",
       "      <th></th>\n",
       "      <th>track_name</th>\n",
       "      <th>duration_ms</th>\n",
       "    </tr>\n",
       "  </thead>\n",
       "  <tbody>\n",
       "    <tr>\n",
       "      <th>0</th>\n",
       "      <td>Run Rudolph Run</td>\n",
       "      <td>24605335</td>\n",
       "    </tr>\n",
       "    <tr>\n",
       "      <th>1</th>\n",
       "      <td>Christmas Time</td>\n",
       "      <td>16785840</td>\n",
       "    </tr>\n",
       "    <tr>\n",
       "      <th>2</th>\n",
       "      <td>Halloween</td>\n",
       "      <td>16031062</td>\n",
       "    </tr>\n",
       "    <tr>\n",
       "      <th>3</th>\n",
       "      <td>RUMBATÓN</td>\n",
       "      <td>14926080</td>\n",
       "    </tr>\n",
       "    <tr>\n",
       "      <th>4</th>\n",
       "      <td>CÓMO SE SIENTE - Remix</td>\n",
       "      <td>14561280</td>\n",
       "    </tr>\n",
       "    <tr>\n",
       "      <th>...</th>\n",
       "      <td>...</td>\n",
       "      <td>...</td>\n",
       "    </tr>\n",
       "    <tr>\n",
       "      <th>73603</th>\n",
       "      <td>V-7</td>\n",
       "      <td>21120</td>\n",
       "    </tr>\n",
       "    <tr>\n",
       "      <th>73604</th>\n",
       "      <td>Andante in C Major, K. 1a</td>\n",
       "      <td>17453</td>\n",
       "    </tr>\n",
       "    <tr>\n",
       "      <th>73605</th>\n",
       "      <td>Screams for a Finale! (feat. Leila's Opera Class)</td>\n",
       "      <td>15800</td>\n",
       "    </tr>\n",
       "    <tr>\n",
       "      <th>73606</th>\n",
       "      <td>V-4</td>\n",
       "      <td>13386</td>\n",
       "    </tr>\n",
       "    <tr>\n",
       "      <th>73607</th>\n",
       "      <td>The Exorsism Begins...</td>\n",
       "      <td>8586</td>\n",
       "    </tr>\n",
       "  </tbody>\n",
       "</table>\n",
       "<p>73608 rows × 2 columns</p>\n",
       "</div>"
      ],
      "text/plain": [
       "                                              track_name  duration_ms\n",
       "0                                        Run Rudolph Run     24605335\n",
       "1                                         Christmas Time     16785840\n",
       "2                                              Halloween     16031062\n",
       "3                                               RUMBATÓN     14926080\n",
       "4                                 CÓMO SE SIENTE - Remix     14561280\n",
       "...                                                  ...          ...\n",
       "73603                                                V-7        21120\n",
       "73604                          Andante in C Major, K. 1a        17453\n",
       "73605  Screams for a Finale! (feat. Leila's Opera Class)        15800\n",
       "73606                                                V-4        13386\n",
       "73607                             The Exorsism Begins...         8586\n",
       "\n",
       "[73608 rows x 2 columns]"
      ]
     },
     "execution_count": 29,
     "metadata": {},
     "output_type": "execute_result"
    }
   ],
   "source": [
    "Top5_longestSong =df.groupby([\"track_name\"])[\"duration_ms\"].sum().sort_values(ascending=False)\n",
    "Top5_longestSong.reset_index()"
   ]
  },
  {
   "cell_type": "code",
   "execution_count": 30,
   "id": "52598109-3e6c-4c7e-b592-1d0997171938",
   "metadata": {},
   "outputs": [
    {
     "data": {
      "image/png": "[encoded data removed]",
      "text/plain": [
       "<Figure size 1200x800 with 1 Axes>"
      ]
     },
     "metadata": {},
     "output_type": "display_data"
    }
   ],
   "source": [
    "plt.figure(figsize=(12,8))\n",
    "sns.barplot(x=Top5_longestSong.head().index,y=Top5_longestSong.head().values,data=df,palette=\"YlGnBu_r\")\n",
    "plt.xlabel(\"Track name\")\n",
    "plt.ylabel(\"Duration ms\")\n",
    "plt.title(\"Top 5 popular Track name based on logest duration\")\n",
    "plt.xticks(rotation=90)\n",
    "plt.show()"
   ]
  },
  {
   "cell_type": "markdown",
   "id": "3f12e436-3778-41c2-b24a-36a6004b547d",
   "metadata": {},
   "source": [
    "### `Obseravtion and Insight`\n",
    "\n",
    "1. Run Rudolph Run\t24605335,\n",
    "    Christmas Time\t16785840,\n",
    "    Halloween\t16031062,\n",
    "    RUMBATÓN\t14926080,\n",
    "    CÓMO SE SIENTE - Remix\t14561280\n",
    "    \n",
    "    these are top 5 Popular song lonest song as per duartion."
   ]
  },
  {
   "cell_type": "markdown",
   "id": "ed511059-3f5a-4a10-8381-aa6eabe25b27",
   "metadata": {},
   "source": [
    "### `5. Determine the top 5 most danceable songs based on their danceability scores.Illustrate the danceability scores of the top 5 most danceable songs using PieChart.`"
   ]
  },
  {
   "cell_type": "code",
   "execution_count": 36,
   "id": "20a930f3-1a3c-4060-bd2a-15c9880e9920",
   "metadata": {},
   "outputs": [
    {
     "data": {
      "text/plain": [
       "Unnamed: 0            int64\n",
       "track_id             object\n",
       "artists              object\n",
       "album_name           object\n",
       "track_name           object\n",
       "popularity            int64\n",
       "duration_ms           int64\n",
       "explicit               bool\n",
       "danceability        float64\n",
       "energy              float64\n",
       "key                   int64\n",
       "loudness            float64\n",
       "mode                  int64\n",
       "speechiness         float64\n",
       "acousticness        float64\n",
       "instrumentalness    float64\n",
       "liveness            float64\n",
       "valence             float64\n",
       "tempo               float64\n",
       "time_signature        int64\n",
       "track_genre          object\n",
       "dtype: object"
      ]
     },
     "execution_count": 36,
     "metadata": {},
     "output_type": "execute_result"
    }
   ],
   "source": [
    "df.dtypes"
   ]
  },
  {
   "cell_type": "code",
   "execution_count": 44,
   "id": "74892e2f-4666-4852-92d8-962a482b6466",
   "metadata": {},
   "outputs": [
    {
     "data": {
      "text/html": [
       "<div>\n",
       "<style scoped>\n",
       "    .dataframe tbody tr th:only-of-type {\n",
       "        vertical-align: middle;\n",
       "    }\n",
       "\n",
       "    .dataframe tbody tr th {\n",
       "        vertical-align: top;\n",
       "    }\n",
       "\n",
       "    .dataframe thead th {\n",
       "        text-align: right;\n",
       "    }\n",
       "</style>\n",
       "<table border=\"1\" class=\"dataframe\">\n",
       "  <thead>\n",
       "    <tr style=\"text-align: right;\">\n",
       "      <th></th>\n",
       "      <th>track_name</th>\n",
       "      <th>danceability</th>\n",
       "    </tr>\n",
       "  </thead>\n",
       "  <tbody>\n",
       "    <tr>\n",
       "      <th>0</th>\n",
       "      <td>Run Rudolph Run</td>\n",
       "      <td>97.871</td>\n",
       "    </tr>\n",
       "    <tr>\n",
       "      <th>1</th>\n",
       "      <td>Last Last</td>\n",
       "      <td>59.625</td>\n",
       "    </tr>\n",
       "    <tr>\n",
       "      <th>2</th>\n",
       "      <td>CÓMO SE SIENTE - Remix</td>\n",
       "      <td>51.648</td>\n",
       "    </tr>\n",
       "    <tr>\n",
       "      <th>3</th>\n",
       "      <td>Frosty The Snowman</td>\n",
       "      <td>48.021</td>\n",
       "    </tr>\n",
       "    <tr>\n",
       "      <th>4</th>\n",
       "      <td>X ÚLTIMA VEZ</td>\n",
       "      <td>47.096</td>\n",
       "    </tr>\n",
       "  </tbody>\n",
       "</table>\n",
       "</div>"
      ],
      "text/plain": [
       "               track_name  danceability\n",
       "0         Run Rudolph Run        97.871\n",
       "1               Last Last        59.625\n",
       "2  CÓMO SE SIENTE - Remix        51.648\n",
       "3      Frosty The Snowman        48.021\n",
       "4            X ÚLTIMA VEZ        47.096"
      ]
     },
     "execution_count": 44,
     "metadata": {},
     "output_type": "execute_result"
    }
   ],
   "source": [
    "Top5_dancebale_song =df.groupby([\"track_name\"])[\"danceability\"].sum().sort_values(ascending=False)\n",
    "Top5_dancebale_song.reset_index().head()"
   ]
  },
  {
   "cell_type": "code",
   "execution_count": 47,
   "id": "af410eda-2c80-45f4-ac66-d03312992aeb",
   "metadata": {},
   "outputs": [
    {
     "data": {
      "image/png": "[encoded data removed]",
      "text/plain": [
       "<Figure size 1200x2000 with 1 Axes>"
      ]
     },
     "metadata": {},
     "output_type": "display_data"
    }
   ],
   "source": [
    "plt.figure(figsize=(12,20))\n",
    "plt.pie(x=Top5_dancebale_song.head(),labels=Top5_dancebale_song.head().index,autopct=\"%1.1f%%\")\n",
    "plt.legend()\n",
    "plt.title(\"Top 5 Danceable song base on danceability score\")\n",
    "plt.show()"
   ]
  },
  {
   "cell_type": "markdown",
   "id": "438750ce-85e0-4a08-ba41-a661d30471ee",
   "metadata": {},
   "source": [
    "### `Observation and Insight `\n",
    "\n",
    "1. Run Rudolph Run --> 32.2% danceability score\n",
    "2. Last Last --->  19.6% \n",
    "3. CÓMO SE SIENTE - Remix ==> 17.0%\n",
    "4. Frosty The Snowman --> 15.8%\n",
    "5. X ÚLTIMA VEZ\t ==> 15.5%"
   ]
  },
  {
   "cell_type": "code",
   "execution_count": null,
   "id": "54a9a896-4f89-4d54-ba9b-a221ceaaa702",
   "metadata": {},
   "outputs": [],
   "source": []
  },
  {
   "cell_type": "code",
   "execution_count": null,
   "id": "0fb6f723-7f37-4ccd-92ac-4617ee8ab6be",
   "metadata": {},
   "outputs": [],
   "source": []
  }
 ],
 "metadata": {
  "kernelspec": {
   "display_name": "Python 3 (ipykernel)",
   "language": "python",
   "name": "python3"
  },
  "language_info": {
   "codemirror_mode": {
    "name": "ipython",
    "version": 3
   },
   "file_extension": ".py",
   "mimetype": "text/x-python",
   "name": "python",
   "nbconvert_exporter": "python",
   "pygments_lexer": "ipython3",
   "version": "3.9.13"
  }
 },
 "nbformat": 4,
 "nbformat_minor": 5
}
